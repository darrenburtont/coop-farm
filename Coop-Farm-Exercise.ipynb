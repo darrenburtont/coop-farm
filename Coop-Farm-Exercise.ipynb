{
 "cells": [
  {
   "cell_type": "markdown",
   "id": "564313ba-9d77-41bd-a866-2f303a09e79a",
   "metadata": {},
   "source": [
    " ## CooP - an organic, free range artisanal heritage chicken farm\n",
    " ___\n",
    " Providing improved packaging with lineage information for each individual bird."
   ]
  },
  {
   "cell_type": "markdown",
   "id": "457fdfdf-ccfe-4810-9b6b-6618aa93f63e",
   "metadata": {
    "jp-MarkdownHeadingCollapsed": true,
    "tags": []
   },
   "source": [
    " ### Data Schema\n",
    " ___\n",
    "<details>\n",
    "    \n",
    "___\n",
    "The Data Schema Represents chicken and egg family trees\n",
    "\n",
    "**Chickens have:**\n",
    "* Chicken ID (C_ID)\n",
    "* Name (Name)\n",
    "* Sex (Rooster or Hen) (Sex)\n",
    "* Feather color (Color)\n",
    "* Favorite song (Favorite_Song)\n",
    "* Each Hen lays eggs\n",
    "* Generation ID (G_ID) int\n",
    "\n",
    "**Eggs have:** \n",
    "* An identification number (E_ID) will end up mapping to C_ID\n",
    "* Location in the incubation hall where hens sit on their eggs. (IH_LOC)\n",
    "* Whether that spot is near a window (as 1/3rd of the spots should be) (NW - Boolean [True, False])\n",
    "* Parent IDs (PH_ID, PR_ID)(Will need to map to C_IDs)\n",
    "\n",
    "**Chicken Genealogy:**\n",
    "* The egg that it came from (E_ID)\n",
    "* Its parents (PH_ID) - (PR_ID), and their eggs - (PHE_ID, PRE_ID)\n",
    "* The Grandparents, etc) - HGPH_ID, HGPR_ID, RGPH_ID, RGPR_ID \n",
    "* any additional columns to the chicken and egg tables or any other way needed.\n",
    "    \n",
    "**Note:**\n",
    "You will probably need more columns than just the above minimum information.\n",
    "    </details>"
   ]
  },
  {
   "cell_type": "markdown",
   "id": "c35df2ca-9103-44fc-99c0-e75046165fbe",
   "metadata": {
    "jp-MarkdownHeadingCollapsed": true,
    "tags": []
   },
   "source": [
    "### Generate data\n",
    "___\n",
    "<details>\n",
    "Two weeks after your starting, all records were destroyed after a ransom malware attack scrambled the database filesystem. Despite the farmworkers trying to remember all the chicken's names, it's impossible to tell them apart now.\n",
    "\n",
    "We need to recreate, (generate fake data) about all chickens currently on the farm (1000 chickens). \\\n",
    "*Some of whom are parents to others.*\n",
    "\n",
    "**Generate the required 1000 records**\n",
    "\n",
    "What can you do to make these records seem as realistic as possible? (have realistic timelines and age)\n",
    "(Feel free to look up data as you need to, but tell us what you looked up?) \n",
    " \n",
    " * Bonus: How could a government official check whether the dataset is faked or not? \n",
    "    (most chicken species have documented egg rates and age before producing egges)\n",
    " * Bonus Bonus: What can you do to cover up these checks?\n",
    "    (use the published ranges with randomization over actual calendar days to make data more realistic) \n",
    "* Bonus Bonus Bonus: What can a government official check to see whether you're covering up their checks. Etc\n",
    "    </details>\n"
   ]
  },
  {
   "cell_type": "markdown",
   "id": "75acfe63-5d2b-4b0d-ace5-031a872b13c6",
   "metadata": {
    "jp-MarkdownHeadingCollapsed": true,
    "tags": []
   },
   "source": [
    " ### Name tags for Guided Tours\n",
    " ___\n",
    " <details>\n",
    "We Give guided tours of the farm and introduce all the chickens to visitors. \n",
    "To make this possible we print tags and attached to each chicken's leg. \n",
    "\n",
    "The Tag includes:\n",
    "\n",
    "* The Chicken's name\n",
    "* Their Favorite song\n",
    "* Their Parents\n",
    "* Their Grandparents\n",
    "* The Location each parent and grand parent was incubated\n",
    "* A randomly selected first cousin of the chicken\n",
    "    \n",
    "    https://github.com/aruljohn/popular-baby-names/blob/master/2000/boy_names_2000.csv \\\n",
    "    https://github.com/fivethirtyeight/data/blob/master/classic-rock/classic-rock-song-list.csv\n",
    "    </details>"
   ]
  },
  {
   "cell_type": "markdown",
   "id": "3b362f0c-9127-4954-a599-dbdac4521ab6",
   "metadata": {
    "tags": []
   },
   "source": [
    "### Bonus\n",
    "___\n",
    "<details>\n",
    "Create a dashboard in Metabase that shows some KPIs for this chicken farm. \n",
    "Please include either a public link or a screenshot.\n",
    "    </details>"
   ]
  },
  {
   "cell_type": "markdown",
   "id": "1b3cbc04-aef5-4301-9626-1cca9257085e",
   "metadata": {
    "tags": []
   },
   "source": [
    "### Assumptions\n",
    "<details>\n",
    "\n",
    "#### Start Date\n",
    "On March 11, 2020, the World Health Organization (WHO) declared COVID-19, the disease caused by the SARS-CoV-2, a pandemic. The announcement followed a rising sense of alarm in the preceding months over a new, potentially lethal virus that was swiftly spreading around the world.\n",
    "\n",
    "#### Hen to Rooster Ratio\n",
    "https://www.thehappychickencoop.com/whats-the-perfect-ratio-of-hens-to-roosters/\n",
    "\n",
    "#### List of Chicken Breeds\n",
    "https://www.typesofchicken.com/best-chickens-for-texas-humidity/\n",
    "\n",
    "https://starmilling.com/poultry-chicken-breeds/#:~:text=There%20are%209%20recognized%20colors,tailed%20Buff%2C%20White%20and%20Columbian.\n",
    "\n",
    "Breeds for Texas\n",
    "Best-egg-laying breed in Texas that doesn’t have the issues with humidity, heat, and fertility yet still lays pretty well, we suggest the Mediterranean sorts:\n",
    "\n",
    "* Ancona\n",
    "* Catalana\n",
    "* Egyptian Fayoumi\n",
    "* Leghorn\n",
    "* Hamburg\n",
    "\n",
    "#### Ancona Details for Texas\n",
    "https://www.typesofchicken.com/keeping-ancona-chickens/\n",
    "    \n",
    "#### Hatching Rates\n",
    "https://rosehillfarm.ca/2020/04/25/incubating-chickeneggs/#:~:text=Eggs%20typically%20hatch%20at%20a,just%20a%20law%20of%20averages\n",
    "    </details>"
   ]
  },
  {
   "cell_type": "code",
   "execution_count": 195,
   "id": "2a432349-6323-49c4-8446-55827ee7d167",
   "metadata": {
    "tags": []
   },
   "outputs": [
    {
     "name": "stdout",
     "output_type": "stream",
     "text": [
      "The sql extension is already loaded. To reload it, use:\n",
      "  %reload_ext sql\n"
     ]
    }
   ],
   "source": [
    "import pandas as pd\n",
    "import datetime\n",
    "from datetime import date\n",
    "from calendar import Calendar, monthrange\n",
    "from dateutil.rrule import rrule, DAILY\n",
    "import uuid\n",
    "import numpy as np\n",
    "np.random.seed(1)\n",
    "import random\n",
    "\n",
    "#We will use duckdb for Metabase analyztics and visualization\n",
    "import duckdb\n",
    "# Import jupysql Jupyter extension to create SQL cells\n",
    "%load_ext sql\n",
    "%config SqlMagic.autopandas = True\n",
    "%config SqlMagic.feedback = False\n",
    "%config SqlMagic.displaycon = False\n",
    "\n",
    "import warnings\n",
    "warnings.filterwarnings('ignore')\n",
    "\n",
    "import plotly.tools as tls\n",
    "import plotly.express as px\n",
    "import plotly.io as pio"
   ]
  },
  {
   "cell_type": "code",
   "execution_count": 196,
   "id": "56565d5e-1b20-46e1-93cf-89704f0be699",
   "metadata": {
    "tags": []
   },
   "outputs": [],
   "source": [
    "## Paramanters\n",
    "\n",
    "start_date = '03/11/2020'\n",
    "start_hen_count =45\n",
    "start_rooster_count = 1\n",
    "\n",
    "breed = 'Anacona' # Anacona is heat tolerant and good for texas\n",
    "color = 'Black&White'   #They are Black with white specs\n",
    "expected_egg_rate_min = 180\n",
    "expected_egg_rate_max = 220\n",
    "\n",
    "min_egg_producing_age = '20 weeks' #5 months\n",
    "anacona_lifespan_min = '8 years'\n",
    "anacona_lifespan_max = '12 years'\n",
    "\n",
    "\n",
    "#Daily Log is the Audit Log of every day since the Farm began operation.\n",
    "#Log can be used to track Month, High&Lo Temps, Humidity, Number of Sunlight Hours, \n",
    "# Number of Eggs collected, Number of Eggs hatched, total number of chickens etc.\n",
    "\n",
    "#Create initial daily log Pandas Dataframe\n",
    "dailylog_df = pd.DataFrame()\n",
    "\n",
    "#Initial Farm Operation Investment (4 hens & 1 rooster)\n",
    "int_hen_list = [['Mary', 'Hen'], ['Pat', 'Hen'], ['Barb', 'Hen'], ['Liz', 'Hen'] ]\n",
    "int_rooster_list = [['Ralph', 'Rooster']]\n",
    "\n",
    "#Location\n",
    "location = [['A', 'False'],['B', 'True'],['C', 'False']]\n",
    "location_df = pd.DataFrame(location, columns = ['IH_Location', 'Near_Window'])\n",
    "\n",
    "#Time delay from purchase to production as we purchased young chicks\n",
    "delay_start = '1 Month or 5 weeks'\n",
    "egg_production_start = '04/15/2020'\n",
    "\n",
    "#Create Empyt Eggs Dataframe from list\n",
    "egg_columns = ['E_ID', 'PH_ID', 'PR_ID', 'IH_LOC', 'NW' ]\n",
    "egg_df = pd.DataFrame(columns=['E_ID', 'PH_Name', 'PH_ID', 'PR_ID', 'IH_LOC', 'NW' ])\n",
    "\n",
    "#Songs Table - additional attributes can be uese to plot and analyze\n",
    "songs_df = pd.read_csv('Coop/songlist.csv')\n",
    "\n",
    "hens_names = pd.read_csv('Coop/census-female-names.csv', usecols=[0], header=None)\n",
    "rooster_names = pd.read_csv('Coop/boy_names_2000.csv', usecols=[1], header=None)\n",
    "\n",
    "sex_list = ['Rooster', 'Hen']\n",
    "rooster_names_list = rooster_names[1].tolist()\n",
    "hen_names_list = hens_names[0].tolist()\n",
    "\n"
   ]
  },
  {
   "cell_type": "code",
   "execution_count": 197,
   "id": "56c983e4-8329-47ca-a665-2ea1a6bf6b9d",
   "metadata": {
    "tags": []
   },
   "outputs": [],
   "source": [
    "#Convert Near_Window to Boolean Values\n",
    "location_df['Near_Window'] = location_df['Near_Window'].map({'False':False, 'True':True})"
   ]
  },
  {
   "cell_type": "code",
   "execution_count": 198,
   "id": "349bd6ca-13a9-43d9-8263-9448f23320c6",
   "metadata": {
    "tags": []
   },
   "outputs": [
    {
     "name": "stdout",
     "output_type": "stream",
     "text": [
      "min_rate/day =  0.4931506849315068 \n",
      "max_rate/day =  0.6027397260273972\n"
     ]
    }
   ],
   "source": [
    "#Egg Production Rates\n",
    "egg_rate_min = expected_egg_rate_min / 365\n",
    "egg_rate_max = expected_egg_rate_max / 365\n",
    "print(\"min_rate/day = \", egg_rate_min, \"\\nmax_rate/day = \", egg_rate_max)"
   ]
  },
  {
   "cell_type": "code",
   "execution_count": 199,
   "id": "7c217ef8-6cce-4896-85aa-c63cf7dc3fda",
   "metadata": {
    "tags": []
   },
   "outputs": [],
   "source": [
    "#Create initial Chicken Dataframe from investment:\n",
    "\n",
    "chicken_list = int_hen_list + int_rooster_list\n",
    "\n",
    "df = pd.DataFrame (chicken_list, columns = ['Name', 'Sex'])\n",
    "df['Color'] = 'Black&White'\n",
    "#df"
   ]
  },
  {
   "cell_type": "code",
   "execution_count": 200,
   "id": "e5027e79-11c5-4626-a360-e032759788c3",
   "metadata": {
    "tags": []
   },
   "outputs": [],
   "source": [
    "#Egg Rate Per Chicken (Rooster = 0)\n",
    "#egg_rate_min egg_rate_max\n",
    "\n",
    "#Randomly Assign Egg Rate to Hens in Base Family\n",
    "rate = np.random.randint(expected_egg_rate_min, expected_egg_rate_max, size=4)\n",
    "df['egg_rate_per_year'] = pd.DataFrame(rate, columns=['egg_rate'])"
   ]
  },
  {
   "cell_type": "code",
   "execution_count": null,
   "id": "b952301e-0544-4649-8a26-ddd2005fbfb6",
   "metadata": {
    "tags": []
   },
   "outputs": [],
   "source": []
  },
  {
   "cell_type": "markdown",
   "id": "17e3b234-c2ea-4fc9-8d71-488a35663cff",
   "metadata": {},
   "source": [
    "___"
   ]
  },
  {
   "cell_type": "markdown",
   "id": "95ee7569-9aa2-4edb-a721-00df5b11cf89",
   "metadata": {
    "tags": []
   },
   "source": [
    "### Initial Flock\n",
    "The initial investment, Flock Size consisted of 4 Hens and 1 Rooster"
   ]
  },
  {
   "cell_type": "code",
   "execution_count": 201,
   "id": "aa943432-0647-492a-8cde-412675040c96",
   "metadata": {
    "tags": []
   },
   "outputs": [
    {
     "data": {
      "text/html": [
       "<div>\n",
       "<style scoped>\n",
       "    .dataframe tbody tr th:only-of-type {\n",
       "        vertical-align: middle;\n",
       "    }\n",
       "\n",
       "    .dataframe tbody tr th {\n",
       "        vertical-align: top;\n",
       "    }\n",
       "\n",
       "    .dataframe thead th {\n",
       "        text-align: right;\n",
       "    }\n",
       "</style>\n",
       "<table border=\"1\" class=\"dataframe\">\n",
       "  <thead>\n",
       "    <tr style=\"text-align: right;\">\n",
       "      <th></th>\n",
       "      <th>Name</th>\n",
       "      <th>Sex</th>\n",
       "      <th>Color</th>\n",
       "      <th>egg_rate_per_year</th>\n",
       "    </tr>\n",
       "  </thead>\n",
       "  <tbody>\n",
       "    <tr>\n",
       "      <th>0</th>\n",
       "      <td>Mary</td>\n",
       "      <td>Hen</td>\n",
       "      <td>Black&amp;White</td>\n",
       "      <td>217.0</td>\n",
       "    </tr>\n",
       "    <tr>\n",
       "      <th>1</th>\n",
       "      <td>Pat</td>\n",
       "      <td>Hen</td>\n",
       "      <td>Black&amp;White</td>\n",
       "      <td>192.0</td>\n",
       "    </tr>\n",
       "    <tr>\n",
       "      <th>2</th>\n",
       "      <td>Barb</td>\n",
       "      <td>Hen</td>\n",
       "      <td>Black&amp;White</td>\n",
       "      <td>188.0</td>\n",
       "    </tr>\n",
       "    <tr>\n",
       "      <th>3</th>\n",
       "      <td>Liz</td>\n",
       "      <td>Hen</td>\n",
       "      <td>Black&amp;White</td>\n",
       "      <td>189.0</td>\n",
       "    </tr>\n",
       "    <tr>\n",
       "      <th>4</th>\n",
       "      <td>Ralph</td>\n",
       "      <td>Rooster</td>\n",
       "      <td>Black&amp;White</td>\n",
       "      <td>NaN</td>\n",
       "    </tr>\n",
       "  </tbody>\n",
       "</table>\n",
       "</div>"
      ],
      "text/plain": [
       "    Name      Sex        Color  egg_rate_per_year\n",
       "0   Mary      Hen  Black&White              217.0\n",
       "1    Pat      Hen  Black&White              192.0\n",
       "2   Barb      Hen  Black&White              188.0\n",
       "3    Liz      Hen  Black&White              189.0\n",
       "4  Ralph  Rooster  Black&White                NaN"
      ]
     },
     "execution_count": 201,
     "metadata": {},
     "output_type": "execute_result"
    }
   ],
   "source": [
    "df.head(5)"
   ]
  },
  {
   "cell_type": "markdown",
   "id": "e5385aa4-6897-4519-b5e4-f65ec02088e2",
   "metadata": {},
   "source": [
    "___"
   ]
  },
  {
   "cell_type": "markdown",
   "id": "cf3e3dc0-784f-47f4-a669-d420903de676",
   "metadata": {
    "tags": []
   },
   "source": [
    "#### Generate Unique IDs for each bird in the Initial Flock"
   ]
  },
  {
   "cell_type": "code",
   "execution_count": 202,
   "id": "8951a673-cf52-4b48-9c4a-edbe7c0099e4",
   "metadata": {
    "tags": []
   },
   "outputs": [],
   "source": [
    "#Map initial Family to unique Chicken_IDs\n",
    "#generate the number of IDs that are needed to be applied to each bird with a unique ID\n",
    "names = df['Name'].tolist()\n",
    "\n",
    "# generte Unique ids\n",
    "ids = np.random.randint(low=1e6, high=1e9, size = len(names))\n",
    "\n",
    "# maps ids to names\n",
    "maps = {k:v for k,v in zip(names, ids)}\n",
    "\n",
    "# add new id column\n",
    "df['C_ID'] = df[['Name']].agg(' '.join, 1).map(maps)\n",
    "\n",
    "#Add Generation to Table - Initial_Flock, Gen1, Gen2, Gen3, Gen4\n",
    "#The Generation column will help us track the operation growth and family, etc.\n",
    "#Assign Initial_Flock to our initila flock birds\n",
    "df['Generation'] = \"Initial_Flock\""
   ]
  },
  {
   "cell_type": "code",
   "execution_count": 203,
   "id": "1496325a-f30f-4d27-92ad-03d3aaa8dc74",
   "metadata": {
    "tags": []
   },
   "outputs": [
    {
     "data": {
      "text/html": [
       "<div>\n",
       "<style scoped>\n",
       "    .dataframe tbody tr th:only-of-type {\n",
       "        vertical-align: middle;\n",
       "    }\n",
       "\n",
       "    .dataframe tbody tr th {\n",
       "        vertical-align: top;\n",
       "    }\n",
       "\n",
       "    .dataframe thead th {\n",
       "        text-align: right;\n",
       "    }\n",
       "</style>\n",
       "<table border=\"1\" class=\"dataframe\">\n",
       "  <thead>\n",
       "    <tr style=\"text-align: right;\">\n",
       "      <th></th>\n",
       "      <th>Name</th>\n",
       "      <th>Sex</th>\n",
       "      <th>Color</th>\n",
       "      <th>egg_rate_per_year</th>\n",
       "      <th>C_ID</th>\n",
       "      <th>Generation</th>\n",
       "    </tr>\n",
       "  </thead>\n",
       "  <tbody>\n",
       "    <tr>\n",
       "      <th>0</th>\n",
       "      <td>Mary</td>\n",
       "      <td>Hen</td>\n",
       "      <td>Black&amp;White</td>\n",
       "      <td>217.0</td>\n",
       "      <td>225766667</td>\n",
       "      <td>Initial_Flock</td>\n",
       "    </tr>\n",
       "    <tr>\n",
       "      <th>1</th>\n",
       "      <td>Pat</td>\n",
       "      <td>Hen</td>\n",
       "      <td>Black&amp;White</td>\n",
       "      <td>192.0</td>\n",
       "      <td>631311759</td>\n",
       "      <td>Initial_Flock</td>\n",
       "    </tr>\n",
       "    <tr>\n",
       "      <th>2</th>\n",
       "      <td>Barb</td>\n",
       "      <td>Hen</td>\n",
       "      <td>Black&amp;White</td>\n",
       "      <td>188.0</td>\n",
       "      <td>397591248</td>\n",
       "      <td>Initial_Flock</td>\n",
       "    </tr>\n",
       "    <tr>\n",
       "      <th>3</th>\n",
       "      <td>Liz</td>\n",
       "      <td>Hen</td>\n",
       "      <td>Black&amp;White</td>\n",
       "      <td>189.0</td>\n",
       "      <td>630559425</td>\n",
       "      <td>Initial_Flock</td>\n",
       "    </tr>\n",
       "    <tr>\n",
       "      <th>4</th>\n",
       "      <td>Ralph</td>\n",
       "      <td>Rooster</td>\n",
       "      <td>Black&amp;White</td>\n",
       "      <td>NaN</td>\n",
       "      <td>800981516</td>\n",
       "      <td>Initial_Flock</td>\n",
       "    </tr>\n",
       "  </tbody>\n",
       "</table>\n",
       "</div>"
      ],
      "text/plain": [
       "    Name      Sex        Color  egg_rate_per_year       C_ID     Generation\n",
       "0   Mary      Hen  Black&White              217.0  225766667  Initial_Flock\n",
       "1    Pat      Hen  Black&White              192.0  631311759  Initial_Flock\n",
       "2   Barb      Hen  Black&White              188.0  397591248  Initial_Flock\n",
       "3    Liz      Hen  Black&White              189.0  630559425  Initial_Flock\n",
       "4  Ralph  Rooster  Black&White                NaN  800981516  Initial_Flock"
      ]
     },
     "execution_count": 203,
     "metadata": {},
     "output_type": "execute_result"
    }
   ],
   "source": [
    "#Uncomment to show Birds with Names and IDs\n",
    "df"
   ]
  },
  {
   "cell_type": "markdown",
   "id": "fdda859b-9eb8-4b2d-ab81-8066c2cbcb6b",
   "metadata": {},
   "source": [
    "#### Generating egg generation rates and totals eggs of initial Flock"
   ]
  },
  {
   "cell_type": "code",
   "execution_count": 204,
   "id": "b3fd920e-a6bf-425d-a3c8-73232d691515",
   "metadata": {
    "tags": []
   },
   "outputs": [],
   "source": [
    "#Calculate end-date using today's date\n",
    "end_date = date.today()\n",
    "today = date.today()"
   ]
  },
  {
   "cell_type": "code",
   "execution_count": 205,
   "id": "50d8c1e5-69c7-4e06-96f1-972241208e75",
   "metadata": {
    "tags": []
   },
   "outputs": [],
   "source": [
    "# initializing the start and end date\n",
    "start_date = date(2020, 4, 15)\n",
    "end_date = date(2020, 3, 31)"
   ]
  },
  {
   "cell_type": "code",
   "execution_count": 206,
   "id": "b8b7d4d4-a644-4ff9-8208-2606cc723877",
   "metadata": {
    "tags": []
   },
   "outputs": [],
   "source": [
    "# iterating over the dates\n",
    "#for d in rrule(DAILY, dtstart=start_date, until=end_date):\n",
    " #   print(d.strftime(\"%Y-%m-%d\"))"
   ]
  },
  {
   "cell_type": "markdown",
   "id": "5bdbbac0-308f-4823-baba-4eaf39b37206",
   "metadata": {},
   "source": [
    "___\n",
    "Use pandas to Iterate through a range of dates \\\n",
    "use the Pandas date_range() function method. It returns a fixed frequency DatetimeIndex.\n",
    "Syntax: pandas.date_range(start, end)\n",
    "\n",
    "Parameter:\\\n",
    "start is the starting date \\\n",
    "end is the ending date"
   ]
  },
  {
   "cell_type": "markdown",
   "id": "db3a9da6-a629-4521-b7f0-c20596e4a3d3",
   "metadata": {},
   "source": [
    "#### Generate a Daily Farm Log that can be used to track daily operations"
   ]
  },
  {
   "cell_type": "code",
   "execution_count": 207,
   "id": "2b5579b3-53fd-4062-ae53-ac59ffda10e6",
   "metadata": {
    "tags": []
   },
   "outputs": [],
   "source": [
    "# specify the start date is 2021 jan 1 st\n",
    "# specify the end date is 2021 feb 1 st\n",
    "dailylog_df['Dates']= pd.date_range(start='04/15/2020', end=today)"
   ]
  },
  {
   "cell_type": "code",
   "execution_count": 208,
   "id": "585f8fd1-d65c-44d3-93c4-fede90eaaf0b",
   "metadata": {
    "tags": []
   },
   "outputs": [],
   "source": [
    "df['diff_years'] = (dailylog_df.iloc[-1]['Dates'] - dailylog_df.iloc[0]['Dates']) / np.timedelta64(1, 'Y')\n",
    "df['egg_count'] = df['egg_rate_per_year'] * df['diff_years']"
   ]
  },
  {
   "cell_type": "code",
   "execution_count": 209,
   "id": "e75a58d6-59d0-4d28-9277-c4d076a981cc",
   "metadata": {
    "tags": []
   },
   "outputs": [
    {
     "name": "stdout",
     "output_type": "stream",
     "text": [
      "The total number of Farm Operations Days to date: 1050\n"
     ]
    }
   ],
   "source": [
    "print(\"The total number of Farm Operations Days to date:\", dailylog_df.shape[0])"
   ]
  },
  {
   "cell_type": "markdown",
   "id": "b5c5cbdc-2b18-46a2-a2af-4e3c0aadc87b",
   "metadata": {
    "tags": []
   },
   "source": [
    "This provides an expectation on the number of total eggs from the Initial Flock since the start of Farm Operations"
   ]
  },
  {
   "cell_type": "code",
   "execution_count": 210,
   "id": "47672fe0-8cc2-4565-8940-eb3f421e7d38",
   "metadata": {
    "tags": []
   },
   "outputs": [
    {
     "data": {
      "text/html": [
       "<div>\n",
       "<style scoped>\n",
       "    .dataframe tbody tr th:only-of-type {\n",
       "        vertical-align: middle;\n",
       "    }\n",
       "\n",
       "    .dataframe tbody tr th {\n",
       "        vertical-align: top;\n",
       "    }\n",
       "\n",
       "    .dataframe thead th {\n",
       "        text-align: right;\n",
       "    }\n",
       "</style>\n",
       "<table border=\"1\" class=\"dataframe\">\n",
       "  <thead>\n",
       "    <tr style=\"text-align: right;\">\n",
       "      <th></th>\n",
       "      <th>Name</th>\n",
       "      <th>Sex</th>\n",
       "      <th>Color</th>\n",
       "      <th>egg_rate_per_year</th>\n",
       "      <th>C_ID</th>\n",
       "      <th>Generation</th>\n",
       "      <th>diff_years</th>\n",
       "      <th>egg_count</th>\n",
       "    </tr>\n",
       "  </thead>\n",
       "  <tbody>\n",
       "    <tr>\n",
       "      <th>0</th>\n",
       "      <td>Mary</td>\n",
       "      <td>Hen</td>\n",
       "      <td>Black&amp;White</td>\n",
       "      <td>217.0</td>\n",
       "      <td>225766667</td>\n",
       "      <td>Initial_Flock</td>\n",
       "      <td>2.872064</td>\n",
       "      <td>623.237986</td>\n",
       "    </tr>\n",
       "    <tr>\n",
       "      <th>1</th>\n",
       "      <td>Pat</td>\n",
       "      <td>Hen</td>\n",
       "      <td>Black&amp;White</td>\n",
       "      <td>192.0</td>\n",
       "      <td>631311759</td>\n",
       "      <td>Initial_Flock</td>\n",
       "      <td>2.872064</td>\n",
       "      <td>551.436374</td>\n",
       "    </tr>\n",
       "    <tr>\n",
       "      <th>2</th>\n",
       "      <td>Barb</td>\n",
       "      <td>Hen</td>\n",
       "      <td>Black&amp;White</td>\n",
       "      <td>188.0</td>\n",
       "      <td>397591248</td>\n",
       "      <td>Initial_Flock</td>\n",
       "      <td>2.872064</td>\n",
       "      <td>539.948117</td>\n",
       "    </tr>\n",
       "    <tr>\n",
       "      <th>3</th>\n",
       "      <td>Liz</td>\n",
       "      <td>Hen</td>\n",
       "      <td>Black&amp;White</td>\n",
       "      <td>189.0</td>\n",
       "      <td>630559425</td>\n",
       "      <td>Initial_Flock</td>\n",
       "      <td>2.872064</td>\n",
       "      <td>542.820181</td>\n",
       "    </tr>\n",
       "    <tr>\n",
       "      <th>4</th>\n",
       "      <td>Ralph</td>\n",
       "      <td>Rooster</td>\n",
       "      <td>Black&amp;White</td>\n",
       "      <td>NaN</td>\n",
       "      <td>800981516</td>\n",
       "      <td>Initial_Flock</td>\n",
       "      <td>2.872064</td>\n",
       "      <td>NaN</td>\n",
       "    </tr>\n",
       "  </tbody>\n",
       "</table>\n",
       "</div>"
      ],
      "text/plain": [
       "    Name      Sex        Color  egg_rate_per_year       C_ID     Generation  \\\n",
       "0   Mary      Hen  Black&White              217.0  225766667  Initial_Flock   \n",
       "1    Pat      Hen  Black&White              192.0  631311759  Initial_Flock   \n",
       "2   Barb      Hen  Black&White              188.0  397591248  Initial_Flock   \n",
       "3    Liz      Hen  Black&White              189.0  630559425  Initial_Flock   \n",
       "4  Ralph  Rooster  Black&White                NaN  800981516  Initial_Flock   \n",
       "\n",
       "   diff_years   egg_count  \n",
       "0    2.872064  623.237986  \n",
       "1    2.872064  551.436374  \n",
       "2    2.872064  539.948117  \n",
       "3    2.872064  542.820181  \n",
       "4    2.872064         NaN  "
      ]
     },
     "execution_count": 210,
     "metadata": {},
     "output_type": "execute_result"
    }
   ],
   "source": [
    "df.head()"
   ]
  },
  {
   "cell_type": "code",
   "execution_count": 211,
   "id": "3d6856a6-5065-44b2-a5f9-8e47c0349b59",
   "metadata": {
    "tags": []
   },
   "outputs": [],
   "source": [
    "#Round Egg Count down as egg counts have to be a whole number, Int.\n",
    "df['egg_count_round'] = df['egg_count'].apply(np.floor)\n",
    "\n",
    "#Create a seperate Hens and Rooster Table for reporting and Management.\n",
    "hens_df = df[df['Sex'].str.match('Hen')]\n",
    "roosters_df = df[df['Sex'].str.match('Rooster')]\n",
    "\n",
    "#Convert the egg_count from Floats to Integers\n",
    "hens_df['egg_count_round'] = hens_df['egg_count_round'].astype(int)"
   ]
  },
  {
   "cell_type": "code",
   "execution_count": 212,
   "id": "96b0ab99-a7bf-45a4-9661-0bd2f5f77e07",
   "metadata": {
    "tags": []
   },
   "outputs": [
    {
     "name": "stdout",
     "output_type": "stream",
     "text": [
      "We expect the initial Flock has produced the following number of Eggs by this time:\n"
     ]
    },
    {
     "data": {
      "text/plain": [
       "2255"
      ]
     },
     "execution_count": 212,
     "metadata": {},
     "output_type": "execute_result"
    }
   ],
   "source": [
    "#Generate the toal Egg expectancy from the Initial Flock which will be used to generate the Eggs Table.\n",
    "print(\"We expect the initial Flock has produced the following number of Eggs by this time:\")\n",
    "hens_df['egg_count_round'].sum()"
   ]
  },
  {
   "cell_type": "code",
   "execution_count": 213,
   "id": "eb63bdc6-aefd-4cb8-98eb-78d9cd971e28",
   "metadata": {
    "tags": []
   },
   "outputs": [],
   "source": [
    "#Uncommend to show the current Hens Table.\n",
    "#hens_df"
   ]
  },
  {
   "cell_type": "code",
   "execution_count": 214,
   "id": "1d31ffbb-8e82-43dc-a274-f43896ec2460",
   "metadata": {
    "tags": []
   },
   "outputs": [
    {
     "name": "stdout",
     "output_type": "stream",
     "text": [
      "The current Egg Table contains the following Columns:\n"
     ]
    },
    {
     "data": {
      "text/plain": [
       "Index(['E_ID', 'PH_Name', 'PH_ID', 'PR_ID', 'IH_LOC', 'NW'], dtype='object')"
      ]
     },
     "execution_count": 214,
     "metadata": {},
     "output_type": "execute_result"
    }
   ],
   "source": [
    "print(\"The current Egg Table contains the following Columns:\")\n",
    "egg_df.columns"
   ]
  },
  {
   "cell_type": "code",
   "execution_count": 215,
   "id": "68f96c54-9a8b-4ae5-b537-341e0ccef373",
   "metadata": {
    "tags": []
   },
   "outputs": [
    {
     "name": "stdout",
     "output_type": "stream",
     "text": [
      "The current Location Table contains the following Columns:\n"
     ]
    },
    {
     "data": {
      "text/plain": [
       "Index(['IH_Location', 'Near_Window'], dtype='object')"
      ]
     },
     "execution_count": 215,
     "metadata": {},
     "output_type": "execute_result"
    }
   ],
   "source": [
    "print(\"The current Location Table contains the following Columns:\")\n",
    "location_df.columns"
   ]
  },
  {
   "cell_type": "code",
   "execution_count": 216,
   "id": "0088a469-c38e-4860-8745-8c5db6e0a157",
   "metadata": {
    "tags": []
   },
   "outputs": [],
   "source": [
    "#Uncomment to show the current Rooster Table:\n",
    "#roosters_df"
   ]
  },
  {
   "cell_type": "markdown",
   "id": "fc5d2ad5-f370-4278-b880-c4f2df8dfbb4",
   "metadata": {},
   "source": [
    "___"
   ]
  },
  {
   "cell_type": "markdown",
   "id": "f4ad8357-5acd-4a7d-9700-a748213d3cba",
   "metadata": {},
   "source": [
    "### Generate First Generation Eggs"
   ]
  },
  {
   "cell_type": "code",
   "execution_count": 217,
   "id": "4c390146-6298-4155-ab30-749d36448153",
   "metadata": {
    "tags": []
   },
   "outputs": [
    {
     "name": "stdout",
     "output_type": "stream",
     "text": [
      "Looping through each Hen and their associated egg counts per Hen to generate the Egg Table\n",
      "Mary 623\n",
      "Pat 551\n",
      "Barb 539\n",
      "Liz 542\n"
     ]
    }
   ],
   "source": [
    "print(\"Looping through each Hen and their associated egg counts per Hen to generate the Egg Table\")\n",
    "#eggs_df = pd.DataFrame()\n",
    "\n",
    "#convert location table to a list to radomonly assign egg location - egg can only have 1 of three locations based on assumptions.\n",
    "location_list = location_df['IH_Location'].tolist()\n",
    "number_of_samples = 1\n",
    "NW = 'False'\n",
    "\n",
    "#Convert Rooster table to List to radomon aassign Rooster to Egg:\n",
    "rooster_list = roosters_df['C_ID'].tolist()\n",
    "\n",
    "for index, row in hens_df.iterrows():\n",
    "    eggs_per_hen = row['egg_count_round']\n",
    "    hen = row['Name']\n",
    "    PH_ID = row['C_ID']\n",
    "    #print(row['egg_count_round'])\n",
    "    print( row['Name'], eggs_per_hen)\n",
    "    \n",
    "    for i in range(eggs_per_hen):\n",
    "        #Create a new random Egg ID - E_ID\n",
    "        # generte random integer ids\n",
    "        # generate egg id\n",
    "        E_ID = np.random.randint(low=1e3, high=1e9)\n",
    "        #generate Parent Rooster ID - PR_ID\n",
    "        PR_ID = random.choices(population=rooster_list, k=number_of_samples)\n",
    "        \n",
    "        #Generate Location and assign to each egg\n",
    "        IH_LOC = random.choices(population=location_list, k=number_of_samples)\n",
    "                        \n",
    "        #Append each egg to the Egg Table:\n",
    "        egg_df = egg_df.append(pd.DataFrame({'E_ID': E_ID, 'PH_Name': hen, 'PH_ID': PH_ID, 'PR_ID': PR_ID, 'IH_LOC': IH_LOC, 'NW': NW}, index=[0]), ignore_index=True)"
   ]
  },
  {
   "cell_type": "code",
   "execution_count": 218,
   "id": "3f362a5f-454c-4d86-b7a1-de0d897cc8e9",
   "metadata": {
    "tags": []
   },
   "outputs": [],
   "source": [
    "#Add Parent_Gen Column to the Egg Table: The initial entry will be Initial_Flock, Gen1, Gen2, Gen3, Gen4\n",
    "#The Parent_Gen column will help track the operation growth and family, etc.\n",
    "#Assign Initial_Flock to our initila flock birds\n",
    "egg_df['Parent_Gen'] = \"Initial_Flock\""
   ]
  },
  {
   "cell_type": "code",
   "execution_count": 219,
   "id": "3619929e-ce37-434f-9ade-125cf210d3b6",
   "metadata": {
    "tags": []
   },
   "outputs": [
    {
     "name": "stdout",
     "output_type": "stream",
     "text": [
      "The Inital Flock has generated 2255 total eggs and added to the Egg Table\n"
     ]
    }
   ],
   "source": [
    "print(\"The Inital Flock has generated\", egg_df.shape[0] ,\"total eggs and added to the Egg Table\")"
   ]
  },
  {
   "cell_type": "code",
   "execution_count": 220,
   "id": "015793b2-e396-4d23-bc82-6c39f8159753",
   "metadata": {
    "tags": []
   },
   "outputs": [
    {
     "name": "stdout",
     "output_type": "stream",
     "text": [
      "The total number of unique Egg IDs: 2255\n"
     ]
    }
   ],
   "source": [
    "print(\"The total number of unique Egg IDs:\", egg_df['E_ID'].nunique())"
   ]
  },
  {
   "cell_type": "code",
   "execution_count": 221,
   "id": "c8d06f2a-4930-451d-b91d-7aad9f3a464a",
   "metadata": {
    "tags": []
   },
   "outputs": [
    {
     "data": {
      "text/html": [
       "<div>\n",
       "<style scoped>\n",
       "    .dataframe tbody tr th:only-of-type {\n",
       "        vertical-align: middle;\n",
       "    }\n",
       "\n",
       "    .dataframe tbody tr th {\n",
       "        vertical-align: top;\n",
       "    }\n",
       "\n",
       "    .dataframe thead th {\n",
       "        text-align: right;\n",
       "    }\n",
       "</style>\n",
       "<table border=\"1\" class=\"dataframe\">\n",
       "  <thead>\n",
       "    <tr style=\"text-align: right;\">\n",
       "      <th></th>\n",
       "      <th>E_ID</th>\n",
       "      <th>PH_Name</th>\n",
       "      <th>PH_ID</th>\n",
       "      <th>PR_ID</th>\n",
       "      <th>IH_LOC</th>\n",
       "      <th>NW</th>\n",
       "      <th>Parent_Gen</th>\n",
       "    </tr>\n",
       "  </thead>\n",
       "  <tbody>\n",
       "    <tr>\n",
       "      <th>0</th>\n",
       "      <td>592323119</td>\n",
       "      <td>Mary</td>\n",
       "      <td>225766667</td>\n",
       "      <td>800981516</td>\n",
       "      <td>C</td>\n",
       "      <td>False</td>\n",
       "      <td>Initial_Flock</td>\n",
       "    </tr>\n",
       "    <tr>\n",
       "      <th>1</th>\n",
       "      <td>410431189</td>\n",
       "      <td>Mary</td>\n",
       "      <td>225766667</td>\n",
       "      <td>800981516</td>\n",
       "      <td>A</td>\n",
       "      <td>False</td>\n",
       "      <td>Initial_Flock</td>\n",
       "    </tr>\n",
       "  </tbody>\n",
       "</table>\n",
       "</div>"
      ],
      "text/plain": [
       "        E_ID PH_Name      PH_ID      PR_ID IH_LOC     NW     Parent_Gen\n",
       "0  592323119    Mary  225766667  800981516      C  False  Initial_Flock\n",
       "1  410431189    Mary  225766667  800981516      A  False  Initial_Flock"
      ]
     },
     "execution_count": 221,
     "metadata": {},
     "output_type": "execute_result"
    }
   ],
   "source": [
    "egg_df.head(2)"
   ]
  },
  {
   "cell_type": "code",
   "execution_count": 263,
   "id": "88108fbd-7a3c-4c14-abbc-a665481a6d28",
   "metadata": {
    "tags": []
   },
   "outputs": [
    {
     "data": {
      "text/html": [
       "<div>\n",
       "<style scoped>\n",
       "    .dataframe tbody tr th:only-of-type {\n",
       "        vertical-align: middle;\n",
       "    }\n",
       "\n",
       "    .dataframe tbody tr th {\n",
       "        vertical-align: top;\n",
       "    }\n",
       "\n",
       "    .dataframe thead th {\n",
       "        text-align: right;\n",
       "    }\n",
       "</style>\n",
       "<table border=\"1\" class=\"dataframe\">\n",
       "  <thead>\n",
       "    <tr style=\"text-align: right;\">\n",
       "      <th></th>\n",
       "      <th>E_ID</th>\n",
       "      <th>PH_Name</th>\n",
       "      <th>PH_ID</th>\n",
       "      <th>PR_ID</th>\n",
       "      <th>IH_LOC</th>\n",
       "      <th>NW</th>\n",
       "      <th>Parent_Gen</th>\n",
       "    </tr>\n",
       "  </thead>\n",
       "  <tbody>\n",
       "  </tbody>\n",
       "</table>\n",
       "</div>"
      ],
      "text/plain": [
       "Empty DataFrame\n",
       "Columns: [E_ID, PH_Name, PH_ID, PR_ID, IH_LOC, NW, Parent_Gen]\n",
       "Index: []"
      ]
     },
     "execution_count": 263,
     "metadata": {},
     "output_type": "execute_result"
    }
   ],
   "source": [
    "#Check for duplicate IDs\n",
    "egg_df[egg_df.duplicated(['E_ID'], keep=False)]"
   ]
  },
  {
   "cell_type": "code",
   "execution_count": 222,
   "id": "2230f3ad-11ae-44a3-8e16-73edb264215d",
   "metadata": {
    "tags": []
   },
   "outputs": [],
   "source": [
    "#Set Location values for Window Location based on IH_LOC == B\n",
    "egg_df.loc[(egg_df['IH_LOC'] == 'B'), 'NW'] = True "
   ]
  },
  {
   "cell_type": "code",
   "execution_count": 223,
   "id": "465ae250-ec4d-4762-9c99-44eeb1fd9ca2",
   "metadata": {
    "tags": []
   },
   "outputs": [
    {
     "data": {
      "text/html": [
       "<div>\n",
       "<style scoped>\n",
       "    .dataframe tbody tr th:only-of-type {\n",
       "        vertical-align: middle;\n",
       "    }\n",
       "\n",
       "    .dataframe tbody tr th {\n",
       "        vertical-align: top;\n",
       "    }\n",
       "\n",
       "    .dataframe thead th {\n",
       "        text-align: right;\n",
       "    }\n",
       "</style>\n",
       "<table border=\"1\" class=\"dataframe\">\n",
       "  <thead>\n",
       "    <tr style=\"text-align: right;\">\n",
       "      <th></th>\n",
       "      <th>Hen</th>\n",
       "      <th>egg_count</th>\n",
       "    </tr>\n",
       "  </thead>\n",
       "  <tbody>\n",
       "    <tr>\n",
       "      <th>0</th>\n",
       "      <td>Mary</td>\n",
       "      <td>623</td>\n",
       "    </tr>\n",
       "    <tr>\n",
       "      <th>1</th>\n",
       "      <td>Pat</td>\n",
       "      <td>551</td>\n",
       "    </tr>\n",
       "    <tr>\n",
       "      <th>2</th>\n",
       "      <td>Liz</td>\n",
       "      <td>542</td>\n",
       "    </tr>\n",
       "    <tr>\n",
       "      <th>3</th>\n",
       "      <td>Barb</td>\n",
       "      <td>539</td>\n",
       "    </tr>\n",
       "  </tbody>\n",
       "</table>\n",
       "</div>"
      ],
      "text/plain": [
       "    Hen  egg_count\n",
       "0  Mary        623\n",
       "1   Pat        551\n",
       "2   Liz        542\n",
       "3  Barb        539"
      ]
     },
     "execution_count": 223,
     "metadata": {},
     "output_type": "execute_result"
    }
   ],
   "source": [
    "ev_df = egg_df['PH_Name'].value_counts().rename_axis('Hen').reset_index(name='egg_count')\n",
    "ev_df"
   ]
  },
  {
   "cell_type": "code",
   "execution_count": 224,
   "id": "30ddc3d4-0da2-40c9-8f45-fe5fb04620a6",
   "metadata": {
    "tags": []
   },
   "outputs": [
    {
     "data": {
      "application/vnd.plotly.v1+json": {
       "config": {
        "plotlyServerURL": "https://plot.ly"
       },
       "data": [
        {
         "hovertemplate": "Hen=%{x}<br>egg_count=%{marker.color}<extra></extra>",
         "legendgroup": "",
         "marker": {
          "color": [
           623,
           551,
           542,
           539
          ],
          "coloraxis": "coloraxis",
          "size": [
           623,
           551,
           542,
           539
          ],
          "sizemode": "area",
          "sizeref": 1.5575,
          "symbol": "circle"
         },
         "mode": "markers",
         "name": "",
         "orientation": "v",
         "showlegend": false,
         "type": "scatter",
         "x": [
          "Mary",
          "Pat",
          "Liz",
          "Barb"
         ],
         "xaxis": "x",
         "y": [
          623,
          551,
          542,
          539
         ],
         "yaxis": "y"
        }
       ],
       "layout": {
        "autosize": true,
        "coloraxis": {
         "colorbar": {
          "title": {
           "text": "egg_count"
          }
         },
         "colorscale": [
          [
           0,
           "#440154"
          ],
          [
           0.1111111111111111,
           "#482878"
          ],
          [
           0.2222222222222222,
           "#3e4989"
          ],
          [
           0.3333333333333333,
           "#31688e"
          ],
          [
           0.4444444444444444,
           "#26828e"
          ],
          [
           0.5555555555555556,
           "#1f9e89"
          ],
          [
           0.6666666666666666,
           "#35b779"
          ],
          [
           0.7777777777777778,
           "#6ece58"
          ],
          [
           0.8888888888888888,
           "#b5de2b"
          ],
          [
           1,
           "#fde725"
          ]
         ]
        },
        "legend": {
         "itemsizing": "constant",
         "tracegroupgap": 0
        },
        "template": {
         "data": {
          "scatter": [
           {
            "type": "scatter"
           }
          ]
         }
        },
        "title": {
         "text": "Egg count per hen"
        },
        "xaxis": {
         "anchor": "y",
         "autorange": true,
         "domain": [
          0,
          1
         ],
         "range": [
          -0.2333524966891733,
          3.2291452588104916
         ],
         "title": {
          "text": "Hen"
         },
         "type": "category"
        },
        "yaxis": {
         "anchor": "x",
         "autorange": true,
         "domain": [
          0,
          1
         ],
         "range": [
          523.8543423306297,
          638.8513010964092
         ],
         "title": {
          "text": "egg_count"
         },
         "type": "linear"
        }
       }
      },
      "image/png": "[encoded data removed]",
      "text/html": [
       "<div>                            <div id=\"a478016f-4c44-4fcf-acbc-5eb7f06e50e7\" class=\"plotly-graph-div\" style=\"height:525px; width:100%;\"></div>            <script type=\"text/javascript\">                require([\"plotly\"], function(Plotly) {                    window.PLOTLYENV=window.PLOTLYENV || {};                                    if (document.getElementById(\"a478016f-4c44-4fcf-acbc-5eb7f06e50e7\")) {                    Plotly.newPlot(                        \"a478016f-4c44-4fcf-acbc-5eb7f06e50e7\",                        [{\"hovertemplate\":\"Hen=%{x}<br>egg_count=%{marker.color}<extra></extra>\",\"legendgroup\":\"\",\"marker\":{\"color\":[623,551,542,539],\"coloraxis\":\"coloraxis\",\"size\":[623,551,542,539],\"sizemode\":\"area\",\"sizeref\":1.5575,\"symbol\":\"circle\"},\"mode\":\"markers\",\"name\":\"\",\"orientation\":\"v\",\"showlegend\":false,\"x\":[\"Mary\",\"Pat\",\"Liz\",\"Barb\"],\"xaxis\":\"x\",\"y\":[623,551,542,539],\"yaxis\":\"y\",\"type\":\"scatter\"}],                        {\"template\":{\"data\":{\"scatter\":[{\"type\":\"scatter\"}]}},\"xaxis\":{\"anchor\":\"y\",\"domain\":[0.0,1.0],\"title\":{\"text\":\"Hen\"}},\"yaxis\":{\"anchor\":\"x\",\"domain\":[0.0,1.0],\"title\":{\"text\":\"egg_count\"}},\"coloraxis\":{\"colorbar\":{\"title\":{\"text\":\"egg_count\"}},\"colorscale\":[[0.0,\"#440154\"],[0.1111111111111111,\"#482878\"],[0.2222222222222222,\"#3e4989\"],[0.3333333333333333,\"#31688e\"],[0.4444444444444444,\"#26828e\"],[0.5555555555555556,\"#1f9e89\"],[0.6666666666666666,\"#35b779\"],[0.7777777777777778,\"#6ece58\"],[0.8888888888888888,\"#b5de2b\"],[1.0,\"#fde725\"]]},\"legend\":{\"tracegroupgap\":0,\"itemsizing\":\"constant\"},\"title\":{\"text\":\"Egg count per hen\"}},                        {\"responsive\": true}                    ).then(function(){\n",
       "                            \n",
       "var gd = document.getElementById('a478016f-4c44-4fcf-acbc-5eb7f06e50e7');\n",
       "var x = new MutationObserver(function (mutations, observer) {{\n",
       "        var display = window.getComputedStyle(gd).display;\n",
       "        if (!display || display === 'none') {{\n",
       "            console.log([gd, 'removed!']);\n",
       "            Plotly.purge(gd);\n",
       "            observer.disconnect();\n",
       "        }}\n",
       "}});\n",
       "\n",
       "// Listen for the removal of the full notebook cells\n",
       "var notebookContainer = gd.closest('#notebook-container');\n",
       "if (notebookContainer) {{\n",
       "    x.observe(notebookContainer, {childList: true});\n",
       "}}\n",
       "\n",
       "// Listen for the clearing of the current output cell\n",
       "var outputEl = gd.closest('.output');\n",
       "if (outputEl) {{\n",
       "    x.observe(outputEl, {childList: true});\n",
       "}}\n",
       "\n",
       "                        })                };                });            </script>        </div>"
      ]
     },
     "metadata": {},
     "output_type": "display_data"
    }
   ],
   "source": [
    "#Plot Sensor Execution Counts per hour\n",
    "fig = px.scatter(ev_df, x='Hen', y='egg_count', \n",
    "              template = 'none',\n",
    "              color = 'egg_count',\n",
    "              size = 'egg_count',\n",
    "            title=f\"Egg count per hen\")\n",
    "pio.write_html(fig,  f'totaleggs.html')\n",
    "fig.show()"
   ]
  },
  {
   "cell_type": "code",
   "execution_count": 225,
   "id": "5075c426-179d-4258-b0bf-e329ad56ce44",
   "metadata": {
    "tags": []
   },
   "outputs": [
    {
     "data": {
      "text/plain": [
       "Index(['Name', 'Sex', 'Color', 'egg_rate_per_year', 'C_ID', 'Generation',\n",
       "       'diff_years', 'egg_count', 'egg_count_round'],\n",
       "      dtype='object')"
      ]
     },
     "execution_count": 225,
     "metadata": {},
     "output_type": "execute_result"
    }
   ],
   "source": [
    "df.columns"
   ]
  },
  {
   "cell_type": "code",
   "execution_count": 226,
   "id": "7d457e4d-f3c2-4914-b742-e030aa36e200",
   "metadata": {
    "tags": []
   },
   "outputs": [],
   "source": [
    "# Initial Flock Chickens Table\n",
    "chickens_df = df[['Name', 'Sex', 'Color', 'C_ID', 'Generation']]\n",
    "#Assign NaN values to First Generation Chickens for E_ID, PH_Name, PH_ID, PR_ID\n"
   ]
  },
  {
   "cell_type": "markdown",
   "id": "bdca0777-2ada-45bb-a3ab-652142c5d606",
   "metadata": {},
   "source": [
    "### Assign Favorite Songs to Initial Flock Chickens"
   ]
  },
  {
   "cell_type": "code",
   "execution_count": 227,
   "id": "43a7b035-a972-48ad-842f-1e72c6ceeff3",
   "metadata": {
    "tags": []
   },
   "outputs": [
    {
     "data": {
      "text/html": [
       "<div>\n",
       "<style scoped>\n",
       "    .dataframe tbody tr th:only-of-type {\n",
       "        vertical-align: middle;\n",
       "    }\n",
       "\n",
       "    .dataframe tbody tr th {\n",
       "        vertical-align: top;\n",
       "    }\n",
       "\n",
       "    .dataframe thead th {\n",
       "        text-align: right;\n",
       "    }\n",
       "</style>\n",
       "<table border=\"1\" class=\"dataframe\">\n",
       "  <thead>\n",
       "    <tr style=\"text-align: right;\">\n",
       "      <th></th>\n",
       "      <th>Song Clean</th>\n",
       "      <th>ARTIST CLEAN</th>\n",
       "      <th>Release Year</th>\n",
       "      <th>COMBINED</th>\n",
       "      <th>First?</th>\n",
       "      <th>Year?</th>\n",
       "      <th>PlayCount</th>\n",
       "      <th>F*G</th>\n",
       "    </tr>\n",
       "  </thead>\n",
       "  <tbody>\n",
       "    <tr>\n",
       "      <th>0</th>\n",
       "      <td>Caught Up in You</td>\n",
       "      <td>.38 Special</td>\n",
       "      <td>1982</td>\n",
       "      <td>Caught Up in You by .38 Special</td>\n",
       "      <td>1</td>\n",
       "      <td>1</td>\n",
       "      <td>82</td>\n",
       "      <td>82</td>\n",
       "    </tr>\n",
       "    <tr>\n",
       "      <th>1</th>\n",
       "      <td>Fantasy Girl</td>\n",
       "      <td>.38 Special</td>\n",
       "      <td>NaN</td>\n",
       "      <td>Fantasy Girl by .38 Special</td>\n",
       "      <td>1</td>\n",
       "      <td>0</td>\n",
       "      <td>3</td>\n",
       "      <td>0</td>\n",
       "    </tr>\n",
       "    <tr>\n",
       "      <th>2</th>\n",
       "      <td>Hold On Loosely</td>\n",
       "      <td>.38 Special</td>\n",
       "      <td>1981</td>\n",
       "      <td>Hold On Loosely by .38 Special</td>\n",
       "      <td>1</td>\n",
       "      <td>1</td>\n",
       "      <td>85</td>\n",
       "      <td>85</td>\n",
       "    </tr>\n",
       "    <tr>\n",
       "      <th>3</th>\n",
       "      <td>Rockin' Into the Night</td>\n",
       "      <td>.38 Special</td>\n",
       "      <td>1980</td>\n",
       "      <td>Rockin' Into the Night by .38 Special</td>\n",
       "      <td>1</td>\n",
       "      <td>1</td>\n",
       "      <td>18</td>\n",
       "      <td>18</td>\n",
       "    </tr>\n",
       "    <tr>\n",
       "      <th>4</th>\n",
       "      <td>Art For Arts Sake</td>\n",
       "      <td>10cc</td>\n",
       "      <td>1975</td>\n",
       "      <td>Art For Arts Sake by 10cc</td>\n",
       "      <td>1</td>\n",
       "      <td>1</td>\n",
       "      <td>1</td>\n",
       "      <td>1</td>\n",
       "    </tr>\n",
       "  </tbody>\n",
       "</table>\n",
       "</div>"
      ],
      "text/plain": [
       "               Song Clean ARTIST CLEAN Release Year  \\\n",
       "0        Caught Up in You  .38 Special         1982   \n",
       "1            Fantasy Girl  .38 Special          NaN   \n",
       "2         Hold On Loosely  .38 Special         1981   \n",
       "3  Rockin' Into the Night  .38 Special         1980   \n",
       "4       Art For Arts Sake         10cc         1975   \n",
       "\n",
       "                                COMBINED  First?  Year?  PlayCount  F*G  \n",
       "0        Caught Up in You by .38 Special       1      1         82   82  \n",
       "1            Fantasy Girl by .38 Special       1      0          3    0  \n",
       "2         Hold On Loosely by .38 Special       1      1         85   85  \n",
       "3  Rockin' Into the Night by .38 Special       1      1         18   18  \n",
       "4              Art For Arts Sake by 10cc       1      1          1    1  "
      ]
     },
     "execution_count": 227,
     "metadata": {},
     "output_type": "execute_result"
    }
   ],
   "source": [
    "songs_df.head(5)"
   ]
  },
  {
   "cell_type": "code",
   "execution_count": 228,
   "id": "e6862ebb-f690-41bf-9ce0-34df46c0b022",
   "metadata": {
    "tags": []
   },
   "outputs": [],
   "source": [
    "#Create Song list and assign to Chickens\n",
    "Generation = \"Initial_Flock\"\n",
    "song_list = songs_df['Song Clean'].to_list()\n",
    "chickens_df[\"Favorite_Song\"] = np.random.choice(song_list, size=len(chickens_df))\n",
    "#chickens_df['Genration'] = Generation"
   ]
  },
  {
   "cell_type": "code",
   "execution_count": 229,
   "id": "691232f4-af6a-4ed6-a792-d082517f70ab",
   "metadata": {
    "tags": []
   },
   "outputs": [
    {
     "data": {
      "text/html": [
       "<div>\n",
       "<style scoped>\n",
       "    .dataframe tbody tr th:only-of-type {\n",
       "        vertical-align: middle;\n",
       "    }\n",
       "\n",
       "    .dataframe tbody tr th {\n",
       "        vertical-align: top;\n",
       "    }\n",
       "\n",
       "    .dataframe thead th {\n",
       "        text-align: right;\n",
       "    }\n",
       "</style>\n",
       "<table border=\"1\" class=\"dataframe\">\n",
       "  <thead>\n",
       "    <tr style=\"text-align: right;\">\n",
       "      <th></th>\n",
       "      <th>Name</th>\n",
       "      <th>Sex</th>\n",
       "      <th>Color</th>\n",
       "      <th>C_ID</th>\n",
       "      <th>Generation</th>\n",
       "      <th>Favorite_Song</th>\n",
       "    </tr>\n",
       "  </thead>\n",
       "  <tbody>\n",
       "    <tr>\n",
       "      <th>0</th>\n",
       "      <td>Mary</td>\n",
       "      <td>Hen</td>\n",
       "      <td>Black&amp;White</td>\n",
       "      <td>225766667</td>\n",
       "      <td>Initial_Flock</td>\n",
       "      <td>Paradise By The Dashboard Light</td>\n",
       "    </tr>\n",
       "    <tr>\n",
       "      <th>1</th>\n",
       "      <td>Pat</td>\n",
       "      <td>Hen</td>\n",
       "      <td>Black&amp;White</td>\n",
       "      <td>631311759</td>\n",
       "      <td>Initial_Flock</td>\n",
       "      <td>With a Little Luck</td>\n",
       "    </tr>\n",
       "    <tr>\n",
       "      <th>2</th>\n",
       "      <td>Barb</td>\n",
       "      <td>Hen</td>\n",
       "      <td>Black&amp;White</td>\n",
       "      <td>397591248</td>\n",
       "      <td>Initial_Flock</td>\n",
       "      <td>Walk On The Wild Side</td>\n",
       "    </tr>\n",
       "    <tr>\n",
       "      <th>3</th>\n",
       "      <td>Liz</td>\n",
       "      <td>Hen</td>\n",
       "      <td>Black&amp;White</td>\n",
       "      <td>630559425</td>\n",
       "      <td>Initial_Flock</td>\n",
       "      <td>Wild Horses</td>\n",
       "    </tr>\n",
       "    <tr>\n",
       "      <th>4</th>\n",
       "      <td>Ralph</td>\n",
       "      <td>Rooster</td>\n",
       "      <td>Black&amp;White</td>\n",
       "      <td>800981516</td>\n",
       "      <td>Initial_Flock</td>\n",
       "      <td>Pride of Man</td>\n",
       "    </tr>\n",
       "  </tbody>\n",
       "</table>\n",
       "</div>"
      ],
      "text/plain": [
       "    Name      Sex        Color       C_ID     Generation  \\\n",
       "0   Mary      Hen  Black&White  225766667  Initial_Flock   \n",
       "1    Pat      Hen  Black&White  631311759  Initial_Flock   \n",
       "2   Barb      Hen  Black&White  397591248  Initial_Flock   \n",
       "3    Liz      Hen  Black&White  630559425  Initial_Flock   \n",
       "4  Ralph  Rooster  Black&White  800981516  Initial_Flock   \n",
       "\n",
       "                     Favorite_Song  \n",
       "0  Paradise By The Dashboard Light  \n",
       "1               With a Little Luck  \n",
       "2            Walk On The Wild Side  \n",
       "3                      Wild Horses  \n",
       "4                     Pride of Man  "
      ]
     },
     "execution_count": 229,
     "metadata": {},
     "output_type": "execute_result"
    }
   ],
   "source": [
    "chickens_df"
   ]
  },
  {
   "cell_type": "code",
   "execution_count": 262,
   "id": "70d4a4d4-14ac-4953-94c7-5f2f7f7ee133",
   "metadata": {
    "tags": []
   },
   "outputs": [
    {
     "data": {
      "text/html": [
       "<div>\n",
       "<style scoped>\n",
       "    .dataframe tbody tr th:only-of-type {\n",
       "        vertical-align: middle;\n",
       "    }\n",
       "\n",
       "    .dataframe tbody tr th {\n",
       "        vertical-align: top;\n",
       "    }\n",
       "\n",
       "    .dataframe thead th {\n",
       "        text-align: right;\n",
       "    }\n",
       "</style>\n",
       "<table border=\"1\" class=\"dataframe\">\n",
       "  <thead>\n",
       "    <tr style=\"text-align: right;\">\n",
       "      <th></th>\n",
       "      <th>Name</th>\n",
       "      <th>Sex</th>\n",
       "      <th>Color</th>\n",
       "      <th>C_ID</th>\n",
       "      <th>Generation</th>\n",
       "      <th>Favorite_Song</th>\n",
       "    </tr>\n",
       "  </thead>\n",
       "  <tbody>\n",
       "  </tbody>\n",
       "</table>\n",
       "</div>"
      ],
      "text/plain": [
       "Empty DataFrame\n",
       "Columns: [Name, Sex, Color, C_ID, Generation, Favorite_Song]\n",
       "Index: []"
      ]
     },
     "execution_count": 262,
     "metadata": {},
     "output_type": "execute_result"
    }
   ],
   "source": [
    "#Check for duplicate IDs\n",
    "chickens_df[chickens_df.duplicated(['C_ID'], keep=False)]"
   ]
  },
  {
   "cell_type": "markdown",
   "id": "175637d9-93b3-44e1-9c02-bd3481f2f9c0",
   "metadata": {},
   "source": [
    "___"
   ]
  },
  {
   "cell_type": "markdown",
   "id": "d3b3dd48-9fd0-47ca-ae8a-fc6b092a3836",
   "metadata": {
    "tags": []
   },
   "source": [
    "### Convert Initial Flock Eggs to Gen 1 Chickens\n"
   ]
  },
  {
   "cell_type": "code",
   "execution_count": 230,
   "id": "e0894217-da81-4c26-8a3e-e2ab37dd59fa",
   "metadata": {
    "tags": []
   },
   "outputs": [],
   "source": [
    "eggconversion_ratio = 0.25"
   ]
  },
  {
   "cell_type": "code",
   "execution_count": 231,
   "id": "7261c8f1-928b-4c3a-aef5-873d580a242c",
   "metadata": {
    "tags": []
   },
   "outputs": [
    {
     "data": {
      "text/html": [
       "<div>\n",
       "<style scoped>\n",
       "    .dataframe tbody tr th:only-of-type {\n",
       "        vertical-align: middle;\n",
       "    }\n",
       "\n",
       "    .dataframe tbody tr th {\n",
       "        vertical-align: top;\n",
       "    }\n",
       "\n",
       "    .dataframe thead th {\n",
       "        text-align: right;\n",
       "    }\n",
       "</style>\n",
       "<table border=\"1\" class=\"dataframe\">\n",
       "  <thead>\n",
       "    <tr style=\"text-align: right;\">\n",
       "      <th></th>\n",
       "      <th>Name</th>\n",
       "      <th>Sex</th>\n",
       "      <th>Color</th>\n",
       "      <th>egg_rate_per_year</th>\n",
       "      <th>C_ID</th>\n",
       "      <th>Generation</th>\n",
       "      <th>diff_years</th>\n",
       "      <th>egg_count</th>\n",
       "      <th>egg_count_round</th>\n",
       "    </tr>\n",
       "  </thead>\n",
       "  <tbody>\n",
       "    <tr>\n",
       "      <th>0</th>\n",
       "      <td>Mary</td>\n",
       "      <td>Hen</td>\n",
       "      <td>Black&amp;White</td>\n",
       "      <td>217.0</td>\n",
       "      <td>225766667</td>\n",
       "      <td>Initial_Flock</td>\n",
       "      <td>2.872064</td>\n",
       "      <td>623.237986</td>\n",
       "      <td>623</td>\n",
       "    </tr>\n",
       "    <tr>\n",
       "      <th>1</th>\n",
       "      <td>Pat</td>\n",
       "      <td>Hen</td>\n",
       "      <td>Black&amp;White</td>\n",
       "      <td>192.0</td>\n",
       "      <td>631311759</td>\n",
       "      <td>Initial_Flock</td>\n",
       "      <td>2.872064</td>\n",
       "      <td>551.436374</td>\n",
       "      <td>551</td>\n",
       "    </tr>\n",
       "    <tr>\n",
       "      <th>2</th>\n",
       "      <td>Barb</td>\n",
       "      <td>Hen</td>\n",
       "      <td>Black&amp;White</td>\n",
       "      <td>188.0</td>\n",
       "      <td>397591248</td>\n",
       "      <td>Initial_Flock</td>\n",
       "      <td>2.872064</td>\n",
       "      <td>539.948117</td>\n",
       "      <td>539</td>\n",
       "    </tr>\n",
       "    <tr>\n",
       "      <th>3</th>\n",
       "      <td>Liz</td>\n",
       "      <td>Hen</td>\n",
       "      <td>Black&amp;White</td>\n",
       "      <td>189.0</td>\n",
       "      <td>630559425</td>\n",
       "      <td>Initial_Flock</td>\n",
       "      <td>2.872064</td>\n",
       "      <td>542.820181</td>\n",
       "      <td>542</td>\n",
       "    </tr>\n",
       "  </tbody>\n",
       "</table>\n",
       "</div>"
      ],
      "text/plain": [
       "   Name  Sex        Color  egg_rate_per_year       C_ID     Generation  \\\n",
       "0  Mary  Hen  Black&White              217.0  225766667  Initial_Flock   \n",
       "1   Pat  Hen  Black&White              192.0  631311759  Initial_Flock   \n",
       "2  Barb  Hen  Black&White              188.0  397591248  Initial_Flock   \n",
       "3   Liz  Hen  Black&White              189.0  630559425  Initial_Flock   \n",
       "\n",
       "   diff_years   egg_count  egg_count_round  \n",
       "0    2.872064  623.237986              623  \n",
       "1    2.872064  551.436374              551  \n",
       "2    2.872064  539.948117              539  \n",
       "3    2.872064  542.820181              542  "
      ]
     },
     "execution_count": 231,
     "metadata": {},
     "output_type": "execute_result"
    }
   ],
   "source": [
    "hens_df"
   ]
  },
  {
   "cell_type": "code",
   "execution_count": 232,
   "id": "c872e6d9-a1b6-42e4-b214-74824e8a64f2",
   "metadata": {
    "tags": []
   },
   "outputs": [],
   "source": [
    "#Calculate Selection Rate to hatch per Hen\n",
    "first_window = 30 * 6 * 0.4\n",
    "#time = 6 months or egg_rate_per_year / 2"
   ]
  },
  {
   "cell_type": "code",
   "execution_count": 626,
   "id": "8a3155af-e22d-4fe6-a011-c1f220c0b5e1",
   "metadata": {
    "tags": []
   },
   "outputs": [],
   "source": [
    "first_gen_selection = hens_df[['Name', 'Sex', 'egg_rate_per_year', 'C_ID', 'Generation']]\n",
    "first_gen_selection['Counts'] = (first_gen_selection['egg_rate_per_year'] / 2 * 0.37).apply(np.floor)\n",
    "#df['egg_count_round'] = df['egg_count'].apply(np.floor)"
   ]
  },
  {
   "cell_type": "code",
   "execution_count": 627,
   "id": "17bf461b-e26e-4dcb-ba1f-08277d54fb46",
   "metadata": {
    "tags": []
   },
   "outputs": [
    {
     "data": {
      "text/html": [
       "<div>\n",
       "<style scoped>\n",
       "    .dataframe tbody tr th:only-of-type {\n",
       "        vertical-align: middle;\n",
       "    }\n",
       "\n",
       "    .dataframe tbody tr th {\n",
       "        vertical-align: top;\n",
       "    }\n",
       "\n",
       "    .dataframe thead th {\n",
       "        text-align: right;\n",
       "    }\n",
       "</style>\n",
       "<table border=\"1\" class=\"dataframe\">\n",
       "  <thead>\n",
       "    <tr style=\"text-align: right;\">\n",
       "      <th></th>\n",
       "      <th>Name</th>\n",
       "      <th>Sex</th>\n",
       "      <th>egg_rate_per_year</th>\n",
       "      <th>C_ID</th>\n",
       "      <th>Generation</th>\n",
       "      <th>Counts</th>\n",
       "    </tr>\n",
       "  </thead>\n",
       "  <tbody>\n",
       "    <tr>\n",
       "      <th>0</th>\n",
       "      <td>Mary</td>\n",
       "      <td>Hen</td>\n",
       "      <td>217.0</td>\n",
       "      <td>225766667</td>\n",
       "      <td>Initial_Flock</td>\n",
       "      <td>40.0</td>\n",
       "    </tr>\n",
       "    <tr>\n",
       "      <th>1</th>\n",
       "      <td>Pat</td>\n",
       "      <td>Hen</td>\n",
       "      <td>192.0</td>\n",
       "      <td>631311759</td>\n",
       "      <td>Initial_Flock</td>\n",
       "      <td>35.0</td>\n",
       "    </tr>\n",
       "    <tr>\n",
       "      <th>2</th>\n",
       "      <td>Barb</td>\n",
       "      <td>Hen</td>\n",
       "      <td>188.0</td>\n",
       "      <td>397591248</td>\n",
       "      <td>Initial_Flock</td>\n",
       "      <td>34.0</td>\n",
       "    </tr>\n",
       "    <tr>\n",
       "      <th>3</th>\n",
       "      <td>Liz</td>\n",
       "      <td>Hen</td>\n",
       "      <td>189.0</td>\n",
       "      <td>630559425</td>\n",
       "      <td>Initial_Flock</td>\n",
       "      <td>34.0</td>\n",
       "    </tr>\n",
       "  </tbody>\n",
       "</table>\n",
       "</div>"
      ],
      "text/plain": [
       "   Name  Sex  egg_rate_per_year       C_ID     Generation  Counts\n",
       "0  Mary  Hen              217.0  225766667  Initial_Flock    40.0\n",
       "1   Pat  Hen              192.0  631311759  Initial_Flock    35.0\n",
       "2  Barb  Hen              188.0  397591248  Initial_Flock    34.0\n",
       "3   Liz  Hen              189.0  630559425  Initial_Flock    34.0"
      ]
     },
     "execution_count": 627,
     "metadata": {},
     "output_type": "execute_result"
    }
   ],
   "source": [
    "first_gen_selection"
   ]
  },
  {
   "cell_type": "code",
   "execution_count": 628,
   "id": "47d44087-e3bb-49ac-9b4f-994c753cb4dd",
   "metadata": {
    "tags": []
   },
   "outputs": [],
   "source": [
    "#Select Eggs from Hens - 53% hens - 47% Roosters"
   ]
  },
  {
   "cell_type": "code",
   "execution_count": 629,
   "id": "79cc8076-f8be-4c18-acae-6d70402fbcf5",
   "metadata": {
    "tags": []
   },
   "outputs": [],
   "source": [
    "first_gen_slicer = first_gen_selection[['Name', 'C_ID', 'Counts']]\n",
    "first_gen_slicer['Counts'] = first_gen_slicer['Counts'].astype(int)"
   ]
  },
  {
   "cell_type": "code",
   "execution_count": 630,
   "id": "560bf54e-259d-4703-97bc-dec730a62782",
   "metadata": {
    "tags": []
   },
   "outputs": [
    {
     "data": {
      "text/plain": [
       "Index(['E_ID', 'PH_Name', 'PH_ID', 'PR_ID', 'IH_LOC', 'NW', 'Parent_Gen'], dtype='object')"
      ]
     },
     "execution_count": 630,
     "metadata": {},
     "output_type": "execute_result"
    }
   ],
   "source": [
    "egg_df.columns"
   ]
  },
  {
   "cell_type": "code",
   "execution_count": 631,
   "id": "7b079039-d720-4e0f-87ab-bb593b9bd890",
   "metadata": {
    "tags": []
   },
   "outputs": [
    {
     "name": "stdout",
     "output_type": "stream",
     "text": [
      "Mary 40\n",
      "Pat 35\n",
      "Barb 34\n",
      "Liz 34\n"
     ]
    }
   ],
   "source": [
    "chicken_first = pd.DataFrame()\n",
    "for index, row in first_gen_slicer.iterrows():\n",
    "    chicks_per_hen = row['Counts']\n",
    "    hen = row['Name']\n",
    "    PH_ID = row['C_ID']\n",
    "    \n",
    "    print( row['Name'], chicks_per_hen)\n",
    "    \n",
    "    # Creating a second dataframe that will be the subset of main dataframe\n",
    "    #print(\"Second data frame\")\n",
    "    dataframe_first = egg_df[['E_ID', 'PH_Name', 'PH_ID', 'PR_ID']].sample(n=chicks_per_hen)\n",
    "    chicken_first = chicken_first.append(dataframe_first)\n",
    "    chicken_first['Generation'] = 'Gen1'\n",
    "    chicken_first['Color'] = color\n",
    "    chicken_first['C_ID'] = chicken_first['E_ID']\n",
    "    "
   ]
  },
  {
   "cell_type": "code",
   "execution_count": 632,
   "id": "a750cfd5-070e-4690-bf84-7223ad2dc8c7",
   "metadata": {
    "tags": []
   },
   "outputs": [],
   "source": [
    "#chicken_first"
   ]
  },
  {
   "cell_type": "code",
   "execution_count": 633,
   "id": "b98adabd-e5e0-4035-8ec0-b3040ab3162e",
   "metadata": {
    "tags": []
   },
   "outputs": [
    {
     "name": "stdout",
     "output_type": "stream",
     "text": [
      "The first Geration has produced:\n",
      "================================\n",
      "69 Roosters\n",
      "74 Hens\n"
     ]
    }
   ],
   "source": [
    "#Assign Favorite Song to First Gen Chickens\n",
    "chicken_first[\"Favorite_Song\"] = np.random.choice(song_list, size=len(chicken_first))\n",
    "\n",
    "#Assign Sex to First Gen Chickents\n",
    "chicken_first['Sex'] = np.random.choice(sex_list, size=len(chicken_first))\n",
    "\n",
    "first_gen_rooster_count = chicken_first[chicken_first['Sex'] == \"Rooster\"].shape[0]\n",
    "first_gen_rooster = chicken_first[chicken_first['Sex'] == \"Rooster\"]\n",
    "\n",
    "first_gen_hen_count = chicken_first[chicken_first['Sex'] == \"Hen\"].shape[0]\n",
    "first_gen_hen = chicken_first[chicken_first['Sex'] == \"Hen\"]\n",
    "\n",
    "print(\"The first Geration has produced:\")\n",
    "print(\"================================\")\n",
    "print(first_gen_rooster_count, \"Roosters\")\n",
    "print(first_gen_hen_count, \"Hens\")\n",
    "\n",
    "#Gerate the an appropriate nummber of Rooster Names for Fist Generation and assign\n",
    "first_gen_rooster_names = random.sample(rooster_names_list, first_gen_rooster_count)\n",
    "first_gen_rooster['Name'] = np.random.choice(rooster_names_list, size=len(first_gen_rooster))\n",
    "\n",
    "#Generate the appropriate number/list of Hens Names for First Generation and assign\n",
    "first_gen_hens_names = random.sample(hen_names_list, first_gen_hen_count)\n",
    "first_gen_hen['Name'] = np.random.choice(hen_names_list, size=len(first_gen_hen))\n",
    "\n",
    "\n",
    "first_gen_chickens = pd.concat([first_gen_hen, first_gen_rooster], axis=0)"
   ]
  },
  {
   "cell_type": "code",
   "execution_count": 634,
   "id": "a4e61de3-ea24-4e68-9728-4f590a701048",
   "metadata": {
    "tags": []
   },
   "outputs": [
    {
     "data": {
      "text/html": [
       "<div>\n",
       "<style scoped>\n",
       "    .dataframe tbody tr th:only-of-type {\n",
       "        vertical-align: middle;\n",
       "    }\n",
       "\n",
       "    .dataframe tbody tr th {\n",
       "        vertical-align: top;\n",
       "    }\n",
       "\n",
       "    .dataframe thead th {\n",
       "        text-align: right;\n",
       "    }\n",
       "</style>\n",
       "<table border=\"1\" class=\"dataframe\">\n",
       "  <thead>\n",
       "    <tr style=\"text-align: right;\">\n",
       "      <th></th>\n",
       "      <th>E_ID</th>\n",
       "      <th>PH_Name</th>\n",
       "      <th>PH_ID</th>\n",
       "      <th>PR_ID</th>\n",
       "      <th>Generation</th>\n",
       "      <th>Color</th>\n",
       "      <th>C_ID</th>\n",
       "      <th>Favorite_Song</th>\n",
       "      <th>Sex</th>\n",
       "      <th>Name</th>\n",
       "    </tr>\n",
       "  </thead>\n",
       "  <tbody>\n",
       "    <tr>\n",
       "      <th>1931</th>\n",
       "      <td>169163902</td>\n",
       "      <td>Liz</td>\n",
       "      <td>630559425</td>\n",
       "      <td>800981516</td>\n",
       "      <td>Gen1</td>\n",
       "      <td>Black&amp;White</td>\n",
       "      <td>169163902</td>\n",
       "      <td>Jeremy</td>\n",
       "      <td>Hen</td>\n",
       "      <td>LORRINE</td>\n",
       "    </tr>\n",
       "    <tr>\n",
       "      <th>1615</th>\n",
       "      <td>429368417</td>\n",
       "      <td>Barb</td>\n",
       "      <td>397591248</td>\n",
       "      <td>800981516</td>\n",
       "      <td>Gen1</td>\n",
       "      <td>Black&amp;White</td>\n",
       "      <td>429368417</td>\n",
       "      <td>Ticket to Ride</td>\n",
       "      <td>Hen</td>\n",
       "      <td>DOROTHA</td>\n",
       "    </tr>\n",
       "    <tr>\n",
       "      <th>1051</th>\n",
       "      <td>802336212</td>\n",
       "      <td>Pat</td>\n",
       "      <td>631311759</td>\n",
       "      <td>800981516</td>\n",
       "      <td>Gen1</td>\n",
       "      <td>Black&amp;White</td>\n",
       "      <td>802336212</td>\n",
       "      <td>Sex and Candy</td>\n",
       "      <td>Hen</td>\n",
       "      <td>EBONY</td>\n",
       "    </tr>\n",
       "    <tr>\n",
       "      <th>2229</th>\n",
       "      <td>3703835</td>\n",
       "      <td>Liz</td>\n",
       "      <td>630559425</td>\n",
       "      <td>800981516</td>\n",
       "      <td>Gen1</td>\n",
       "      <td>Black&amp;White</td>\n",
       "      <td>3703835</td>\n",
       "      <td>South California Purples</td>\n",
       "      <td>Hen</td>\n",
       "      <td>KARIMA</td>\n",
       "    </tr>\n",
       "    <tr>\n",
       "      <th>1535</th>\n",
       "      <td>826181444</td>\n",
       "      <td>Barb</td>\n",
       "      <td>397591248</td>\n",
       "      <td>800981516</td>\n",
       "      <td>Gen1</td>\n",
       "      <td>Black&amp;White</td>\n",
       "      <td>826181444</td>\n",
       "      <td>Feelin' Alright</td>\n",
       "      <td>Hen</td>\n",
       "      <td>ANNABELLE</td>\n",
       "    </tr>\n",
       "  </tbody>\n",
       "</table>\n",
       "</div>"
      ],
      "text/plain": [
       "           E_ID PH_Name      PH_ID      PR_ID Generation        Color  \\\n",
       "1931  169163902     Liz  630559425  800981516       Gen1  Black&White   \n",
       "1615  429368417    Barb  397591248  800981516       Gen1  Black&White   \n",
       "1051  802336212     Pat  631311759  800981516       Gen1  Black&White   \n",
       "2229    3703835     Liz  630559425  800981516       Gen1  Black&White   \n",
       "1535  826181444    Barb  397591248  800981516       Gen1  Black&White   \n",
       "\n",
       "           C_ID             Favorite_Song  Sex       Name  \n",
       "1931  169163902                    Jeremy  Hen    LORRINE  \n",
       "1615  429368417            Ticket to Ride  Hen    DOROTHA  \n",
       "1051  802336212             Sex and Candy  Hen      EBONY  \n",
       "2229    3703835  South California Purples  Hen     KARIMA  \n",
       "1535  826181444           Feelin' Alright  Hen  ANNABELLE  "
      ]
     },
     "execution_count": 634,
     "metadata": {},
     "output_type": "execute_result"
    }
   ],
   "source": [
    "first_gen_chickens.head(5)"
   ]
  },
  {
   "cell_type": "markdown",
   "id": "b9f8c96b-72cd-4a4c-9ca3-ce80f3e33988",
   "metadata": {
    "tags": []
   },
   "source": [
    "### Combine Initial Flock and Gen 1 Tables for Chickens, Hens and Roosters"
   ]
  },
  {
   "cell_type": "code",
   "execution_count": 635,
   "id": "527483c9-b445-4e2b-82d6-050d6664a408",
   "metadata": {
    "tags": []
   },
   "outputs": [
    {
     "data": {
      "text/html": [
       "<div>\n",
       "<style scoped>\n",
       "    .dataframe tbody tr th:only-of-type {\n",
       "        vertical-align: middle;\n",
       "    }\n",
       "\n",
       "    .dataframe tbody tr th {\n",
       "        vertical-align: top;\n",
       "    }\n",
       "\n",
       "    .dataframe thead th {\n",
       "        text-align: right;\n",
       "    }\n",
       "</style>\n",
       "<table border=\"1\" class=\"dataframe\">\n",
       "  <thead>\n",
       "    <tr style=\"text-align: right;\">\n",
       "      <th></th>\n",
       "      <th>Name</th>\n",
       "      <th>Sex</th>\n",
       "      <th>Color</th>\n",
       "      <th>C_ID</th>\n",
       "      <th>Generation</th>\n",
       "      <th>Favorite_Song</th>\n",
       "    </tr>\n",
       "  </thead>\n",
       "  <tbody>\n",
       "    <tr>\n",
       "      <th>0</th>\n",
       "      <td>Mary</td>\n",
       "      <td>Hen</td>\n",
       "      <td>Black&amp;White</td>\n",
       "      <td>225766667</td>\n",
       "      <td>Initial_Flock</td>\n",
       "      <td>Paradise By The Dashboard Light</td>\n",
       "    </tr>\n",
       "    <tr>\n",
       "      <th>1</th>\n",
       "      <td>Pat</td>\n",
       "      <td>Hen</td>\n",
       "      <td>Black&amp;White</td>\n",
       "      <td>631311759</td>\n",
       "      <td>Initial_Flock</td>\n",
       "      <td>With a Little Luck</td>\n",
       "    </tr>\n",
       "    <tr>\n",
       "      <th>2</th>\n",
       "      <td>Barb</td>\n",
       "      <td>Hen</td>\n",
       "      <td>Black&amp;White</td>\n",
       "      <td>397591248</td>\n",
       "      <td>Initial_Flock</td>\n",
       "      <td>Walk On The Wild Side</td>\n",
       "    </tr>\n",
       "    <tr>\n",
       "      <th>3</th>\n",
       "      <td>Liz</td>\n",
       "      <td>Hen</td>\n",
       "      <td>Black&amp;White</td>\n",
       "      <td>630559425</td>\n",
       "      <td>Initial_Flock</td>\n",
       "      <td>Wild Horses</td>\n",
       "    </tr>\n",
       "    <tr>\n",
       "      <th>4</th>\n",
       "      <td>Ralph</td>\n",
       "      <td>Rooster</td>\n",
       "      <td>Black&amp;White</td>\n",
       "      <td>800981516</td>\n",
       "      <td>Initial_Flock</td>\n",
       "      <td>Pride of Man</td>\n",
       "    </tr>\n",
       "  </tbody>\n",
       "</table>\n",
       "</div>"
      ],
      "text/plain": [
       "    Name      Sex        Color       C_ID     Generation  \\\n",
       "0   Mary      Hen  Black&White  225766667  Initial_Flock   \n",
       "1    Pat      Hen  Black&White  631311759  Initial_Flock   \n",
       "2   Barb      Hen  Black&White  397591248  Initial_Flock   \n",
       "3    Liz      Hen  Black&White  630559425  Initial_Flock   \n",
       "4  Ralph  Rooster  Black&White  800981516  Initial_Flock   \n",
       "\n",
       "                     Favorite_Song  \n",
       "0  Paradise By The Dashboard Light  \n",
       "1               With a Little Luck  \n",
       "2            Walk On The Wild Side  \n",
       "3                      Wild Horses  \n",
       "4                     Pride of Man  "
      ]
     },
     "execution_count": 635,
     "metadata": {},
     "output_type": "execute_result"
    }
   ],
   "source": [
    "chickens_df.columns\n",
    "chickens_df"
   ]
  },
  {
   "cell_type": "code",
   "execution_count": 636,
   "id": "e6b35d5e-66f0-4d5e-af2c-9b2ce92b5dd9",
   "metadata": {
    "tags": []
   },
   "outputs": [
    {
     "data": {
      "text/html": [
       "<div>\n",
       "<style scoped>\n",
       "    .dataframe tbody tr th:only-of-type {\n",
       "        vertical-align: middle;\n",
       "    }\n",
       "\n",
       "    .dataframe tbody tr th {\n",
       "        vertical-align: top;\n",
       "    }\n",
       "\n",
       "    .dataframe thead th {\n",
       "        text-align: right;\n",
       "    }\n",
       "</style>\n",
       "<table border=\"1\" class=\"dataframe\">\n",
       "  <thead>\n",
       "    <tr style=\"text-align: right;\">\n",
       "      <th></th>\n",
       "      <th>Name</th>\n",
       "      <th>Sex</th>\n",
       "      <th>Color</th>\n",
       "      <th>C_ID</th>\n",
       "      <th>Generation</th>\n",
       "      <th>Favorite_Song</th>\n",
       "    </tr>\n",
       "  </thead>\n",
       "  <tbody>\n",
       "  </tbody>\n",
       "</table>\n",
       "</div>"
      ],
      "text/plain": [
       "Empty DataFrame\n",
       "Columns: [Name, Sex, Color, C_ID, Generation, Favorite_Song]\n",
       "Index: []"
      ]
     },
     "execution_count": 636,
     "metadata": {},
     "output_type": "execute_result"
    }
   ],
   "source": [
    "#Check for duplicate IDs\n",
    "chickens_df[chickens_df.duplicated(['C_ID'], keep=False)]"
   ]
  },
  {
   "cell_type": "code",
   "execution_count": 637,
   "id": "57ebbacd-1a69-4537-8cf7-be3d204660c7",
   "metadata": {
    "tags": []
   },
   "outputs": [],
   "source": [
    "#Reorder first_gen_chickens dataframe columns to match Initial Flock Table Format so we can Concatenate them"
   ]
  },
  {
   "cell_type": "code",
   "execution_count": 638,
   "id": "82a518f6-4f10-43bd-a48f-9557c06dd90b",
   "metadata": {
    "tags": []
   },
   "outputs": [
    {
     "data": {
      "text/plain": [
       "Index(['Name', 'Sex', 'Color', 'C_ID', 'Generation', 'Favorite_Song'], dtype='object')"
      ]
     },
     "execution_count": 638,
     "metadata": {},
     "output_type": "execute_result"
    }
   ],
   "source": [
    "chickens_df.columns"
   ]
  },
  {
   "cell_type": "code",
   "execution_count": 639,
   "id": "8648eaf3-59a6-47dd-ab46-2dce9f991380",
   "metadata": {
    "tags": []
   },
   "outputs": [],
   "source": [
    "#Copy original chickens_df dataframe to initial_flock_chickens for record keeping\n",
    "initial_flock_chickens = chickens_df\n",
    "initial_flock_eggs = egg_df"
   ]
  },
  {
   "cell_type": "code",
   "execution_count": 640,
   "id": "e670f631-61c7-4ef9-8d4d-91136d270baf",
   "metadata": {
    "tags": []
   },
   "outputs": [
    {
     "data": {
      "text/plain": [
       "Index(['E_ID', 'PH_Name', 'PH_ID', 'PR_ID', 'Generation', 'Color', 'C_ID',\n",
       "       'Favorite_Song', 'Sex', 'Name'],\n",
       "      dtype='object')"
      ]
     },
     "execution_count": 640,
     "metadata": {},
     "output_type": "execute_result"
    }
   ],
   "source": [
    "first_gen_chickens.columns"
   ]
  },
  {
   "cell_type": "code",
   "execution_count": 641,
   "id": "bf405877-1fed-4fd5-95dc-c988e4fe2f88",
   "metadata": {
    "tags": []
   },
   "outputs": [],
   "source": [
    "first_gen_chickens = first_gen_chickens[['Name', 'Sex', 'Color', 'C_ID', 'Generation', 'Favorite_Song', 'E_ID',\n",
    "       'PH_Name', 'PH_ID', 'PR_ID']]"
   ]
  },
  {
   "cell_type": "code",
   "execution_count": 642,
   "id": "b5fad5ed-e57c-4bb2-83a7-669165baffcf",
   "metadata": {
    "tags": []
   },
   "outputs": [],
   "source": [
    "#first_gen_chickens"
   ]
  },
  {
   "cell_type": "code",
   "execution_count": 643,
   "id": "98f35120-f1c8-4564-bf5f-4c1e8bde3963",
   "metadata": {
    "tags": []
   },
   "outputs": [],
   "source": [
    "#Combine Initial Flock Chickens and First Gen Chickens into Chickens Table\n",
    "chickens_combined_df = pd.concat([chickens_df, first_gen_chickens], axis=0 )"
   ]
  },
  {
   "cell_type": "code",
   "execution_count": 644,
   "id": "13ea5645-c0b7-4b30-9505-478240c791bc",
   "metadata": {
    "tags": []
   },
   "outputs": [
    {
     "data": {
      "text/html": [
       "<div>\n",
       "<style scoped>\n",
       "    .dataframe tbody tr th:only-of-type {\n",
       "        vertical-align: middle;\n",
       "    }\n",
       "\n",
       "    .dataframe tbody tr th {\n",
       "        vertical-align: top;\n",
       "    }\n",
       "\n",
       "    .dataframe thead th {\n",
       "        text-align: right;\n",
       "    }\n",
       "</style>\n",
       "<table border=\"1\" class=\"dataframe\">\n",
       "  <thead>\n",
       "    <tr style=\"text-align: right;\">\n",
       "      <th></th>\n",
       "      <th>Name</th>\n",
       "      <th>Sex</th>\n",
       "      <th>Color</th>\n",
       "      <th>C_ID</th>\n",
       "      <th>Generation</th>\n",
       "      <th>Favorite_Song</th>\n",
       "      <th>E_ID</th>\n",
       "      <th>PH_Name</th>\n",
       "      <th>PH_ID</th>\n",
       "      <th>PR_ID</th>\n",
       "    </tr>\n",
       "  </thead>\n",
       "  <tbody>\n",
       "    <tr>\n",
       "      <th>0</th>\n",
       "      <td>Mary</td>\n",
       "      <td>Hen</td>\n",
       "      <td>Black&amp;White</td>\n",
       "      <td>225766667</td>\n",
       "      <td>Initial_Flock</td>\n",
       "      <td>Paradise By The Dashboard Light</td>\n",
       "      <td>NaN</td>\n",
       "      <td>NaN</td>\n",
       "      <td>NaN</td>\n",
       "      <td>NaN</td>\n",
       "    </tr>\n",
       "    <tr>\n",
       "      <th>1</th>\n",
       "      <td>Pat</td>\n",
       "      <td>Hen</td>\n",
       "      <td>Black&amp;White</td>\n",
       "      <td>631311759</td>\n",
       "      <td>Initial_Flock</td>\n",
       "      <td>With a Little Luck</td>\n",
       "      <td>NaN</td>\n",
       "      <td>NaN</td>\n",
       "      <td>NaN</td>\n",
       "      <td>NaN</td>\n",
       "    </tr>\n",
       "    <tr>\n",
       "      <th>2</th>\n",
       "      <td>Barb</td>\n",
       "      <td>Hen</td>\n",
       "      <td>Black&amp;White</td>\n",
       "      <td>397591248</td>\n",
       "      <td>Initial_Flock</td>\n",
       "      <td>Walk On The Wild Side</td>\n",
       "      <td>NaN</td>\n",
       "      <td>NaN</td>\n",
       "      <td>NaN</td>\n",
       "      <td>NaN</td>\n",
       "    </tr>\n",
       "    <tr>\n",
       "      <th>3</th>\n",
       "      <td>Liz</td>\n",
       "      <td>Hen</td>\n",
       "      <td>Black&amp;White</td>\n",
       "      <td>630559425</td>\n",
       "      <td>Initial_Flock</td>\n",
       "      <td>Wild Horses</td>\n",
       "      <td>NaN</td>\n",
       "      <td>NaN</td>\n",
       "      <td>NaN</td>\n",
       "      <td>NaN</td>\n",
       "    </tr>\n",
       "    <tr>\n",
       "      <th>4</th>\n",
       "      <td>Ralph</td>\n",
       "      <td>Rooster</td>\n",
       "      <td>Black&amp;White</td>\n",
       "      <td>800981516</td>\n",
       "      <td>Initial_Flock</td>\n",
       "      <td>Pride of Man</td>\n",
       "      <td>NaN</td>\n",
       "      <td>NaN</td>\n",
       "      <td>NaN</td>\n",
       "      <td>NaN</td>\n",
       "    </tr>\n",
       "    <tr>\n",
       "      <th>1931</th>\n",
       "      <td>LORRINE</td>\n",
       "      <td>Hen</td>\n",
       "      <td>Black&amp;White</td>\n",
       "      <td>169163902</td>\n",
       "      <td>Gen1</td>\n",
       "      <td>Jeremy</td>\n",
       "      <td>169163902</td>\n",
       "      <td>Liz</td>\n",
       "      <td>630559425</td>\n",
       "      <td>800981516</td>\n",
       "    </tr>\n",
       "    <tr>\n",
       "      <th>1615</th>\n",
       "      <td>DOROTHA</td>\n",
       "      <td>Hen</td>\n",
       "      <td>Black&amp;White</td>\n",
       "      <td>429368417</td>\n",
       "      <td>Gen1</td>\n",
       "      <td>Ticket to Ride</td>\n",
       "      <td>429368417</td>\n",
       "      <td>Barb</td>\n",
       "      <td>397591248</td>\n",
       "      <td>800981516</td>\n",
       "    </tr>\n",
       "    <tr>\n",
       "      <th>1051</th>\n",
       "      <td>EBONY</td>\n",
       "      <td>Hen</td>\n",
       "      <td>Black&amp;White</td>\n",
       "      <td>802336212</td>\n",
       "      <td>Gen1</td>\n",
       "      <td>Sex and Candy</td>\n",
       "      <td>802336212</td>\n",
       "      <td>Pat</td>\n",
       "      <td>631311759</td>\n",
       "      <td>800981516</td>\n",
       "    </tr>\n",
       "    <tr>\n",
       "      <th>2229</th>\n",
       "      <td>KARIMA</td>\n",
       "      <td>Hen</td>\n",
       "      <td>Black&amp;White</td>\n",
       "      <td>3703835</td>\n",
       "      <td>Gen1</td>\n",
       "      <td>South California Purples</td>\n",
       "      <td>3703835</td>\n",
       "      <td>Liz</td>\n",
       "      <td>630559425</td>\n",
       "      <td>800981516</td>\n",
       "    </tr>\n",
       "  </tbody>\n",
       "</table>\n",
       "</div>"
      ],
      "text/plain": [
       "         Name      Sex        Color       C_ID     Generation  \\\n",
       "0        Mary      Hen  Black&White  225766667  Initial_Flock   \n",
       "1         Pat      Hen  Black&White  631311759  Initial_Flock   \n",
       "2        Barb      Hen  Black&White  397591248  Initial_Flock   \n",
       "3         Liz      Hen  Black&White  630559425  Initial_Flock   \n",
       "4       Ralph  Rooster  Black&White  800981516  Initial_Flock   \n",
       "1931  LORRINE      Hen  Black&White  169163902           Gen1   \n",
       "1615  DOROTHA      Hen  Black&White  429368417           Gen1   \n",
       "1051    EBONY      Hen  Black&White  802336212           Gen1   \n",
       "2229   KARIMA      Hen  Black&White    3703835           Gen1   \n",
       "\n",
       "                        Favorite_Song       E_ID PH_Name      PH_ID      PR_ID  \n",
       "0     Paradise By The Dashboard Light        NaN     NaN        NaN        NaN  \n",
       "1                  With a Little Luck        NaN     NaN        NaN        NaN  \n",
       "2               Walk On The Wild Side        NaN     NaN        NaN        NaN  \n",
       "3                         Wild Horses        NaN     NaN        NaN        NaN  \n",
       "4                        Pride of Man        NaN     NaN        NaN        NaN  \n",
       "1931                           Jeremy  169163902     Liz  630559425  800981516  \n",
       "1615                   Ticket to Ride  429368417    Barb  397591248  800981516  \n",
       "1051                    Sex and Candy  802336212     Pat  631311759  800981516  \n",
       "2229         South California Purples    3703835     Liz  630559425  800981516  "
      ]
     },
     "execution_count": 644,
     "metadata": {},
     "output_type": "execute_result"
    }
   ],
   "source": [
    "chickens_combined_df.head(9)"
   ]
  },
  {
   "cell_type": "code",
   "execution_count": 645,
   "id": "0fad02c6-be1e-496a-ae03-e84b5e884b39",
   "metadata": {
    "tags": []
   },
   "outputs": [
    {
     "name": "stdout",
     "output_type": "stream",
     "text": [
      "The initial Flock Hens generated 2255 eggs and 143 chickens\n"
     ]
    }
   ],
   "source": [
    "print(\"The initial Flock Hens generated\", egg_df.shape[0], \"eggs and\", first_gen_chickens.shape[0], \"chickens\")"
   ]
  },
  {
   "cell_type": "code",
   "execution_count": 646,
   "id": "a983d948-e7f6-4a3f-8c83-447e1c42fc9b",
   "metadata": {
    "tags": []
   },
   "outputs": [
    {
     "data": {
      "text/plain": [
       "5"
      ]
     },
     "execution_count": 646,
     "metadata": {},
     "output_type": "execute_result"
    }
   ],
   "source": [
    "chickens_df['C_ID'].nunique()"
   ]
  },
  {
   "cell_type": "code",
   "execution_count": 647,
   "id": "166b6bc0-741a-4006-b8e0-f70ffb8ee9dd",
   "metadata": {
    "tags": []
   },
   "outputs": [
    {
     "data": {
      "text/html": [
       "<div>\n",
       "<style scoped>\n",
       "    .dataframe tbody tr th:only-of-type {\n",
       "        vertical-align: middle;\n",
       "    }\n",
       "\n",
       "    .dataframe tbody tr th {\n",
       "        vertical-align: top;\n",
       "    }\n",
       "\n",
       "    .dataframe thead th {\n",
       "        text-align: right;\n",
       "    }\n",
       "</style>\n",
       "<table border=\"1\" class=\"dataframe\">\n",
       "  <thead>\n",
       "    <tr style=\"text-align: right;\">\n",
       "      <th></th>\n",
       "      <th>Name</th>\n",
       "      <th>Sex</th>\n",
       "      <th>Color</th>\n",
       "      <th>C_ID</th>\n",
       "      <th>Generation</th>\n",
       "      <th>Favorite_Song</th>\n",
       "    </tr>\n",
       "  </thead>\n",
       "  <tbody>\n",
       "  </tbody>\n",
       "</table>\n",
       "</div>"
      ],
      "text/plain": [
       "Empty DataFrame\n",
       "Columns: [Name, Sex, Color, C_ID, Generation, Favorite_Song]\n",
       "Index: []"
      ]
     },
     "execution_count": 647,
     "metadata": {},
     "output_type": "execute_result"
    }
   ],
   "source": [
    "#Check for duplicate IDs\n",
    "chickens_df[chickens_df.duplicated(['C_ID'], keep=False)]"
   ]
  },
  {
   "cell_type": "code",
   "execution_count": 648,
   "id": "ba08b8b6-9aa5-43c6-b933-37e213f07e68",
   "metadata": {
    "tags": []
   },
   "outputs": [],
   "source": [
    "chickens_df.to_csv('Coop/gen_one_flock_df.csv')"
   ]
  },
  {
   "cell_type": "markdown",
   "id": "b4b6b329-1dac-442f-b00a-5e969214f1e5",
   "metadata": {},
   "source": [
    "___"
   ]
  },
  {
   "cell_type": "markdown",
   "id": "27560f2c-b605-483f-9fbe-9c8be9d09dd1",
   "metadata": {},
   "source": [
    "## Gen 1 Hens to Generate Eggs for Gen 2 Chicks"
   ]
  },
  {
   "cell_type": "markdown",
   "id": "50493a41-506e-4a96-8d2e-d7bf48b782fb",
   "metadata": {},
   "source": [
    "#### List and Count for Hens from Gen 1"
   ]
  },
  {
   "cell_type": "code",
   "execution_count": 649,
   "id": "277301d8-41a0-4f58-b687-1202de707402",
   "metadata": {
    "tags": []
   },
   "outputs": [],
   "source": [
    "#Assign Egg Rates to Hens from Gen 1\n",
    "#Randomly Assign Egg Rate to Hens in Base Family\n",
    "rate1 = np.random.randint(expected_egg_rate_min, expected_egg_rate_max, size=first_gen_hen_count)\n",
    "\n",
    "first_gen_hen['egg_rate_per_year'] = np.random.choice(rate1, size=len(first_gen_hen))"
   ]
  },
  {
   "cell_type": "code",
   "execution_count": 650,
   "id": "f2647601-a394-4693-b7bf-0ebbd717c4e0",
   "metadata": {
    "tags": []
   },
   "outputs": [],
   "source": [
    "#first_gen_hen.head(5)"
   ]
  },
  {
   "cell_type": "code",
   "execution_count": 651,
   "id": "53312f44-5293-4d15-960c-4673e175de1a",
   "metadata": {
    "tags": []
   },
   "outputs": [],
   "source": [
    "#Create initial eggloggen1_df daily log Pandas Dataframe\n",
    "\n",
    "eggloggen1_df = pd.DataFrame()\n",
    "eggloggen1_df['Dates']= pd.date_range(start='10/15/2020', end=today)\n",
    "\n",
    "eggloggen1_df['diff_years'] = (eggloggen1_df.iloc[-1]['Dates'] - eggloggen1_df.iloc[0]['Dates']) / np.timedelta64(1, 'Y')\n",
    "gen1_diff_years = (eggloggen1_df.iloc[-1]['Dates'] - eggloggen1_df.iloc[0]['Dates']) / np.timedelta64(1, 'Y')\n",
    "first_gen_hen['egg_count'] = first_gen_hen['egg_rate_per_year'] * gen1_diff_years\n",
    "\n",
    "#Round Egg Count down as egg counts have to be a whole number, Int.\n",
    "first_gen_hen['egg_count_round'] = first_gen_hen['egg_count'].apply(np.floor)\n",
    "\n",
    "#Convert the egg_count from Floats to Integers\n",
    "first_gen_hen['egg_count_round'] = first_gen_hen['egg_count_round'].astype(int)"
   ]
  },
  {
   "cell_type": "code",
   "execution_count": 652,
   "id": "63ddc91d-5973-4774-bc9d-ebe10e84abd1",
   "metadata": {
    "tags": []
   },
   "outputs": [
    {
     "name": "stdout",
     "output_type": "stream",
     "text": [
      "The total number of Farm Operations Days to date for Gen 1 Hens: 867\n"
     ]
    }
   ],
   "source": [
    "print(\"The total number of Farm Operations Days to date for Gen 1 Hens:\", eggloggen1_df.shape[0])"
   ]
  },
  {
   "cell_type": "code",
   "execution_count": 653,
   "id": "06efe4e7-5b60-4f77-810a-9483d66c23e7",
   "metadata": {
    "tags": []
   },
   "outputs": [],
   "source": [
    "#The roosters could be from the Original Flock (1) or the  Gen1 Roosters\n",
    "roosters_df = chickens_combined_df[chickens_combined_df.Sex == 'Rooster']"
   ]
  },
  {
   "cell_type": "code",
   "execution_count": 654,
   "id": "b9d70bea-7b4b-4843-ba5b-455886c66dcc",
   "metadata": {
    "tags": []
   },
   "outputs": [
    {
     "data": {
      "text/plain": [
       "Index(['E_ID', 'PH_Name', 'PH_ID', 'PR_ID', 'Generation', 'Color', 'C_ID',\n",
       "       'Favorite_Song', 'Sex', 'Name', 'egg_rate_per_year', 'egg_count',\n",
       "       'egg_count_round'],\n",
       "      dtype='object')"
      ]
     },
     "execution_count": 654,
     "metadata": {},
     "output_type": "execute_result"
    }
   ],
   "source": [
    "#The Hens for laying Gen 2 eggs would only include the Gen 1 Hens - first_gen_hen\n",
    "#first_gen_hen.head(10)\n",
    "first_gen_hen.columns"
   ]
  },
  {
   "cell_type": "code",
   "execution_count": 655,
   "id": "79f84efd-33f5-4671-ab0f-31366b420b06",
   "metadata": {
    "tags": []
   },
   "outputs": [
    {
     "name": "stdout",
     "output_type": "stream",
     "text": [
      "The number of potentail Roosters for Gen 2 is: 70\n"
     ]
    }
   ],
   "source": [
    "print(\"The number of potentail Roosters for Gen 2 is:\", roosters_df.shape[0])"
   ]
  },
  {
   "cell_type": "markdown",
   "id": "97ce574b-ab84-4b47-84ad-3ffe199b6a05",
   "metadata": {},
   "source": [
    "#### Eggs"
   ]
  },
  {
   "cell_type": "code",
   "execution_count": 656,
   "id": "954188ea-2a89-48f0-9184-91601a244622",
   "metadata": {
    "tags": []
   },
   "outputs": [
    {
     "name": "stdout",
     "output_type": "stream",
     "text": [
      "Looping through each Hen and their associated egg counts per Hen to generate the Egg Table\n",
      "LORRINE 481\n",
      "DOROTHA 490\n",
      "EBONY 474\n",
      "KARIMA 476\n",
      "ANNABELLE 478\n",
      "TRUDIE 476\n",
      "DONELLA 448\n",
      "ELIZA 497\n",
      "RAYMONDE 478\n",
      "PORSHA 467\n",
      "KAYLENE 495\n",
      "MITSUKO 488\n",
      "WEI 464\n",
      "VALENCIA 486\n",
      "LEIDA 450\n",
      "SUSANN 509\n",
      "LISBETH 495\n",
      "JOEL 476\n",
      "SIGRID 464\n",
      "CAREN 495\n",
      "LAUREEN 467\n",
      "WINDY 505\n",
      "KERI 445\n",
      "DEEDRA 448\n",
      "PALMIRA 464\n",
      "DANELLE 471\n",
      "MARVA 471\n",
      "HANNELORE 483\n",
      "ONITA 426\n",
      "PHILOMENA 486\n",
      "DONALD 443\n",
      "DEE 505\n",
      "BRUNA 471\n",
      "LATRINA 500\n",
      "GREGORY 459\n",
      "ALEXA 488\n",
      "CHER 452\n",
      "LORELEI 505\n",
      "CHARLOTT 474\n",
      "ALENA 448\n",
      "CHARLIE 459\n",
      "CHANG 488\n",
      "CHERISH 481\n",
      "KIYOKO 495\n",
      "URSULA 443\n",
      "ASIA 429\n",
      "ERMA 459\n",
      "AMEE 514\n",
      "KATELYN 490\n",
      "CLARITA 483\n",
      "DEANDREA 514\n",
      "DELPHA 471\n",
      "KORTNEY 448\n",
      "TRICIA 476\n",
      "LYNDSEY 476\n",
      "ALAINE 486\n",
      "LINN 443\n",
      "THORA 505\n",
      "CLAIRE 474\n",
      "MAI 495\n",
      "ALTHEA 474\n",
      "TIESHA 469\n",
      "GEORGANN 488\n",
      "NAKISHA 452\n",
      "ANGELE 448\n",
      "DAYSI 514\n",
      "KENNA 483\n",
      "ALAINE 462\n",
      "LESIA 490\n",
      "DIANNE 481\n",
      "DEANN 490\n",
      "MELVA 448\n",
      "MICHA 471\n",
      "TWANDA 483\n"
     ]
    }
   ],
   "source": [
    "print(\"Looping through each Hen and their associated egg counts per Hen to generate the Egg Table\")\n",
    "#Second Generation of Eggs\n",
    "eggs2_df = pd.DataFrame()\n",
    "\n",
    "#Add Parent_Gen Column to the Egg Table: The is Gen1 generating Gen2 eggs\n",
    "#The Parent_Gen column will help track the operation growth and family, etc.\n",
    "#Assign Gen1 to the Gen 2 Egg routine\n",
    "eggs2_df['Parent_Gen'] = \"Gen1\"\n",
    "\n",
    "#convert location table to a list to radomonly assign egg location - egg can only have 1 of three locations based on assumptions.\n",
    "location_list = location_df['IH_Location'].tolist()\n",
    "number_of_samples = 1\n",
    "NW = 'False'\n",
    "\n",
    "#Convert Complete Rooster table to List to radomon aassign Rooster to Egg:\n",
    "#Use Complete Rooster List\n",
    "rooster_list = roosters_df['C_ID'].tolist()\n",
    "\n",
    "#Iterate over each Gen1 Hen\n",
    "\n",
    "for index, row in first_gen_hen.iterrows():\n",
    "    eggs_per_hen = row['egg_count_round']\n",
    "    hen = row['Name']\n",
    "    PH_ID = row['C_ID']\n",
    "    #print(row['egg_count_round'])\n",
    "    print( row['Name'], eggs_per_hen)\n",
    "    \n",
    "    for i in range(eggs_per_hen):\n",
    "        #Create a new random Egg ID - E_ID\n",
    "        # generte random integer ids\n",
    "        # generate egg id\n",
    "        E_ID = np.random.randint(low=1e3, high=1e9)\n",
    "        Parent_Gen = \"Gen1\"\n",
    "        #generate Parent Rooster ID - PR_ID\n",
    "        PR_ID = random.choices(population=rooster_list, k=number_of_samples)\n",
    "        \n",
    "        #Generate Location and assign to each egg\n",
    "        IH_LOC = random.choices(population=location_list, k=number_of_samples)\n",
    "                        \n",
    "        #Append each egg to the Egg Table:\n",
    "        eggs2_df = eggs2_df.append(pd.DataFrame({'E_ID': E_ID, 'PH_Name': hen, 'PH_ID': PH_ID, 'PR_ID': PR_ID, 'IH_LOC': IH_LOC, 'NW': NW, 'Parent_Gen': Parent_Gen }, index=[0]), ignore_index=True)"
   ]
  },
  {
   "cell_type": "code",
   "execution_count": 657,
   "id": "42bca499-fe90-4757-ac94-4512fcf30dc2",
   "metadata": {
    "tags": []
   },
   "outputs": [
    {
     "data": {
      "text/html": [
       "<div>\n",
       "<style scoped>\n",
       "    .dataframe tbody tr th:only-of-type {\n",
       "        vertical-align: middle;\n",
       "    }\n",
       "\n",
       "    .dataframe tbody tr th {\n",
       "        vertical-align: top;\n",
       "    }\n",
       "\n",
       "    .dataframe thead th {\n",
       "        text-align: right;\n",
       "    }\n",
       "</style>\n",
       "<table border=\"1\" class=\"dataframe\">\n",
       "  <thead>\n",
       "    <tr style=\"text-align: right;\">\n",
       "      <th></th>\n",
       "      <th>Parent_Gen</th>\n",
       "      <th>E_ID</th>\n",
       "      <th>PH_Name</th>\n",
       "      <th>PH_ID</th>\n",
       "      <th>PR_ID</th>\n",
       "      <th>IH_LOC</th>\n",
       "      <th>NW</th>\n",
       "    </tr>\n",
       "  </thead>\n",
       "  <tbody>\n",
       "    <tr>\n",
       "      <th>0</th>\n",
       "      <td>Gen1</td>\n",
       "      <td>705646701.0</td>\n",
       "      <td>LORRINE</td>\n",
       "      <td>169163902.0</td>\n",
       "      <td>281222266.0</td>\n",
       "      <td>C</td>\n",
       "      <td>False</td>\n",
       "    </tr>\n",
       "    <tr>\n",
       "      <th>1</th>\n",
       "      <td>Gen1</td>\n",
       "      <td>923493233.0</td>\n",
       "      <td>LORRINE</td>\n",
       "      <td>169163902.0</td>\n",
       "      <td>513622141.0</td>\n",
       "      <td>C</td>\n",
       "      <td>False</td>\n",
       "    </tr>\n",
       "    <tr>\n",
       "      <th>2</th>\n",
       "      <td>Gen1</td>\n",
       "      <td>770555209.0</td>\n",
       "      <td>LORRINE</td>\n",
       "      <td>169163902.0</td>\n",
       "      <td>800981516.0</td>\n",
       "      <td>C</td>\n",
       "      <td>False</td>\n",
       "    </tr>\n",
       "  </tbody>\n",
       "</table>\n",
       "</div>"
      ],
      "text/plain": [
       "  Parent_Gen         E_ID  PH_Name        PH_ID        PR_ID IH_LOC     NW\n",
       "0       Gen1  705646701.0  LORRINE  169163902.0  281222266.0      C  False\n",
       "1       Gen1  923493233.0  LORRINE  169163902.0  513622141.0      C  False\n",
       "2       Gen1  770555209.0  LORRINE  169163902.0  800981516.0      C  False"
      ]
     },
     "execution_count": 657,
     "metadata": {},
     "output_type": "execute_result"
    }
   ],
   "source": [
    "eggs2_df.head(3)"
   ]
  },
  {
   "cell_type": "code",
   "execution_count": 658,
   "id": "84bf016e-b5b1-4dab-ad48-37e24802dff9",
   "metadata": {
    "tags": []
   },
   "outputs": [
    {
     "data": {
      "text/plain": [
       "35180"
      ]
     },
     "execution_count": 658,
     "metadata": {},
     "output_type": "execute_result"
    }
   ],
   "source": [
    "eggs2_df.shape[0]"
   ]
  },
  {
   "cell_type": "code",
   "execution_count": 659,
   "id": "f2feebcf-f371-4b12-b1f3-5c17b1f2e7fa",
   "metadata": {
    "tags": []
   },
   "outputs": [
    {
     "data": {
      "text/html": [
       "<div>\n",
       "<style scoped>\n",
       "    .dataframe tbody tr th:only-of-type {\n",
       "        vertical-align: middle;\n",
       "    }\n",
       "\n",
       "    .dataframe tbody tr th {\n",
       "        vertical-align: top;\n",
       "    }\n",
       "\n",
       "    .dataframe thead th {\n",
       "        text-align: right;\n",
       "    }\n",
       "</style>\n",
       "<table border=\"1\" class=\"dataframe\">\n",
       "  <thead>\n",
       "    <tr style=\"text-align: right;\">\n",
       "      <th></th>\n",
       "      <th>Parent_Gen</th>\n",
       "      <th>E_ID</th>\n",
       "      <th>PH_Name</th>\n",
       "      <th>PH_ID</th>\n",
       "      <th>PR_ID</th>\n",
       "      <th>IH_LOC</th>\n",
       "      <th>NW</th>\n",
       "    </tr>\n",
       "  </thead>\n",
       "  <tbody>\n",
       "  </tbody>\n",
       "</table>\n",
       "</div>"
      ],
      "text/plain": [
       "Empty DataFrame\n",
       "Columns: [Parent_Gen, E_ID, PH_Name, PH_ID, PR_ID, IH_LOC, NW]\n",
       "Index: []"
      ]
     },
     "execution_count": 659,
     "metadata": {},
     "output_type": "execute_result"
    }
   ],
   "source": [
    "#Check for duplicate IDs\n",
    "eggs2_df[eggs2_df.duplicated(['E_ID'], keep=False)]"
   ]
  },
  {
   "cell_type": "code",
   "execution_count": 660,
   "id": "f6871ca1-2dd3-485d-970c-0a4c8928de2e",
   "metadata": {
    "tags": []
   },
   "outputs": [],
   "source": [
    "#Set Location values for Window Location based on IH_LOC == B\n",
    "eggs2_df.loc[(eggs2_df['IH_LOC'] == 'B'), 'NW'] = True "
   ]
  },
  {
   "cell_type": "code",
   "execution_count": 661,
   "id": "58810ca4-65ec-470e-8793-7fbf07651e3a",
   "metadata": {
    "tags": []
   },
   "outputs": [],
   "source": [
    "#eggs2_df.head(10)"
   ]
  },
  {
   "cell_type": "markdown",
   "id": "0f349bfb-75e2-4081-91c7-1f845283bb5a",
   "metadata": {
    "tags": []
   },
   "source": [
    "### Convert Gen 2 Eggs to Chickens and Combine\n",
    "* combine Total Eggs Table\n",
    "* combine Total Chicken Table"
   ]
  },
  {
   "cell_type": "code",
   "execution_count": 662,
   "id": "af3d7b2a-0260-4958-bea0-6c1f54cb2d9d",
   "metadata": {
    "tags": []
   },
   "outputs": [],
   "source": [
    "#Provide a smaller rate than the first generation\n",
    "gen2_eggconversion_ratio = 0.43"
   ]
  },
  {
   "cell_type": "code",
   "execution_count": 663,
   "id": "cbf3f259-d95e-42d6-8a8c-31213a2909b5",
   "metadata": {
    "tags": []
   },
   "outputs": [
    {
     "name": "stdout",
     "output_type": "stream",
     "text": [
      "This selection ratio should provide the farm with 1670 Gen 2 Chickens\n"
     ]
    }
   ],
   "source": [
    "second_gen_selection = first_gen_hen[['Name', 'Sex', 'egg_rate_per_year', 'C_ID', 'Generation']]\n",
    "second_gen_selection['Counts'] = (second_gen_selection['egg_rate_per_year'] / 2 * 0.23).apply(np.floor)\n",
    "\n",
    "second_gen_selection['Counts'] = second_gen_selection['Counts'].astype(int)\n",
    "#df['egg_count_round'] = df['egg_count'].apply(np.floor)\n",
    "print(\"This selection ratio should provide the farm with\", second_gen_selection['Counts'].sum(), \"Gen 2 Chickens\")"
   ]
  },
  {
   "cell_type": "code",
   "execution_count": 664,
   "id": "b259d5ce-74d5-4ea1-aa18-43c58246dc27",
   "metadata": {
    "tags": []
   },
   "outputs": [],
   "source": [
    "#second_gen_selection"
   ]
  },
  {
   "cell_type": "code",
   "execution_count": 665,
   "id": "ab72170f-10d7-414d-9b37-5e201ce99efa",
   "metadata": {
    "tags": []
   },
   "outputs": [],
   "source": [
    "second_gen_slicer = second_gen_selection[['Name', 'C_ID', 'Counts']]"
   ]
  },
  {
   "cell_type": "code",
   "execution_count": 666,
   "id": "51cef328-e2fd-49be-9ab9-734909a4171b",
   "metadata": {
    "tags": []
   },
   "outputs": [],
   "source": [
    "#second_gen_slicer"
   ]
  },
  {
   "cell_type": "code",
   "execution_count": 667,
   "id": "bdab3fa7-4ed5-45c7-9037-df773681ad20",
   "metadata": {
    "tags": []
   },
   "outputs": [
    {
     "data": {
      "text/html": [
       "<div>\n",
       "<style scoped>\n",
       "    .dataframe tbody tr th:only-of-type {\n",
       "        vertical-align: middle;\n",
       "    }\n",
       "\n",
       "    .dataframe tbody tr th {\n",
       "        vertical-align: top;\n",
       "    }\n",
       "\n",
       "    .dataframe thead th {\n",
       "        text-align: right;\n",
       "    }\n",
       "</style>\n",
       "<table border=\"1\" class=\"dataframe\">\n",
       "  <thead>\n",
       "    <tr style=\"text-align: right;\">\n",
       "      <th></th>\n",
       "      <th>Parent_Gen</th>\n",
       "      <th>E_ID</th>\n",
       "      <th>PH_Name</th>\n",
       "      <th>PH_ID</th>\n",
       "      <th>PR_ID</th>\n",
       "      <th>IH_LOC</th>\n",
       "      <th>NW</th>\n",
       "    </tr>\n",
       "  </thead>\n",
       "  <tbody>\n",
       "  </tbody>\n",
       "</table>\n",
       "</div>"
      ],
      "text/plain": [
       "Empty DataFrame\n",
       "Columns: [Parent_Gen, E_ID, PH_Name, PH_ID, PR_ID, IH_LOC, NW]\n",
       "Index: []"
      ]
     },
     "execution_count": 667,
     "metadata": {},
     "output_type": "execute_result"
    }
   ],
   "source": [
    "#Check for duplicate IDs\n",
    "eggs2_df[eggs2_df.duplicated(['E_ID'], keep=False)]"
   ]
  },
  {
   "cell_type": "code",
   "execution_count": 668,
   "id": "f66e29f9-fb18-477c-83a7-a4b733979744",
   "metadata": {
    "tags": []
   },
   "outputs": [],
   "source": [
    "chicken_second = pd.DataFrame()\n",
    "\n",
    "for index, row in second_gen_slicer.iterrows():\n",
    "    chicks_per_hen = row['Counts']\n",
    "    hen = row['Name']\n",
    "    PH_ID = row['C_ID']\n",
    "    \n",
    "    \n",
    "    # Creating a second dataframe that will be the subset of main dataframe\n",
    "    #print(\"Second data frame\")\n",
    "    dataframe_second = eggs2_df[['E_ID', 'PH_Name', 'PH_ID', 'PR_ID']].sample(n=chicks_per_hen, replace= False)\n",
    "    \n",
    "    #Line to fix loop - Convert Egg ID (E_ID) to Chicken ID before appending to second generation dataframe\n",
    "    dataframe_second['C_ID'] =dataframe_second['E_ID']\n",
    "    \n",
    "    chicken_second = chicken_second.append(dataframe_second)\n",
    "    chicken_second['Generation'] = 'Gen2'\n",
    "    chicken_second['Color'] = color\n",
    "    \n",
    "    #chicken_second['C_ID'] = chicken_second['E_ID']\n",
    "    "
   ]
  },
  {
   "cell_type": "code",
   "execution_count": 669,
   "id": "4c5181e2-6283-4f29-ade8-fcbf179f1730",
   "metadata": {
    "tags": []
   },
   "outputs": [
    {
     "data": {
      "text/plain": [
       "Index(['E_ID', 'PH_Name', 'PH_ID', 'PR_ID', 'C_ID', 'Generation', 'Color'], dtype='object')"
      ]
     },
     "execution_count": 669,
     "metadata": {},
     "output_type": "execute_result"
    }
   ],
   "source": [
    "chicken_second.columns"
   ]
  },
  {
   "cell_type": "code",
   "execution_count": 670,
   "id": "fa8e76e5-ea56-45a1-bad2-e9f52add8fe1",
   "metadata": {
    "tags": []
   },
   "outputs": [
    {
     "data": {
      "text/html": [
       "<div>\n",
       "<style scoped>\n",
       "    .dataframe tbody tr th:only-of-type {\n",
       "        vertical-align: middle;\n",
       "    }\n",
       "\n",
       "    .dataframe tbody tr th {\n",
       "        vertical-align: top;\n",
       "    }\n",
       "\n",
       "    .dataframe thead th {\n",
       "        text-align: right;\n",
       "    }\n",
       "</style>\n",
       "<table border=\"1\" class=\"dataframe\">\n",
       "  <thead>\n",
       "    <tr style=\"text-align: right;\">\n",
       "      <th></th>\n",
       "      <th>E_ID</th>\n",
       "      <th>PH_Name</th>\n",
       "      <th>PH_ID</th>\n",
       "      <th>PR_ID</th>\n",
       "      <th>C_ID</th>\n",
       "      <th>Generation</th>\n",
       "      <th>Color</th>\n",
       "    </tr>\n",
       "  </thead>\n",
       "  <tbody>\n",
       "    <tr>\n",
       "      <th>1677</th>\n",
       "      <td>95412191.0</td>\n",
       "      <td>KARIMA</td>\n",
       "      <td>3703835.0</td>\n",
       "      <td>275508229.0</td>\n",
       "      <td>95412191.0</td>\n",
       "      <td>Gen2</td>\n",
       "      <td>Black&amp;White</td>\n",
       "    </tr>\n",
       "    <tr>\n",
       "      <th>1677</th>\n",
       "      <td>95412191.0</td>\n",
       "      <td>KARIMA</td>\n",
       "      <td>3703835.0</td>\n",
       "      <td>275508229.0</td>\n",
       "      <td>95412191.0</td>\n",
       "      <td>Gen2</td>\n",
       "      <td>Black&amp;White</td>\n",
       "    </tr>\n",
       "    <tr>\n",
       "      <th>26564</th>\n",
       "      <td>189928254.0</td>\n",
       "      <td>ALAINE</td>\n",
       "      <td>76709333.0</td>\n",
       "      <td>899766072.0</td>\n",
       "      <td>189928254.0</td>\n",
       "      <td>Gen2</td>\n",
       "      <td>Black&amp;White</td>\n",
       "    </tr>\n",
       "    <tr>\n",
       "      <th>26564</th>\n",
       "      <td>189928254.0</td>\n",
       "      <td>ALAINE</td>\n",
       "      <td>76709333.0</td>\n",
       "      <td>899766072.0</td>\n",
       "      <td>189928254.0</td>\n",
       "      <td>Gen2</td>\n",
       "      <td>Black&amp;White</td>\n",
       "    </tr>\n",
       "    <tr>\n",
       "      <th>11943</th>\n",
       "      <td>212279309.0</td>\n",
       "      <td>DANELLE</td>\n",
       "      <td>24517643.0</td>\n",
       "      <td>170209024.0</td>\n",
       "      <td>212279309.0</td>\n",
       "      <td>Gen2</td>\n",
       "      <td>Black&amp;White</td>\n",
       "    </tr>\n",
       "    <tr>\n",
       "      <th>...</th>\n",
       "      <td>...</td>\n",
       "      <td>...</td>\n",
       "      <td>...</td>\n",
       "      <td>...</td>\n",
       "      <td>...</td>\n",
       "      <td>...</td>\n",
       "      <td>...</td>\n",
       "    </tr>\n",
       "    <tr>\n",
       "      <th>2821</th>\n",
       "      <td>846735066.0</td>\n",
       "      <td>TRUDIE</td>\n",
       "      <td>656829586.0</td>\n",
       "      <td>574340276.0</td>\n",
       "      <td>846735066.0</td>\n",
       "      <td>Gen2</td>\n",
       "      <td>Black&amp;White</td>\n",
       "    </tr>\n",
       "    <tr>\n",
       "      <th>25839</th>\n",
       "      <td>901467976.0</td>\n",
       "      <td>LYNDSEY</td>\n",
       "      <td>236336642.0</td>\n",
       "      <td>858496373.0</td>\n",
       "      <td>901467976.0</td>\n",
       "      <td>Gen2</td>\n",
       "      <td>Black&amp;White</td>\n",
       "    </tr>\n",
       "    <tr>\n",
       "      <th>25839</th>\n",
       "      <td>901467976.0</td>\n",
       "      <td>LYNDSEY</td>\n",
       "      <td>236336642.0</td>\n",
       "      <td>858496373.0</td>\n",
       "      <td>901467976.0</td>\n",
       "      <td>Gen2</td>\n",
       "      <td>Black&amp;White</td>\n",
       "    </tr>\n",
       "    <tr>\n",
       "      <th>5513</th>\n",
       "      <td>901773248.0</td>\n",
       "      <td>MITSUKO</td>\n",
       "      <td>413557007.0</td>\n",
       "      <td>915956610.0</td>\n",
       "      <td>901773248.0</td>\n",
       "      <td>Gen2</td>\n",
       "      <td>Black&amp;White</td>\n",
       "    </tr>\n",
       "    <tr>\n",
       "      <th>5513</th>\n",
       "      <td>901773248.0</td>\n",
       "      <td>MITSUKO</td>\n",
       "      <td>413557007.0</td>\n",
       "      <td>915956610.0</td>\n",
       "      <td>901773248.0</td>\n",
       "      <td>Gen2</td>\n",
       "      <td>Black&amp;White</td>\n",
       "    </tr>\n",
       "  </tbody>\n",
       "</table>\n",
       "<p>70 rows × 7 columns</p>\n",
       "</div>"
      ],
      "text/plain": [
       "              E_ID  PH_Name        PH_ID        PR_ID         C_ID Generation  \\\n",
       "1677    95412191.0   KARIMA    3703835.0  275508229.0   95412191.0       Gen2   \n",
       "1677    95412191.0   KARIMA    3703835.0  275508229.0   95412191.0       Gen2   \n",
       "26564  189928254.0   ALAINE   76709333.0  899766072.0  189928254.0       Gen2   \n",
       "26564  189928254.0   ALAINE   76709333.0  899766072.0  189928254.0       Gen2   \n",
       "11943  212279309.0  DANELLE   24517643.0  170209024.0  212279309.0       Gen2   \n",
       "...            ...      ...          ...          ...          ...        ...   \n",
       "2821   846735066.0   TRUDIE  656829586.0  574340276.0  846735066.0       Gen2   \n",
       "25839  901467976.0  LYNDSEY  236336642.0  858496373.0  901467976.0       Gen2   \n",
       "25839  901467976.0  LYNDSEY  236336642.0  858496373.0  901467976.0       Gen2   \n",
       "5513   901773248.0  MITSUKO  413557007.0  915956610.0  901773248.0       Gen2   \n",
       "5513   901773248.0  MITSUKO  413557007.0  915956610.0  901773248.0       Gen2   \n",
       "\n",
       "             Color  \n",
       "1677   Black&White  \n",
       "1677   Black&White  \n",
       "26564  Black&White  \n",
       "26564  Black&White  \n",
       "11943  Black&White  \n",
       "...            ...  \n",
       "2821   Black&White  \n",
       "25839  Black&White  \n",
       "25839  Black&White  \n",
       "5513   Black&White  \n",
       "5513   Black&White  \n",
       "\n",
       "[70 rows x 7 columns]"
      ]
     },
     "execution_count": 670,
     "metadata": {},
     "output_type": "execute_result"
    }
   ],
   "source": [
    "#Check for duplicate IDs\n",
    "chicken_second[chicken_second.duplicated(['E_ID'], keep=False)].sort_values(\"E_ID\")"
   ]
  },
  {
   "cell_type": "code",
   "execution_count": 671,
   "id": "8a3fab20-3a8b-45b3-81b5-1ed4b3c3fd27",
   "metadata": {
    "tags": []
   },
   "outputs": [
    {
     "data": {
      "text/plain": [
       "1635"
      ]
     },
     "execution_count": 671,
     "metadata": {},
     "output_type": "execute_result"
    }
   ],
   "source": [
    "chicken_second['C_ID'].nunique()"
   ]
  },
  {
   "cell_type": "code",
   "execution_count": 672,
   "id": "939d3ff7-d04a-4984-83d8-739ec01c92c2",
   "metadata": {
    "tags": []
   },
   "outputs": [
    {
     "data": {
      "text/plain": [
       "1670"
      ]
     },
     "execution_count": 672,
     "metadata": {},
     "output_type": "execute_result"
    }
   ],
   "source": [
    "chicken_second.shape[0]"
   ]
  },
  {
   "cell_type": "code",
   "execution_count": 673,
   "id": "bdc061d8-d791-4fac-98ab-e742b1e85f4c",
   "metadata": {
    "tags": []
   },
   "outputs": [
    {
     "data": {
      "text/plain": [
       "1635"
      ]
     },
     "execution_count": 673,
     "metadata": {},
     "output_type": "execute_result"
    }
   ],
   "source": [
    "#Check for duplicate IDs\n",
    "#chicken_second[chicken_second.duplicated(['C_ID'], keep=False)].sort_values(\"C_ID\")\n",
    "\n",
    "#df = df.drop_duplicates('column_name', keep='last')\n",
    "c2_clean_df = chicken_second.drop_duplicates('C_ID', keep='first')\n",
    "c2_clean_df.shape[0]"
   ]
  },
  {
   "cell_type": "code",
   "execution_count": 674,
   "id": "e8b522ae-ea52-4536-829e-d03e75279e9c",
   "metadata": {
    "tags": []
   },
   "outputs": [
    {
     "data": {
      "text/html": [
       "<div>\n",
       "<style scoped>\n",
       "    .dataframe tbody tr th:only-of-type {\n",
       "        vertical-align: middle;\n",
       "    }\n",
       "\n",
       "    .dataframe tbody tr th {\n",
       "        vertical-align: top;\n",
       "    }\n",
       "\n",
       "    .dataframe thead th {\n",
       "        text-align: right;\n",
       "    }\n",
       "</style>\n",
       "<table border=\"1\" class=\"dataframe\">\n",
       "  <thead>\n",
       "    <tr style=\"text-align: right;\">\n",
       "      <th></th>\n",
       "      <th>E_ID</th>\n",
       "      <th>PH_Name</th>\n",
       "      <th>PH_ID</th>\n",
       "      <th>PR_ID</th>\n",
       "      <th>C_ID</th>\n",
       "      <th>Generation</th>\n",
       "      <th>Color</th>\n",
       "    </tr>\n",
       "  </thead>\n",
       "  <tbody>\n",
       "  </tbody>\n",
       "</table>\n",
       "</div>"
      ],
      "text/plain": [
       "Empty DataFrame\n",
       "Columns: [E_ID, PH_Name, PH_ID, PR_ID, C_ID, Generation, Color]\n",
       "Index: []"
      ]
     },
     "execution_count": 674,
     "metadata": {},
     "output_type": "execute_result"
    }
   ],
   "source": [
    "#Verify Eggs ID duplicate IDs are removed and\n",
    "c2_clean_count = len(c2_clean_df[c2_clean_df.duplicated(['E_ID'], keep=False)].sort_values(\"E_ID\"))\n",
    "c2_clean_df[c2_clean_df.duplicated(['E_ID'], keep=False)].sort_values(\"E_ID\")"
   ]
  },
  {
   "cell_type": "code",
   "execution_count": 675,
   "id": "eead7ea1-66a6-4a6d-ab0b-d51400203faa",
   "metadata": {
    "tags": []
   },
   "outputs": [
    {
     "name": "stdout",
     "output_type": "stream",
     "text": [
      "0\n",
      "Re-assigning clean dataframe to second generation of Chickens\n"
     ]
    }
   ],
   "source": [
    "#Reassign if = 0\n",
    "print(c2_clean_count)\n",
    "if c2_clean_count == 0:\n",
    "    print(\"Re-assigning clean dataframe to second generation of Chickens\")\n",
    "    chicken_second = c2_clean_df\n",
    "else:\n",
    "    print(\"There are still some duplicate records\")"
   ]
  },
  {
   "cell_type": "code",
   "execution_count": 676,
   "id": "c9bccf57-0f8a-4f16-9ed0-ee11a2ed6ebc",
   "metadata": {
    "tags": []
   },
   "outputs": [
    {
     "name": "stdout",
     "output_type": "stream",
     "text": [
      "The Second Geration has produced:\n",
      "================================\n",
      "821 Roosters\n",
      "814 Hens\n"
     ]
    }
   ],
   "source": [
    "#Assign Favorite Song to First Gen Chickens\n",
    "chicken_second[\"Favorite_Song\"] = np.random.choice(song_list, size=len(chicken_second))\n",
    "\n",
    "#Assign Sex to First Gen Chickents\n",
    "chicken_second['Sex'] = np.random.choice(sex_list, size=len(chicken_second))\n",
    "\n",
    "second_gen_rooster_count = chicken_second[chicken_second['Sex'] == \"Rooster\"].shape[0]\n",
    "second_gen_rooster = chicken_second[chicken_second['Sex'] == \"Rooster\"]\n",
    "\n",
    "second_gen_hen_count = chicken_second[chicken_second['Sex'] == \"Hen\"].shape[0]\n",
    "second_gen_hen = chicken_second[chicken_second['Sex'] == \"Hen\"]\n",
    "\n",
    "print(\"The Second Geration has produced:\")\n",
    "print(\"================================\")\n",
    "print(second_gen_rooster_count, \"Roosters\")\n",
    "print(second_gen_hen_count, \"Hens\")\n",
    "\n",
    "#Gerate the an appropriate nummber of Rooster Names for Fist Generation and assign\n",
    "second_gen_rooster_names = random.sample(rooster_names_list, second_gen_rooster_count)\n",
    "second_gen_rooster['Name'] = np.random.choice(rooster_names_list, size=len(second_gen_rooster))\n",
    "\n",
    "#Generate the appropriate number/list of Hens Names for First Generation and assign\n",
    "second_gen_hens_names = random.sample(hen_names_list, second_gen_hen_count)\n",
    "second_gen_hen['Name'] = np.random.choice(hen_names_list, size=len(second_gen_hen))\n",
    "\n",
    "\n",
    "second_gen_chickens = pd.concat([second_gen_hen, second_gen_rooster], axis=0)"
   ]
  },
  {
   "cell_type": "code",
   "execution_count": 677,
   "id": "a2050e5d-2670-4971-abf7-bbe3b38ad199",
   "metadata": {
    "tags": []
   },
   "outputs": [
    {
     "data": {
      "text/plain": [
       "1635"
      ]
     },
     "execution_count": 677,
     "metadata": {},
     "output_type": "execute_result"
    }
   ],
   "source": [
    "second_gen_chickens.shape[0]"
   ]
  },
  {
   "cell_type": "code",
   "execution_count": 678,
   "id": "37f61c4a-b19a-4d77-be2b-da4eb8f5702a",
   "metadata": {
    "tags": []
   },
   "outputs": [
    {
     "data": {
      "text/html": [
       "<div>\n",
       "<style scoped>\n",
       "    .dataframe tbody tr th:only-of-type {\n",
       "        vertical-align: middle;\n",
       "    }\n",
       "\n",
       "    .dataframe tbody tr th {\n",
       "        vertical-align: top;\n",
       "    }\n",
       "\n",
       "    .dataframe thead th {\n",
       "        text-align: right;\n",
       "    }\n",
       "</style>\n",
       "<table border=\"1\" class=\"dataframe\">\n",
       "  <thead>\n",
       "    <tr style=\"text-align: right;\">\n",
       "      <th></th>\n",
       "      <th>E_ID</th>\n",
       "      <th>PH_Name</th>\n",
       "      <th>PH_ID</th>\n",
       "      <th>PR_ID</th>\n",
       "      <th>C_ID</th>\n",
       "      <th>Generation</th>\n",
       "      <th>Color</th>\n",
       "      <th>Favorite_Song</th>\n",
       "      <th>Sex</th>\n",
       "      <th>Name</th>\n",
       "    </tr>\n",
       "  </thead>\n",
       "  <tbody>\n",
       "    <tr>\n",
       "      <th>34961</th>\n",
       "      <td>263244011.0</td>\n",
       "      <td>TWANDA</td>\n",
       "      <td>956866415.0</td>\n",
       "      <td>585598796.0</td>\n",
       "      <td>263244011.0</td>\n",
       "      <td>Gen2</td>\n",
       "      <td>Black&amp;White</td>\n",
       "      <td>Somebody Get Me A Doctor</td>\n",
       "      <td>Hen</td>\n",
       "      <td>DOVIE</td>\n",
       "    </tr>\n",
       "    <tr>\n",
       "      <th>11534</th>\n",
       "      <td>39354351.0</td>\n",
       "      <td>PALMIRA</td>\n",
       "      <td>947646042.0</td>\n",
       "      <td>762873661.0</td>\n",
       "      <td>39354351.0</td>\n",
       "      <td>Gen2</td>\n",
       "      <td>Black&amp;White</td>\n",
       "      <td>Reelin' in the Years</td>\n",
       "      <td>Hen</td>\n",
       "      <td>CLARENCE</td>\n",
       "    </tr>\n",
       "    <tr>\n",
       "      <th>10960</th>\n",
       "      <td>254174310.0</td>\n",
       "      <td>KERI</td>\n",
       "      <td>780022278.0</td>\n",
       "      <td>159398693.0</td>\n",
       "      <td>254174310.0</td>\n",
       "      <td>Gen2</td>\n",
       "      <td>Black&amp;White</td>\n",
       "      <td>Cradle of Love</td>\n",
       "      <td>Hen</td>\n",
       "      <td>CAMILLE</td>\n",
       "    </tr>\n",
       "    <tr>\n",
       "      <th>28739</th>\n",
       "      <td>978483165.0</td>\n",
       "      <td>ALTHEA</td>\n",
       "      <td>438668483.0</td>\n",
       "      <td>170209024.0</td>\n",
       "      <td>978483165.0</td>\n",
       "      <td>Gen2</td>\n",
       "      <td>Black&amp;White</td>\n",
       "      <td>Road To Nowhere</td>\n",
       "      <td>Hen</td>\n",
       "      <td>HENRIETTA</td>\n",
       "    </tr>\n",
       "    <tr>\n",
       "      <th>22927</th>\n",
       "      <td>29638439.0</td>\n",
       "      <td>KATELYN</td>\n",
       "      <td>853996335.0</td>\n",
       "      <td>568944416.0</td>\n",
       "      <td>29638439.0</td>\n",
       "      <td>Gen2</td>\n",
       "      <td>Black&amp;White</td>\n",
       "      <td>I Can See For Miles</td>\n",
       "      <td>Hen</td>\n",
       "      <td>PEI</td>\n",
       "    </tr>\n",
       "  </tbody>\n",
       "</table>\n",
       "</div>"
      ],
      "text/plain": [
       "              E_ID  PH_Name        PH_ID        PR_ID         C_ID Generation  \\\n",
       "34961  263244011.0   TWANDA  956866415.0  585598796.0  263244011.0       Gen2   \n",
       "11534   39354351.0  PALMIRA  947646042.0  762873661.0   39354351.0       Gen2   \n",
       "10960  254174310.0     KERI  780022278.0  159398693.0  254174310.0       Gen2   \n",
       "28739  978483165.0   ALTHEA  438668483.0  170209024.0  978483165.0       Gen2   \n",
       "22927   29638439.0  KATELYN  853996335.0  568944416.0   29638439.0       Gen2   \n",
       "\n",
       "             Color             Favorite_Song  Sex       Name  \n",
       "34961  Black&White  Somebody Get Me A Doctor  Hen      DOVIE  \n",
       "11534  Black&White      Reelin' in the Years  Hen   CLARENCE  \n",
       "10960  Black&White            Cradle of Love  Hen    CAMILLE  \n",
       "28739  Black&White           Road To Nowhere  Hen  HENRIETTA  \n",
       "22927  Black&White       I Can See For Miles  Hen        PEI  "
      ]
     },
     "execution_count": 678,
     "metadata": {},
     "output_type": "execute_result"
    }
   ],
   "source": [
    "second_gen_chickens.head(5)"
   ]
  },
  {
   "cell_type": "code",
   "execution_count": 679,
   "id": "356707a5-ad87-423e-af2d-2a49604a3a92",
   "metadata": {
    "tags": []
   },
   "outputs": [],
   "source": [
    "#Combine Initial Flock Chickens and First Gen Chickens into Chickens Table\n",
    "chickens_total_df = pd.concat([chickens_combined_df, second_gen_chickens], axis=0 )"
   ]
  },
  {
   "cell_type": "code",
   "execution_count": 680,
   "id": "d10734d1-88f3-4766-af07-c80bcd4433eb",
   "metadata": {
    "tags": []
   },
   "outputs": [
    {
     "data": {
      "text/plain": [
       "1783"
      ]
     },
     "execution_count": 680,
     "metadata": {},
     "output_type": "execute_result"
    }
   ],
   "source": [
    "chickens_total_df.shape[0]"
   ]
  },
  {
   "cell_type": "code",
   "execution_count": 681,
   "id": "b8269730-e308-4e2e-aa78-8b7c9942c78d",
   "metadata": {
    "tags": []
   },
   "outputs": [
    {
     "data": {
      "text/plain": [
       "Index(['Name', 'Sex', 'Color', 'C_ID', 'Generation', 'Favorite_Song', 'E_ID',\n",
       "       'PH_Name', 'PH_ID', 'PR_ID'],\n",
       "      dtype='object')"
      ]
     },
     "execution_count": 681,
     "metadata": {},
     "output_type": "execute_result"
    }
   ],
   "source": [
    "chickens_total_df.columns"
   ]
  },
  {
   "cell_type": "code",
   "execution_count": 682,
   "id": "4ffca90f-07d8-4c50-a030-a018c045db6f",
   "metadata": {
    "tags": []
   },
   "outputs": [
    {
     "data": {
      "text/plain": [
       "1778"
      ]
     },
     "execution_count": 682,
     "metadata": {},
     "output_type": "execute_result"
    }
   ],
   "source": [
    "chickens_total_df['C_ID'].nunique()"
   ]
  },
  {
   "cell_type": "code",
   "execution_count": 683,
   "id": "5985dc63-7b92-4c10-a4da-68497966e2d9",
   "metadata": {
    "tags": []
   },
   "outputs": [],
   "source": [
    "#c2_clean_df = chicken_second.drop_duplicates('C_ID', keep='first')\n",
    "\n",
    "chickens_total_df = chickens_total_df.drop_duplicates('C_ID', keep='first')"
   ]
  },
  {
   "cell_type": "code",
   "execution_count": 684,
   "id": "3e44f0f2-c15b-449b-a8b3-843e491e741f",
   "metadata": {
    "tags": []
   },
   "outputs": [
    {
     "data": {
      "text/html": [
       "<div>\n",
       "<style scoped>\n",
       "    .dataframe tbody tr th:only-of-type {\n",
       "        vertical-align: middle;\n",
       "    }\n",
       "\n",
       "    .dataframe tbody tr th {\n",
       "        vertical-align: top;\n",
       "    }\n",
       "\n",
       "    .dataframe thead th {\n",
       "        text-align: right;\n",
       "    }\n",
       "</style>\n",
       "<table border=\"1\" class=\"dataframe\">\n",
       "  <thead>\n",
       "    <tr style=\"text-align: right;\">\n",
       "      <th></th>\n",
       "      <th>Name</th>\n",
       "      <th>Sex</th>\n",
       "      <th>Color</th>\n",
       "      <th>C_ID</th>\n",
       "      <th>Generation</th>\n",
       "      <th>Favorite_Song</th>\n",
       "      <th>E_ID</th>\n",
       "      <th>PH_Name</th>\n",
       "      <th>PH_ID</th>\n",
       "      <th>PR_ID</th>\n",
       "    </tr>\n",
       "  </thead>\n",
       "  <tbody>\n",
       "  </tbody>\n",
       "</table>\n",
       "</div>"
      ],
      "text/plain": [
       "Empty DataFrame\n",
       "Columns: [Name, Sex, Color, C_ID, Generation, Favorite_Song, E_ID, PH_Name, PH_ID, PR_ID]\n",
       "Index: []"
      ]
     },
     "execution_count": 684,
     "metadata": {},
     "output_type": "execute_result"
    }
   ],
   "source": [
    "#Verify Duplicates are removed\n",
    "chickens_total_df[chickens_total_df.duplicated(['C_ID'], keep=False)]"
   ]
  },
  {
   "cell_type": "code",
   "execution_count": 685,
   "id": "eac48a7f-b59e-4199-a422-670c930dc46d",
   "metadata": {
    "tags": []
   },
   "outputs": [],
   "source": [
    "chickens_total_df.to_csv('Coop/chickens_total_df.csv')"
   ]
  },
  {
   "cell_type": "code",
   "execution_count": 686,
   "id": "1ac21997-9f0a-4a0e-b3c2-db1d77fa82fb",
   "metadata": {
    "tags": []
   },
   "outputs": [],
   "source": [
    "#### Combine Both Generation Eggs into Complete Table\n",
    "eggs_total_df = pd.concat([egg_df, eggs2_df], axis=0)"
   ]
  },
  {
   "cell_type": "code",
   "execution_count": 687,
   "id": "a3d7d1e9-5e72-4735-884d-c9618d3f155b",
   "metadata": {
    "tags": []
   },
   "outputs": [
    {
     "data": {
      "text/plain": [
       "37435"
      ]
     },
     "execution_count": 687,
     "metadata": {},
     "output_type": "execute_result"
    }
   ],
   "source": [
    "eggs_total_df.shape[0]"
   ]
  },
  {
   "cell_type": "code",
   "execution_count": 688,
   "id": "c5c637a6-1356-4a06-ad85-87cd07ba723f",
   "metadata": {
    "tags": []
   },
   "outputs": [],
   "source": [
    "eggs_total_df.to_csv('Coop/eggs_total_df.csv')"
   ]
  },
  {
   "cell_type": "markdown",
   "id": "48019d22-b432-4f87-aa72-2676b6bfe27a",
   "metadata": {},
   "source": [
    "___"
   ]
  },
  {
   "cell_type": "markdown",
   "id": "a2a4a584-0f22-4870-9ee5-6760864e7589",
   "metadata": {},
   "source": [
    "# Exercise 3 Name Tags Table Generation"
   ]
  },
  {
   "cell_type": "code",
   "execution_count": 689,
   "id": "5ea15630-c04c-45c2-8c8e-5d571d7b985c",
   "metadata": {
    "tags": []
   },
   "outputs": [
    {
     "data": {
      "text/plain": [
       "Index(['Name', 'Sex', 'Color', 'C_ID', 'Generation', 'Favorite_Song', 'E_ID',\n",
       "       'PH_Name', 'PH_ID', 'PR_ID'],\n",
       "      dtype='object')"
      ]
     },
     "execution_count": 689,
     "metadata": {},
     "output_type": "execute_result"
    }
   ],
   "source": [
    "chickens_total_df.columns"
   ]
  },
  {
   "cell_type": "code",
   "execution_count": 690,
   "id": "c118518f-95d8-4c30-b187-9c28b56d03df",
   "metadata": {
    "tags": []
   },
   "outputs": [
    {
     "data": {
      "text/plain": [
       "1778"
      ]
     },
     "execution_count": 690,
     "metadata": {},
     "output_type": "execute_result"
    }
   ],
   "source": [
    "chickens_total_df.shape[0]"
   ]
  },
  {
   "cell_type": "code",
   "execution_count": 691,
   "id": "16e4a41d-5932-4927-a705-533381d7a74b",
   "metadata": {
    "tags": []
   },
   "outputs": [],
   "source": [
    "ctags_df = chickens_total_df[['Name', 'Favorite_Song', 'C_ID', 'E_ID', 'PH_Name', 'PH_ID', 'PR_ID']]"
   ]
  },
  {
   "cell_type": "code",
   "execution_count": 692,
   "id": "8acb3a51-1a03-45b6-a4e6-ad2c71af2e36",
   "metadata": {
    "tags": []
   },
   "outputs": [],
   "source": [
    "#Rename PH_Name coloumn to Mother - To provide cleanar data\n",
    "ctags_df.rename({'PH_Name': 'Mother'}, axis=1, inplace=True)"
   ]
  },
  {
   "cell_type": "code",
   "execution_count": 693,
   "id": "b0bc69e2-9fc5-4b5a-9ba5-aa04532a21c9",
   "metadata": {
    "tags": []
   },
   "outputs": [],
   "source": [
    "etags_df = eggs_total_df"
   ]
  },
  {
   "cell_type": "code",
   "execution_count": 694,
   "id": "b22522e9-ca18-4b36-b0d3-438a6301247b",
   "metadata": {
    "tags": []
   },
   "outputs": [
    {
     "data": {
      "text/plain": [
       "Index(['E_ID', 'PH_Name', 'PH_ID', 'PR_ID', 'IH_LOC', 'NW', 'Parent_Gen'], dtype='object')"
      ]
     },
     "execution_count": 694,
     "metadata": {},
     "output_type": "execute_result"
    }
   ],
   "source": [
    "etags_df.columns"
   ]
  },
  {
   "cell_type": "code",
   "execution_count": 695,
   "id": "5f9e4bbc-0f72-41ad-8df4-e3a38d5e8c4b",
   "metadata": {
    "tags": []
   },
   "outputs": [],
   "source": [
    "itag_df = etags_df[['E_ID', 'IH_LOC']]"
   ]
  },
  {
   "cell_type": "code",
   "execution_count": 696,
   "id": "877d2b63-aee0-42f2-92c7-8056d88a228e",
   "metadata": {
    "tags": []
   },
   "outputs": [],
   "source": [
    "#Merge Chickens with Eggs to map Chickens to Eggs.\n",
    "tags_df = pd.merge(ctags_df, etags_df, how='outer', on = 'E_ID' , suffixes=['_Chicken','_Egg'])"
   ]
  },
  {
   "cell_type": "code",
   "execution_count": 697,
   "id": "676dffd3-0f8b-411c-90fb-900320056819",
   "metadata": {
    "tags": []
   },
   "outputs": [
    {
     "data": {
      "text/html": [
       "<div>\n",
       "<style scoped>\n",
       "    .dataframe tbody tr th:only-of-type {\n",
       "        vertical-align: middle;\n",
       "    }\n",
       "\n",
       "    .dataframe tbody tr th {\n",
       "        vertical-align: top;\n",
       "    }\n",
       "\n",
       "    .dataframe thead th {\n",
       "        text-align: right;\n",
       "    }\n",
       "</style>\n",
       "<table border=\"1\" class=\"dataframe\">\n",
       "  <thead>\n",
       "    <tr style=\"text-align: right;\">\n",
       "      <th></th>\n",
       "      <th>Name</th>\n",
       "      <th>Favorite_Song</th>\n",
       "      <th>C_ID</th>\n",
       "      <th>E_ID</th>\n",
       "      <th>Mother</th>\n",
       "      <th>PH_ID_Chicken</th>\n",
       "      <th>PR_ID_Chicken</th>\n",
       "      <th>PH_Name</th>\n",
       "      <th>PH_ID_Egg</th>\n",
       "      <th>PR_ID_Egg</th>\n",
       "      <th>IH_LOC</th>\n",
       "      <th>NW</th>\n",
       "      <th>Parent_Gen</th>\n",
       "    </tr>\n",
       "  </thead>\n",
       "  <tbody>\n",
       "    <tr>\n",
       "      <th>0</th>\n",
       "      <td>Mary</td>\n",
       "      <td>Paradise By The Dashboard Light</td>\n",
       "      <td>225766667</td>\n",
       "      <td>NaN</td>\n",
       "      <td>NaN</td>\n",
       "      <td>NaN</td>\n",
       "      <td>NaN</td>\n",
       "      <td>NaN</td>\n",
       "      <td>NaN</td>\n",
       "      <td>NaN</td>\n",
       "      <td>NaN</td>\n",
       "      <td>NaN</td>\n",
       "      <td>NaN</td>\n",
       "    </tr>\n",
       "    <tr>\n",
       "      <th>1</th>\n",
       "      <td>Pat</td>\n",
       "      <td>With a Little Luck</td>\n",
       "      <td>631311759</td>\n",
       "      <td>NaN</td>\n",
       "      <td>NaN</td>\n",
       "      <td>NaN</td>\n",
       "      <td>NaN</td>\n",
       "      <td>NaN</td>\n",
       "      <td>NaN</td>\n",
       "      <td>NaN</td>\n",
       "      <td>NaN</td>\n",
       "      <td>NaN</td>\n",
       "      <td>NaN</td>\n",
       "    </tr>\n",
       "    <tr>\n",
       "      <th>2</th>\n",
       "      <td>Barb</td>\n",
       "      <td>Walk On The Wild Side</td>\n",
       "      <td>397591248</td>\n",
       "      <td>NaN</td>\n",
       "      <td>NaN</td>\n",
       "      <td>NaN</td>\n",
       "      <td>NaN</td>\n",
       "      <td>NaN</td>\n",
       "      <td>NaN</td>\n",
       "      <td>NaN</td>\n",
       "      <td>NaN</td>\n",
       "      <td>NaN</td>\n",
       "      <td>NaN</td>\n",
       "    </tr>\n",
       "    <tr>\n",
       "      <th>3</th>\n",
       "      <td>Liz</td>\n",
       "      <td>Wild Horses</td>\n",
       "      <td>630559425</td>\n",
       "      <td>NaN</td>\n",
       "      <td>NaN</td>\n",
       "      <td>NaN</td>\n",
       "      <td>NaN</td>\n",
       "      <td>NaN</td>\n",
       "      <td>NaN</td>\n",
       "      <td>NaN</td>\n",
       "      <td>NaN</td>\n",
       "      <td>NaN</td>\n",
       "      <td>NaN</td>\n",
       "    </tr>\n",
       "    <tr>\n",
       "      <th>4</th>\n",
       "      <td>Ralph</td>\n",
       "      <td>Pride of Man</td>\n",
       "      <td>800981516</td>\n",
       "      <td>NaN</td>\n",
       "      <td>NaN</td>\n",
       "      <td>NaN</td>\n",
       "      <td>NaN</td>\n",
       "      <td>NaN</td>\n",
       "      <td>NaN</td>\n",
       "      <td>NaN</td>\n",
       "      <td>NaN</td>\n",
       "      <td>NaN</td>\n",
       "      <td>NaN</td>\n",
       "    </tr>\n",
       "    <tr>\n",
       "      <th>5</th>\n",
       "      <td>LORRINE</td>\n",
       "      <td>Jeremy</td>\n",
       "      <td>169163902</td>\n",
       "      <td>169163902.0</td>\n",
       "      <td>Liz</td>\n",
       "      <td>630559425</td>\n",
       "      <td>800981516</td>\n",
       "      <td>Liz</td>\n",
       "      <td>630559425</td>\n",
       "      <td>800981516</td>\n",
       "      <td>C</td>\n",
       "      <td>False</td>\n",
       "      <td>Initial_Flock</td>\n",
       "    </tr>\n",
       "    <tr>\n",
       "      <th>6</th>\n",
       "      <td>DOROTHA</td>\n",
       "      <td>Ticket to Ride</td>\n",
       "      <td>429368417</td>\n",
       "      <td>429368417.0</td>\n",
       "      <td>Barb</td>\n",
       "      <td>397591248</td>\n",
       "      <td>800981516</td>\n",
       "      <td>Barb</td>\n",
       "      <td>397591248</td>\n",
       "      <td>800981516</td>\n",
       "      <td>A</td>\n",
       "      <td>False</td>\n",
       "      <td>Initial_Flock</td>\n",
       "    </tr>\n",
       "  </tbody>\n",
       "</table>\n",
       "</div>"
      ],
      "text/plain": [
       "      Name                    Favorite_Song       C_ID         E_ID Mother  \\\n",
       "0     Mary  Paradise By The Dashboard Light  225766667          NaN    NaN   \n",
       "1      Pat               With a Little Luck  631311759          NaN    NaN   \n",
       "2     Barb            Walk On The Wild Side  397591248          NaN    NaN   \n",
       "3      Liz                      Wild Horses  630559425          NaN    NaN   \n",
       "4    Ralph                     Pride of Man  800981516          NaN    NaN   \n",
       "5  LORRINE                           Jeremy  169163902  169163902.0    Liz   \n",
       "6  DOROTHA                   Ticket to Ride  429368417  429368417.0   Barb   \n",
       "\n",
       "  PH_ID_Chicken PR_ID_Chicken PH_Name  PH_ID_Egg  PR_ID_Egg IH_LOC     NW  \\\n",
       "0           NaN           NaN     NaN        NaN        NaN    NaN    NaN   \n",
       "1           NaN           NaN     NaN        NaN        NaN    NaN    NaN   \n",
       "2           NaN           NaN     NaN        NaN        NaN    NaN    NaN   \n",
       "3           NaN           NaN     NaN        NaN        NaN    NaN    NaN   \n",
       "4           NaN           NaN     NaN        NaN        NaN    NaN    NaN   \n",
       "5     630559425     800981516     Liz  630559425  800981516      C  False   \n",
       "6     397591248     800981516    Barb  397591248  800981516      A  False   \n",
       "\n",
       "      Parent_Gen  \n",
       "0            NaN  \n",
       "1            NaN  \n",
       "2            NaN  \n",
       "3            NaN  \n",
       "4            NaN  \n",
       "5  Initial_Flock  \n",
       "6  Initial_Flock  "
      ]
     },
     "execution_count": 697,
     "metadata": {},
     "output_type": "execute_result"
    }
   ],
   "source": [
    "tags_df.head(7)"
   ]
  },
  {
   "cell_type": "code",
   "execution_count": 698,
   "id": "121a5a24-a438-4bbb-b111-5199a7766950",
   "metadata": {
    "tags": []
   },
   "outputs": [],
   "source": [
    "#tags_df.shape[0]"
   ]
  },
  {
   "cell_type": "markdown",
   "id": "5edf070e-2929-4860-a393-4cbf007e108b",
   "metadata": {
    "tags": []
   },
   "source": [
    "### Add Father Name - Join Rooster Names"
   ]
  },
  {
   "cell_type": "code",
   "execution_count": 699,
   "id": "012db56a-2ba1-44d0-95f2-f6cc0f982896",
   "metadata": {
    "tags": []
   },
   "outputs": [],
   "source": [
    "rooster_total_df = chickens_total_df[chickens_total_df['Sex'] == 'Rooster']"
   ]
  },
  {
   "cell_type": "code",
   "execution_count": 700,
   "id": "19faaf95-8343-4f87-ad79-26051e32b1ef",
   "metadata": {
    "tags": []
   },
   "outputs": [
    {
     "data": {
      "text/plain": [
       "887"
      ]
     },
     "execution_count": 700,
     "metadata": {},
     "output_type": "execute_result"
    }
   ],
   "source": [
    "rooster_total_df.shape[0]"
   ]
  },
  {
   "cell_type": "code",
   "execution_count": 701,
   "id": "ced21478-4844-4bed-aca8-cb5e1c37cabe",
   "metadata": {
    "tags": []
   },
   "outputs": [],
   "source": [
    "#rooster_total_df.columns"
   ]
  },
  {
   "cell_type": "code",
   "execution_count": 702,
   "id": "08694036-239e-488c-b145-dd4a950b3920",
   "metadata": {
    "tags": []
   },
   "outputs": [],
   "source": [
    "rooster_tags_df = rooster_total_df[['Name', 'C_ID', 'Generation', 'E_ID', 'PH_Name', 'PH_ID', 'PR_ID']]"
   ]
  },
  {
   "cell_type": "code",
   "execution_count": 703,
   "id": "9ae733df-2c4b-4bb7-9971-f4d1a2febcd8",
   "metadata": {
    "tags": []
   },
   "outputs": [],
   "source": [
    "#twr_df: Tags with Rooster Data\n",
    "twr_df = pd.merge(tags_df, rooster_tags_df, how='inner', left_on='PR_ID_Chicken', right_on='C_ID', suffixes=['_t', '_Father'])"
   ]
  },
  {
   "cell_type": "code",
   "execution_count": 704,
   "id": "9d9b2166-7d68-4ee4-93bc-0f88b002ea37",
   "metadata": {
    "tags": []
   },
   "outputs": [
    {
     "data": {
      "text/plain": [
       "1665"
      ]
     },
     "execution_count": 704,
     "metadata": {},
     "output_type": "execute_result"
    }
   ],
   "source": [
    "twr_df.shape[0]"
   ]
  },
  {
   "cell_type": "code",
   "execution_count": 705,
   "id": "e36c55e4-28b2-45c3-b469-7e93cd41629a",
   "metadata": {
    "tags": []
   },
   "outputs": [
    {
     "data": {
      "text/plain": [
       "Index(['Name_t', 'Favorite_Song', 'C_ID_t', 'E_ID_t', 'Mother',\n",
       "       'PH_ID_Chicken', 'PR_ID_Chicken', 'PH_Name_t', 'PH_ID_Egg', 'PR_ID_Egg',\n",
       "       'IH_LOC', 'NW', 'Parent_Gen', 'Name_Father', 'C_ID_Father',\n",
       "       'Generation', 'E_ID_Father', 'PH_Name_Father', 'PH_ID', 'PR_ID'],\n",
       "      dtype='object')"
      ]
     },
     "execution_count": 705,
     "metadata": {},
     "output_type": "execute_result"
    }
   ],
   "source": [
    "#twr_df.head(5)\n",
    "twr_df.columns"
   ]
  },
  {
   "cell_type": "code",
   "execution_count": 706,
   "id": "a66417ed-3807-4301-bded-b554447e6320",
   "metadata": {
    "tags": []
   },
   "outputs": [
    {
     "data": {
      "text/html": [
       "<div>\n",
       "<style scoped>\n",
       "    .dataframe tbody tr th:only-of-type {\n",
       "        vertical-align: middle;\n",
       "    }\n",
       "\n",
       "    .dataframe tbody tr th {\n",
       "        vertical-align: top;\n",
       "    }\n",
       "\n",
       "    .dataframe thead th {\n",
       "        text-align: right;\n",
       "    }\n",
       "</style>\n",
       "<table border=\"1\" class=\"dataframe\">\n",
       "  <thead>\n",
       "    <tr style=\"text-align: right;\">\n",
       "      <th></th>\n",
       "      <th>Name_t</th>\n",
       "      <th>Favorite_Song</th>\n",
       "      <th>Mother</th>\n",
       "      <th>Name_Father</th>\n",
       "    </tr>\n",
       "  </thead>\n",
       "  <tbody>\n",
       "    <tr>\n",
       "      <th>0</th>\n",
       "      <td>LORRINE</td>\n",
       "      <td>Jeremy</td>\n",
       "      <td>Liz</td>\n",
       "      <td>Ralph</td>\n",
       "    </tr>\n",
       "    <tr>\n",
       "      <th>1</th>\n",
       "      <td>DOROTHA</td>\n",
       "      <td>Ticket to Ride</td>\n",
       "      <td>Barb</td>\n",
       "      <td>Ralph</td>\n",
       "    </tr>\n",
       "    <tr>\n",
       "      <th>2</th>\n",
       "      <td>EBONY</td>\n",
       "      <td>Sex and Candy</td>\n",
       "      <td>Pat</td>\n",
       "      <td>Ralph</td>\n",
       "    </tr>\n",
       "    <tr>\n",
       "      <th>3</th>\n",
       "      <td>KARIMA</td>\n",
       "      <td>South California Purples</td>\n",
       "      <td>Liz</td>\n",
       "      <td>Ralph</td>\n",
       "    </tr>\n",
       "    <tr>\n",
       "      <th>4</th>\n",
       "      <td>ANNABELLE</td>\n",
       "      <td>Feelin' Alright</td>\n",
       "      <td>Barb</td>\n",
       "      <td>Ralph</td>\n",
       "    </tr>\n",
       "  </tbody>\n",
       "</table>\n",
       "</div>"
      ],
      "text/plain": [
       "      Name_t             Favorite_Song Mother Name_Father\n",
       "0    LORRINE                    Jeremy    Liz       Ralph\n",
       "1    DOROTHA            Ticket to Ride   Barb       Ralph\n",
       "2      EBONY             Sex and Candy    Pat       Ralph\n",
       "3     KARIMA  South California Purples    Liz       Ralph\n",
       "4  ANNABELLE           Feelin' Alright   Barb       Ralph"
      ]
     },
     "execution_count": 706,
     "metadata": {},
     "output_type": "execute_result"
    }
   ],
   "source": [
    "twr_df[['Name_t', 'Favorite_Song', 'Mother', 'Name_Father']].head(5)"
   ]
  },
  {
   "cell_type": "code",
   "execution_count": 707,
   "id": "5fd91ade-6251-42de-8c36-8e1cb995dabe",
   "metadata": {
    "tags": []
   },
   "outputs": [],
   "source": [
    "#Export Tags with Roosers to CSV file for data analysis\n",
    "twr_df.to_csv('Coop/twr_df.csv')"
   ]
  },
  {
   "cell_type": "code",
   "execution_count": 708,
   "id": "f4e99a55-282c-46ad-93b7-6f171a7702b8",
   "metadata": {
    "tags": []
   },
   "outputs": [],
   "source": [
    "#twr_df.columns"
   ]
  },
  {
   "cell_type": "code",
   "execution_count": 709,
   "id": "ff8710de-12a2-43f8-9042-cf66883b0fa0",
   "metadata": {
    "tags": []
   },
   "outputs": [],
   "source": [
    "#ctags_df.columns"
   ]
  },
  {
   "cell_type": "code",
   "execution_count": 710,
   "id": "03e8af3d-8073-48b4-a6f6-a68c0ff8a4f2",
   "metadata": {
    "tags": []
   },
   "outputs": [],
   "source": [
    "#Chicken Grand Parents Tags Datafrmae to use for merging so we have less data in the dataframe to merge\n",
    "cgptags_df = ctags_df[['Name', 'Mother', 'C_ID', 'E_ID']]\n",
    "#cgptags_df = ctags_df[['Name', 'C_ID', 'E_ID']]"
   ]
  },
  {
   "cell_type": "markdown",
   "id": "01c9dff8-65c3-445d-aa74-90fbe98e5668",
   "metadata": {
    "tags": []
   },
   "source": [
    "### Merge in GrandParents using IDs"
   ]
  },
  {
   "cell_type": "code",
   "execution_count": 711,
   "id": "8703f49b-492b-4475-a9bb-90260d59c2a4",
   "metadata": {
    "tags": []
   },
   "outputs": [],
   "source": [
    "#tags_with_rooster (Father) and GrandMother - twrgm_df\n",
    "twrgm_df = pd.merge(twr_df, cgptags_df, how='outer', left_on='PH_ID_Chicken', right_on='C_ID', suffixes=['twr', '_Maternal_Mother'])\n",
    "#tags_with_rooster_grandmother_and_grandfather\n",
    "twrgf_df = pd.merge(twrgm_df, cgptags_df, how='outer', left_on='PR_ID', right_on='C_ID', suffixes=['CMM', '_Maternal_Father'])"
   ]
  },
  {
   "cell_type": "code",
   "execution_count": 712,
   "id": "3266f850-8593-4928-9004-4fb9134907b1",
   "metadata": {
    "tags": []
   },
   "outputs": [
    {
     "data": {
      "text/plain": [
       "Index(['Name_t', 'Favorite_Song', 'C_ID_t', 'E_ID_t', 'Mothertwr',\n",
       "       'PH_ID_Chicken', 'PR_ID_Chicken', 'PH_Name_t', 'PH_ID_Egg', 'PR_ID_Egg',\n",
       "       'IH_LOC', 'NW', 'Parent_Gen', 'Name_Father', 'C_ID_Father',\n",
       "       'Generation', 'E_ID_Father', 'PH_Name_Father', 'PH_ID', 'PR_ID',\n",
       "       'NameCMM', 'Mother_Maternal_Mother', 'C_IDCMM', 'E_IDCMM',\n",
       "       'Name_Maternal_Father', 'Mother', 'C_ID_Maternal_Father',\n",
       "       'E_ID_Maternal_Father'],\n",
       "      dtype='object')"
      ]
     },
     "execution_count": 712,
     "metadata": {},
     "output_type": "execute_result"
    }
   ],
   "source": [
    "twrgf_df.columns"
   ]
  },
  {
   "cell_type": "code",
   "execution_count": 713,
   "id": "126fb11d-809d-476e-ad73-93f6ef141509",
   "metadata": {
    "tags": []
   },
   "outputs": [],
   "source": [
    "#Rename PH_Name coloumn to Mother - To provide cleanar data\n",
    "twrgf_df.rename({'Mother_Maternal_Mother': 'GrandMother'}, axis=1, inplace=True)\n",
    "twrgf_df.rename({'Name_Maternal_Father': 'GrandFather'}, axis=1, inplace=True)\n",
    "twrgf_df.rename({'Name_Father': 'Father'}, axis=1, inplace=True)"
   ]
  },
  {
   "cell_type": "markdown",
   "id": "e28be028-c9dd-4d62-9243-9c471a224987",
   "metadata": {},
   "source": [
    "### Merge in Incubation Location"
   ]
  },
  {
   "cell_type": "code",
   "execution_count": 714,
   "id": "fbc7a20e-f6c4-460c-99b8-a113317e56be",
   "metadata": {
    "tags": []
   },
   "outputs": [],
   "source": [
    "#twrgf_df['IH_LOC'].head(3)"
   ]
  },
  {
   "cell_type": "code",
   "execution_count": 715,
   "id": "d3da241a-b43a-4cb1-b479-1261143e3c8a",
   "metadata": {
    "tags": []
   },
   "outputs": [
    {
     "data": {
      "text/html": [
       "<div>\n",
       "<style scoped>\n",
       "    .dataframe tbody tr th:only-of-type {\n",
       "        vertical-align: middle;\n",
       "    }\n",
       "\n",
       "    .dataframe tbody tr th {\n",
       "        vertical-align: top;\n",
       "    }\n",
       "\n",
       "    .dataframe thead th {\n",
       "        text-align: right;\n",
       "    }\n",
       "</style>\n",
       "<table border=\"1\" class=\"dataframe\">\n",
       "  <thead>\n",
       "    <tr style=\"text-align: right;\">\n",
       "      <th></th>\n",
       "      <th>GrandMother</th>\n",
       "      <th>GrandFather</th>\n",
       "      <th>Father</th>\n",
       "    </tr>\n",
       "  </thead>\n",
       "  <tbody>\n",
       "    <tr>\n",
       "      <th>0</th>\n",
       "      <td>NaN</td>\n",
       "      <td>NaN</td>\n",
       "      <td>Ralph</td>\n",
       "    </tr>\n",
       "    <tr>\n",
       "      <th>1</th>\n",
       "      <td>NaN</td>\n",
       "      <td>NaN</td>\n",
       "      <td>Ralph</td>\n",
       "    </tr>\n",
       "    <tr>\n",
       "      <th>2</th>\n",
       "      <td>NaN</td>\n",
       "      <td>NaN</td>\n",
       "      <td>Ralph</td>\n",
       "    </tr>\n",
       "    <tr>\n",
       "      <th>3</th>\n",
       "      <td>NaN</td>\n",
       "      <td>NaN</td>\n",
       "      <td>Ralph</td>\n",
       "    </tr>\n",
       "    <tr>\n",
       "      <th>4</th>\n",
       "      <td>NaN</td>\n",
       "      <td>NaN</td>\n",
       "      <td>Ralph</td>\n",
       "    </tr>\n",
       "  </tbody>\n",
       "</table>\n",
       "</div>"
      ],
      "text/plain": [
       "  GrandMother GrandFather Father\n",
       "0         NaN         NaN  Ralph\n",
       "1         NaN         NaN  Ralph\n",
       "2         NaN         NaN  Ralph\n",
       "3         NaN         NaN  Ralph\n",
       "4         NaN         NaN  Ralph"
      ]
     },
     "execution_count": 715,
     "metadata": {},
     "output_type": "execute_result"
    }
   ],
   "source": [
    "twrgf_df[['GrandMother', 'GrandFather', 'Father']].head(5)"
   ]
  },
  {
   "cell_type": "code",
   "execution_count": 716,
   "id": "a72c7769-c523-4ec7-9b47-81ec322eeb9b",
   "metadata": {
    "tags": []
   },
   "outputs": [],
   "source": [
    "#itag_df.columns"
   ]
  },
  {
   "cell_type": "code",
   "execution_count": 717,
   "id": "2ecc0870-ce89-4cc7-ae08-25202d533a78",
   "metadata": {
    "tags": []
   },
   "outputs": [],
   "source": [
    "EIDs = [ 'E_ID_', 'PH_ID_Egg', 'PR_ID_Egg',  'E_ID_Father', 'E_ID_Maternal_Mother', 'E_ID']"
   ]
  },
  {
   "cell_type": "code",
   "execution_count": 718,
   "id": "6c0dd575-5793-40da-be9f-7955ce0a89e2",
   "metadata": {
    "tags": []
   },
   "outputs": [],
   "source": [
    "#twrgd2_loc_df.columns"
   ]
  },
  {
   "cell_type": "code",
   "execution_count": 719,
   "id": "28d5ee8f-e3f6-4e9c-95a4-e739cb682344",
   "metadata": {
    "tags": []
   },
   "outputs": [],
   "source": [
    "#Merge in Incubation Location for Mother, Father, GrandMother and GrandFather using Egg Table - E_IDs\n",
    "twrgd_loc_df = pd.merge(twrgf_df, itag_df, left_on=['PH_ID_Chicken'], right_on = ['E_ID'], how='inner', suffixes=['Chicken', '_MotherIL'])\n",
    "twrgd1_loc_df = pd.merge(twrgd_loc_df, itag_df, left_on=['PR_ID_Egg'], right_on = ['E_ID'], how='inner', suffixes=['CM', '_FatherIL'])\n",
    "twrgd2_loc_df = pd.merge(twrgd1_loc_df, itag_df, left_on=['E_IDCMM'], right_on = ['E_ID'], how='inner', suffixes=['CMF', '_GrandMother_IL'])\n",
    "twrgd3_loc_df = pd.merge(twrgd2_loc_df, itag_df, left_on=['E_ID'], right_on = ['E_ID'], how='inner', suffixes=['C', '_GrandFather_IL'])"
   ]
  },
  {
   "cell_type": "code",
   "execution_count": 720,
   "id": "4b879770-1291-4f95-bdd0-8e087201e27d",
   "metadata": {
    "tags": []
   },
   "outputs": [
    {
     "data": {
      "text/plain": [
       "Index(['Name_t', 'Favorite_Song', 'C_ID_t', 'E_ID_t', 'Mothertwr',\n",
       "       'PH_ID_Chicken', 'PR_ID_Chicken', 'PH_Name_t', 'PH_ID_Egg', 'PR_ID_Egg',\n",
       "       'IH_LOCChicken', 'NW', 'Parent_Gen', 'Father', 'C_ID_Father',\n",
       "       'Generation', 'E_ID_Father', 'PH_Name_Father', 'PH_ID', 'PR_ID',\n",
       "       'NameCMM', 'GrandMother', 'C_IDCMM', 'E_IDCMM', 'GrandFather', 'Mother',\n",
       "       'C_ID_Maternal_Father', 'E_ID_Maternal_Father', 'E_IDCM',\n",
       "       'IH_LOC_MotherIL', 'E_ID_FatherIL', 'IH_LOCCMF', 'E_ID',\n",
       "       'IH_LOC_GrandMother_IL', 'IH_LOC'],\n",
       "      dtype='object')"
      ]
     },
     "execution_count": 720,
     "metadata": {},
     "output_type": "execute_result"
    }
   ],
   "source": [
    "#Analyze existing Column Names\n",
    "twrgd3_loc_df.columns"
   ]
  },
  {
   "cell_type": "code",
   "execution_count": 721,
   "id": "fbcf489e-bc5b-44d7-8be1-228cbdeac40d",
   "metadata": {
    "tags": []
   },
   "outputs": [
    {
     "data": {
      "text/html": [
       "<div>\n",
       "<style scoped>\n",
       "    .dataframe tbody tr th:only-of-type {\n",
       "        vertical-align: middle;\n",
       "    }\n",
       "\n",
       "    .dataframe tbody tr th {\n",
       "        vertical-align: top;\n",
       "    }\n",
       "\n",
       "    .dataframe thead th {\n",
       "        text-align: right;\n",
       "    }\n",
       "</style>\n",
       "<table border=\"1\" class=\"dataframe\">\n",
       "  <thead>\n",
       "    <tr style=\"text-align: right;\">\n",
       "      <th></th>\n",
       "      <th>Name_t</th>\n",
       "      <th>Favorite_Song</th>\n",
       "      <th>C_ID_t</th>\n",
       "      <th>E_ID_t</th>\n",
       "      <th>Mothertwr</th>\n",
       "      <th>PH_ID_Chicken</th>\n",
       "      <th>PR_ID_Chicken</th>\n",
       "      <th>PH_Name_t</th>\n",
       "      <th>PH_ID_Egg</th>\n",
       "      <th>PR_ID_Egg</th>\n",
       "      <th>...</th>\n",
       "      <th>GrandFather</th>\n",
       "      <th>C_ID_Maternal_Father</th>\n",
       "      <th>E_ID_Maternal_Father</th>\n",
       "      <th>E_IDCM</th>\n",
       "      <th>IH_LOC_MotherIL</th>\n",
       "      <th>E_ID_FatherIL</th>\n",
       "      <th>IH_LOCCMF</th>\n",
       "      <th>E_ID</th>\n",
       "      <th>IH_LOC_GrandMother_IL</th>\n",
       "      <th>IH_LOC</th>\n",
       "    </tr>\n",
       "  </thead>\n",
       "  <tbody>\n",
       "    <tr>\n",
       "      <th>0</th>\n",
       "      <td>JI</td>\n",
       "      <td>Band on the Run</td>\n",
       "      <td>575631227.0</td>\n",
       "      <td>575631227.0</td>\n",
       "      <td>SIGRID</td>\n",
       "      <td>665554047.0</td>\n",
       "      <td>159398693.0</td>\n",
       "      <td>SIGRID</td>\n",
       "      <td>665554047.0</td>\n",
       "      <td>159398693.0</td>\n",
       "      <td>...</td>\n",
       "      <td>Ralph</td>\n",
       "      <td>800981516</td>\n",
       "      <td>NaN</td>\n",
       "      <td>665554047</td>\n",
       "      <td>B</td>\n",
       "      <td>159398693</td>\n",
       "      <td>A</td>\n",
       "      <td>665554047</td>\n",
       "      <td>B</td>\n",
       "      <td>B</td>\n",
       "    </tr>\n",
       "    <tr>\n",
       "      <th>1</th>\n",
       "      <td>ODELL</td>\n",
       "      <td>Urgent</td>\n",
       "      <td>662275938.0</td>\n",
       "      <td>662275938.0</td>\n",
       "      <td>SIGRID</td>\n",
       "      <td>665554047.0</td>\n",
       "      <td>472726931.0</td>\n",
       "      <td>SIGRID</td>\n",
       "      <td>665554047.0</td>\n",
       "      <td>472726931.0</td>\n",
       "      <td>...</td>\n",
       "      <td>Ralph</td>\n",
       "      <td>800981516</td>\n",
       "      <td>NaN</td>\n",
       "      <td>665554047</td>\n",
       "      <td>B</td>\n",
       "      <td>472726931</td>\n",
       "      <td>B</td>\n",
       "      <td>665554047</td>\n",
       "      <td>B</td>\n",
       "      <td>B</td>\n",
       "    </tr>\n",
       "    <tr>\n",
       "      <th>2</th>\n",
       "      <td>Kameron</td>\n",
       "      <td>Cum On Feel the Noize</td>\n",
       "      <td>193990178.0</td>\n",
       "      <td>193990178.0</td>\n",
       "      <td>SIGRID</td>\n",
       "      <td>665554047.0</td>\n",
       "      <td>704616095.0</td>\n",
       "      <td>SIGRID</td>\n",
       "      <td>665554047.0</td>\n",
       "      <td>704616095.0</td>\n",
       "      <td>...</td>\n",
       "      <td>Ralph</td>\n",
       "      <td>800981516</td>\n",
       "      <td>NaN</td>\n",
       "      <td>665554047</td>\n",
       "      <td>B</td>\n",
       "      <td>704616095</td>\n",
       "      <td>A</td>\n",
       "      <td>665554047</td>\n",
       "      <td>B</td>\n",
       "      <td>B</td>\n",
       "    </tr>\n",
       "  </tbody>\n",
       "</table>\n",
       "<p>3 rows × 34 columns</p>\n",
       "</div>"
      ],
      "text/plain": [
       "    Name_t          Favorite_Song       C_ID_t       E_ID_t Mothertwr  \\\n",
       "0       JI        Band on the Run  575631227.0  575631227.0    SIGRID   \n",
       "1    ODELL                 Urgent  662275938.0  662275938.0    SIGRID   \n",
       "2  Kameron  Cum On Feel the Noize  193990178.0  193990178.0    SIGRID   \n",
       "\n",
       "  PH_ID_Chicken PR_ID_Chicken PH_Name_t    PH_ID_Egg    PR_ID_Egg  ...  \\\n",
       "0   665554047.0   159398693.0    SIGRID  665554047.0  159398693.0  ...   \n",
       "1   665554047.0   472726931.0    SIGRID  665554047.0  472726931.0  ...   \n",
       "2   665554047.0   704616095.0    SIGRID  665554047.0  704616095.0  ...   \n",
       "\n",
       "  GrandFather C_ID_Maternal_Father E_ID_Maternal_Father     E_IDCM  \\\n",
       "0       Ralph            800981516                  NaN  665554047   \n",
       "1       Ralph            800981516                  NaN  665554047   \n",
       "2       Ralph            800981516                  NaN  665554047   \n",
       "\n",
       "  IH_LOC_MotherIL E_ID_FatherIL IH_LOCCMF       E_ID IH_LOC_GrandMother_IL  \\\n",
       "0               B     159398693         A  665554047                     B   \n",
       "1               B     472726931         B  665554047                     B   \n",
       "2               B     704616095         A  665554047                     B   \n",
       "\n",
       "  IH_LOC  \n",
       "0      B  \n",
       "1      B  \n",
       "2      B  \n",
       "\n",
       "[3 rows x 34 columns]"
      ]
     },
     "execution_count": 721,
     "metadata": {},
     "output_type": "execute_result"
    }
   ],
   "source": [
    "int_tags_df = twrgd3_loc_df.drop('Mother', axis=1)\n",
    "int_tags_df.head(3)"
   ]
  },
  {
   "cell_type": "code",
   "execution_count": 722,
   "id": "af1f3ddc-d6e5-49a4-8587-f1a239920292",
   "metadata": {
    "tags": []
   },
   "outputs": [
    {
     "data": {
      "text/html": [
       "<div>\n",
       "<style scoped>\n",
       "    .dataframe tbody tr th:only-of-type {\n",
       "        vertical-align: middle;\n",
       "    }\n",
       "\n",
       "    .dataframe tbody tr th {\n",
       "        vertical-align: top;\n",
       "    }\n",
       "\n",
       "    .dataframe thead th {\n",
       "        text-align: right;\n",
       "    }\n",
       "</style>\n",
       "<table border=\"1\" class=\"dataframe\">\n",
       "  <thead>\n",
       "    <tr style=\"text-align: right;\">\n",
       "      <th></th>\n",
       "      <th>IH_LOCChicken</th>\n",
       "      <th>Parent_Gen</th>\n",
       "      <th>Mothertwr</th>\n",
       "      <th>Father</th>\n",
       "      <th>GrandMother</th>\n",
       "      <th>GrandFather</th>\n",
       "      <th>IH_LOC_MotherIL</th>\n",
       "      <th>IH_LOCCMF</th>\n",
       "      <th>IH_LOC_GrandMother_IL</th>\n",
       "      <th>IH_LOC</th>\n",
       "    </tr>\n",
       "  </thead>\n",
       "  <tbody>\n",
       "    <tr>\n",
       "      <th>0</th>\n",
       "      <td>C</td>\n",
       "      <td>Gen1</td>\n",
       "      <td>SIGRID</td>\n",
       "      <td>Rowan</td>\n",
       "      <td>Pat</td>\n",
       "      <td>Ralph</td>\n",
       "      <td>B</td>\n",
       "      <td>A</td>\n",
       "      <td>B</td>\n",
       "      <td>B</td>\n",
       "    </tr>\n",
       "    <tr>\n",
       "      <th>1</th>\n",
       "      <td>B</td>\n",
       "      <td>Gen1</td>\n",
       "      <td>SIGRID</td>\n",
       "      <td>Darius</td>\n",
       "      <td>Pat</td>\n",
       "      <td>Ralph</td>\n",
       "      <td>B</td>\n",
       "      <td>B</td>\n",
       "      <td>B</td>\n",
       "      <td>B</td>\n",
       "    </tr>\n",
       "    <tr>\n",
       "      <th>2</th>\n",
       "      <td>C</td>\n",
       "      <td>Gen1</td>\n",
       "      <td>SIGRID</td>\n",
       "      <td>Easton</td>\n",
       "      <td>Pat</td>\n",
       "      <td>Ralph</td>\n",
       "      <td>B</td>\n",
       "      <td>A</td>\n",
       "      <td>B</td>\n",
       "      <td>B</td>\n",
       "    </tr>\n",
       "    <tr>\n",
       "      <th>3</th>\n",
       "      <td>A</td>\n",
       "      <td>Gen1</td>\n",
       "      <td>SIGRID</td>\n",
       "      <td>Devin</td>\n",
       "      <td>Pat</td>\n",
       "      <td>Ralph</td>\n",
       "      <td>B</td>\n",
       "      <td>A</td>\n",
       "      <td>B</td>\n",
       "      <td>B</td>\n",
       "    </tr>\n",
       "    <tr>\n",
       "      <th>4</th>\n",
       "      <td>B</td>\n",
       "      <td>Gen1</td>\n",
       "      <td>SIGRID</td>\n",
       "      <td>Brad</td>\n",
       "      <td>Pat</td>\n",
       "      <td>Ralph</td>\n",
       "      <td>B</td>\n",
       "      <td>B</td>\n",
       "      <td>B</td>\n",
       "      <td>B</td>\n",
       "    </tr>\n",
       "  </tbody>\n",
       "</table>\n",
       "</div>"
      ],
      "text/plain": [
       "  IH_LOCChicken Parent_Gen Mothertwr  Father GrandMother GrandFather  \\\n",
       "0             C       Gen1    SIGRID   Rowan         Pat       Ralph   \n",
       "1             B       Gen1    SIGRID  Darius         Pat       Ralph   \n",
       "2             C       Gen1    SIGRID  Easton         Pat       Ralph   \n",
       "3             A       Gen1    SIGRID   Devin         Pat       Ralph   \n",
       "4             B       Gen1    SIGRID    Brad         Pat       Ralph   \n",
       "\n",
       "  IH_LOC_MotherIL IH_LOCCMF IH_LOC_GrandMother_IL IH_LOC  \n",
       "0               B         A                     B      B  \n",
       "1               B         B                     B      B  \n",
       "2               B         A                     B      B  \n",
       "3               B         A                     B      B  \n",
       "4               B         B                     B      B  "
      ]
     },
     "execution_count": 722,
     "metadata": {},
     "output_type": "execute_result"
    }
   ],
   "source": [
    "int_tags_df[['IH_LOCChicken',\n",
    "       'Parent_Gen','Mothertwr', 'Father', \n",
    "        'GrandMother', \n",
    "       'GrandFather',  \n",
    "        'IH_LOC_MotherIL', 'IH_LOCCMF',\n",
    "        'IH_LOC_GrandMother_IL', 'IH_LOC']].head(5)"
   ]
  },
  {
   "cell_type": "code",
   "execution_count": 723,
   "id": "3cc38438-2038-4f5c-8c30-62749d59316f",
   "metadata": {
    "tags": []
   },
   "outputs": [],
   "source": [
    "#Rename PH_Name coloumn to Mother - To provide cleanar data\n",
    "twrgd3_loc_df.rename({'Mothertwr': 'Mother'}, axis=1, inplace=True)\n",
    "twrgd3_loc_df.rename({'Nametwr': 'Name'}, axis=1, inplace=True)\n",
    "twrgd3_loc_df.rename({'IH_LOCChicken': 'I_LOC'}, axis=1, inplace=True)\n",
    "twrgd3_loc_df.rename({'IH_LOC_MotherIL': 'Mother_I_LOC'}, axis=1, inplace=True)\n",
    "twrgd3_loc_df.rename({'IH_LOCCMF': 'Father_I_LOC'}, axis=1, inplace=True)\n",
    "twrgd3_loc_df.rename({'IH_LOC_GrandMother_IL': 'GrandMother_I_LOC'}, axis=1, inplace=True)\n",
    "twrgd3_loc_df.rename({'IH_LOC': 'GrandFather_I_LOC'}, axis=1, inplace=True)"
   ]
  },
  {
   "cell_type": "code",
   "execution_count": 724,
   "id": "c5340db2-630f-4e35-88c1-bfadffde5afb",
   "metadata": {
    "tags": []
   },
   "outputs": [],
   "source": [
    "#Rename PH_Name coloumn to Mother - To provide cleanar data\n",
    "int_tags_df.rename({'Mothertwr': 'Mother'}, axis=1, inplace=True)\n",
    "int_tags_df.rename({'Name_t': 'Name'}, axis=1, inplace=True)\n",
    "int_tags_df.rename({'IH_LOCChicken': 'I_LOC'}, axis=1, inplace=True)\n",
    "int_tags_df.rename({'IH_LOC_MotherIL': 'Mother_I_LOC'}, axis=1, inplace=True)\n",
    "int_tags_df.rename({'IH_LOCCMF': 'Father_I_LOC'}, axis=1, inplace=True)\n",
    "int_tags_df.rename({'IH_LOC_GrandMother_IL': 'GrandMother_I_LOC'}, axis=1, inplace=True)\n",
    "int_tags_df.rename({'IH_LOC': 'GrandFather_I_LOC'}, axis=1, inplace=True)"
   ]
  },
  {
   "cell_type": "code",
   "execution_count": 725,
   "id": "cfe663d4-0e7a-4c41-954a-e11e91e033a4",
   "metadata": {
    "tags": []
   },
   "outputs": [
    {
     "data": {
      "text/html": [
       "<div>\n",
       "<style scoped>\n",
       "    .dataframe tbody tr th:only-of-type {\n",
       "        vertical-align: middle;\n",
       "    }\n",
       "\n",
       "    .dataframe tbody tr th {\n",
       "        vertical-align: top;\n",
       "    }\n",
       "\n",
       "    .dataframe thead th {\n",
       "        text-align: right;\n",
       "    }\n",
       "</style>\n",
       "<table border=\"1\" class=\"dataframe\">\n",
       "  <thead>\n",
       "    <tr style=\"text-align: right;\">\n",
       "      <th></th>\n",
       "      <th>Name</th>\n",
       "      <th>Favorite_Song</th>\n",
       "      <th>C_ID_t</th>\n",
       "      <th>E_ID_t</th>\n",
       "      <th>Mother</th>\n",
       "      <th>PH_ID_Chicken</th>\n",
       "      <th>PR_ID_Chicken</th>\n",
       "      <th>PH_Name_t</th>\n",
       "      <th>PH_ID_Egg</th>\n",
       "      <th>PR_ID_Egg</th>\n",
       "      <th>...</th>\n",
       "      <th>GrandFather</th>\n",
       "      <th>C_ID_Maternal_Father</th>\n",
       "      <th>E_ID_Maternal_Father</th>\n",
       "      <th>E_IDCM</th>\n",
       "      <th>Mother_I_LOC</th>\n",
       "      <th>E_ID_FatherIL</th>\n",
       "      <th>Father_I_LOC</th>\n",
       "      <th>E_ID</th>\n",
       "      <th>GrandMother_I_LOC</th>\n",
       "      <th>GrandFather_I_LOC</th>\n",
       "    </tr>\n",
       "  </thead>\n",
       "  <tbody>\n",
       "    <tr>\n",
       "      <th>0</th>\n",
       "      <td>JI</td>\n",
       "      <td>Band on the Run</td>\n",
       "      <td>575631227.0</td>\n",
       "      <td>575631227.0</td>\n",
       "      <td>SIGRID</td>\n",
       "      <td>665554047.0</td>\n",
       "      <td>159398693.0</td>\n",
       "      <td>SIGRID</td>\n",
       "      <td>665554047.0</td>\n",
       "      <td>159398693.0</td>\n",
       "      <td>...</td>\n",
       "      <td>Ralph</td>\n",
       "      <td>800981516</td>\n",
       "      <td>NaN</td>\n",
       "      <td>665554047</td>\n",
       "      <td>B</td>\n",
       "      <td>159398693</td>\n",
       "      <td>A</td>\n",
       "      <td>665554047</td>\n",
       "      <td>B</td>\n",
       "      <td>B</td>\n",
       "    </tr>\n",
       "    <tr>\n",
       "      <th>1</th>\n",
       "      <td>ODELL</td>\n",
       "      <td>Urgent</td>\n",
       "      <td>662275938.0</td>\n",
       "      <td>662275938.0</td>\n",
       "      <td>SIGRID</td>\n",
       "      <td>665554047.0</td>\n",
       "      <td>472726931.0</td>\n",
       "      <td>SIGRID</td>\n",
       "      <td>665554047.0</td>\n",
       "      <td>472726931.0</td>\n",
       "      <td>...</td>\n",
       "      <td>Ralph</td>\n",
       "      <td>800981516</td>\n",
       "      <td>NaN</td>\n",
       "      <td>665554047</td>\n",
       "      <td>B</td>\n",
       "      <td>472726931</td>\n",
       "      <td>B</td>\n",
       "      <td>665554047</td>\n",
       "      <td>B</td>\n",
       "      <td>B</td>\n",
       "    </tr>\n",
       "    <tr>\n",
       "      <th>2</th>\n",
       "      <td>Kameron</td>\n",
       "      <td>Cum On Feel the Noize</td>\n",
       "      <td>193990178.0</td>\n",
       "      <td>193990178.0</td>\n",
       "      <td>SIGRID</td>\n",
       "      <td>665554047.0</td>\n",
       "      <td>704616095.0</td>\n",
       "      <td>SIGRID</td>\n",
       "      <td>665554047.0</td>\n",
       "      <td>704616095.0</td>\n",
       "      <td>...</td>\n",
       "      <td>Ralph</td>\n",
       "      <td>800981516</td>\n",
       "      <td>NaN</td>\n",
       "      <td>665554047</td>\n",
       "      <td>B</td>\n",
       "      <td>704616095</td>\n",
       "      <td>A</td>\n",
       "      <td>665554047</td>\n",
       "      <td>B</td>\n",
       "      <td>B</td>\n",
       "    </tr>\n",
       "    <tr>\n",
       "      <th>3</th>\n",
       "      <td>KASSIE</td>\n",
       "      <td>Ballroom Blitz</td>\n",
       "      <td>815810120.0</td>\n",
       "      <td>815810120.0</td>\n",
       "      <td>SIGRID</td>\n",
       "      <td>665554047.0</td>\n",
       "      <td>115030635.0</td>\n",
       "      <td>SIGRID</td>\n",
       "      <td>665554047.0</td>\n",
       "      <td>115030635.0</td>\n",
       "      <td>...</td>\n",
       "      <td>Ralph</td>\n",
       "      <td>800981516</td>\n",
       "      <td>NaN</td>\n",
       "      <td>665554047</td>\n",
       "      <td>B</td>\n",
       "      <td>115030635</td>\n",
       "      <td>A</td>\n",
       "      <td>665554047</td>\n",
       "      <td>B</td>\n",
       "      <td>B</td>\n",
       "    </tr>\n",
       "    <tr>\n",
       "      <th>4</th>\n",
       "      <td>Alex</td>\n",
       "      <td>Baker Street</td>\n",
       "      <td>867621698.0</td>\n",
       "      <td>867621698.0</td>\n",
       "      <td>SIGRID</td>\n",
       "      <td>665554047.0</td>\n",
       "      <td>883399077.0</td>\n",
       "      <td>SIGRID</td>\n",
       "      <td>665554047.0</td>\n",
       "      <td>883399077.0</td>\n",
       "      <td>...</td>\n",
       "      <td>Ralph</td>\n",
       "      <td>800981516</td>\n",
       "      <td>NaN</td>\n",
       "      <td>665554047</td>\n",
       "      <td>B</td>\n",
       "      <td>883399077</td>\n",
       "      <td>B</td>\n",
       "      <td>665554047</td>\n",
       "      <td>B</td>\n",
       "      <td>B</td>\n",
       "    </tr>\n",
       "  </tbody>\n",
       "</table>\n",
       "<p>5 rows × 34 columns</p>\n",
       "</div>"
      ],
      "text/plain": [
       "      Name          Favorite_Song       C_ID_t       E_ID_t  Mother  \\\n",
       "0       JI        Band on the Run  575631227.0  575631227.0  SIGRID   \n",
       "1    ODELL                 Urgent  662275938.0  662275938.0  SIGRID   \n",
       "2  Kameron  Cum On Feel the Noize  193990178.0  193990178.0  SIGRID   \n",
       "3   KASSIE         Ballroom Blitz  815810120.0  815810120.0  SIGRID   \n",
       "4     Alex           Baker Street  867621698.0  867621698.0  SIGRID   \n",
       "\n",
       "  PH_ID_Chicken PR_ID_Chicken PH_Name_t    PH_ID_Egg    PR_ID_Egg  ...  \\\n",
       "0   665554047.0   159398693.0    SIGRID  665554047.0  159398693.0  ...   \n",
       "1   665554047.0   472726931.0    SIGRID  665554047.0  472726931.0  ...   \n",
       "2   665554047.0   704616095.0    SIGRID  665554047.0  704616095.0  ...   \n",
       "3   665554047.0   115030635.0    SIGRID  665554047.0  115030635.0  ...   \n",
       "4   665554047.0   883399077.0    SIGRID  665554047.0  883399077.0  ...   \n",
       "\n",
       "  GrandFather C_ID_Maternal_Father E_ID_Maternal_Father     E_IDCM  \\\n",
       "0       Ralph            800981516                  NaN  665554047   \n",
       "1       Ralph            800981516                  NaN  665554047   \n",
       "2       Ralph            800981516                  NaN  665554047   \n",
       "3       Ralph            800981516                  NaN  665554047   \n",
       "4       Ralph            800981516                  NaN  665554047   \n",
       "\n",
       "  Mother_I_LOC E_ID_FatherIL Father_I_LOC       E_ID GrandMother_I_LOC  \\\n",
       "0            B     159398693            A  665554047                 B   \n",
       "1            B     472726931            B  665554047                 B   \n",
       "2            B     704616095            A  665554047                 B   \n",
       "3            B     115030635            A  665554047                 B   \n",
       "4            B     883399077            B  665554047                 B   \n",
       "\n",
       "  GrandFather_I_LOC  \n",
       "0                 B  \n",
       "1                 B  \n",
       "2                 B  \n",
       "3                 B  \n",
       "4                 B  \n",
       "\n",
       "[5 rows x 34 columns]"
      ]
     },
     "execution_count": 725,
     "metadata": {},
     "output_type": "execute_result"
    }
   ],
   "source": [
    "int_tags_df.head(5)"
   ]
  },
  {
   "cell_type": "code",
   "execution_count": 726,
   "id": "ecadf45f-662b-47df-b237-726a45a072c5",
   "metadata": {
    "tags": []
   },
   "outputs": [],
   "source": [
    "int_tags_df.to_csv('Coop/tags.csv')"
   ]
  },
  {
   "cell_type": "code",
   "execution_count": 727,
   "id": "d1c93fd4-83a1-45a2-a00a-d03145e7f444",
   "metadata": {
    "tags": []
   },
   "outputs": [
    {
     "data": {
      "text/plain": [
       "Index(['Name', 'Favorite_Song', 'C_ID_t', 'E_ID_t', 'Mother', 'PH_ID_Chicken',\n",
       "       'PR_ID_Chicken', 'PH_Name_t', 'PH_ID_Egg', 'PR_ID_Egg', 'I_LOC', 'NW',\n",
       "       'Parent_Gen', 'Father', 'C_ID_Father', 'Generation', 'E_ID_Father',\n",
       "       'PH_Name_Father', 'PH_ID', 'PR_ID', 'NameCMM', 'GrandMother', 'C_IDCMM',\n",
       "       'E_IDCMM', 'GrandFather', 'C_ID_Maternal_Father',\n",
       "       'E_ID_Maternal_Father', 'E_IDCM', 'Mother_I_LOC', 'E_ID_FatherIL',\n",
       "       'Father_I_LOC', 'E_ID', 'GrandMother_I_LOC', 'GrandFather_I_LOC'],\n",
       "      dtype='object')"
      ]
     },
     "execution_count": 727,
     "metadata": {},
     "output_type": "execute_result"
    }
   ],
   "source": [
    "int_tags_df.columns"
   ]
  },
  {
   "cell_type": "code",
   "execution_count": 728,
   "id": "2c4bbbbb-6f85-4ec0-8ee6-5b8b09a1b1ab",
   "metadata": {
    "tags": []
   },
   "outputs": [
    {
     "data": {
      "text/html": [
       "<div>\n",
       "<style scoped>\n",
       "    .dataframe tbody tr th:only-of-type {\n",
       "        vertical-align: middle;\n",
       "    }\n",
       "\n",
       "    .dataframe tbody tr th {\n",
       "        vertical-align: top;\n",
       "    }\n",
       "\n",
       "    .dataframe thead th {\n",
       "        text-align: right;\n",
       "    }\n",
       "</style>\n",
       "<table border=\"1\" class=\"dataframe\">\n",
       "  <thead>\n",
       "    <tr style=\"text-align: right;\">\n",
       "      <th></th>\n",
       "      <th>Name</th>\n",
       "      <th>Favorite_Song</th>\n",
       "      <th>Mother</th>\n",
       "      <th>Father</th>\n",
       "      <th>GrandMother</th>\n",
       "      <th>GrandFather</th>\n",
       "      <th>I_LOC</th>\n",
       "      <th>Mother_I_LOC</th>\n",
       "      <th>Father_I_LOC</th>\n",
       "      <th>GrandMother_I_LOC</th>\n",
       "      <th>GrandFather_I_LOC</th>\n",
       "    </tr>\n",
       "  </thead>\n",
       "  <tbody>\n",
       "    <tr>\n",
       "      <th>0</th>\n",
       "      <td>JI</td>\n",
       "      <td>Band on the Run</td>\n",
       "      <td>SIGRID</td>\n",
       "      <td>Rowan</td>\n",
       "      <td>Pat</td>\n",
       "      <td>Ralph</td>\n",
       "      <td>C</td>\n",
       "      <td>B</td>\n",
       "      <td>A</td>\n",
       "      <td>B</td>\n",
       "      <td>B</td>\n",
       "    </tr>\n",
       "    <tr>\n",
       "      <th>1</th>\n",
       "      <td>ODELL</td>\n",
       "      <td>Urgent</td>\n",
       "      <td>SIGRID</td>\n",
       "      <td>Darius</td>\n",
       "      <td>Pat</td>\n",
       "      <td>Ralph</td>\n",
       "      <td>B</td>\n",
       "      <td>B</td>\n",
       "      <td>B</td>\n",
       "      <td>B</td>\n",
       "      <td>B</td>\n",
       "    </tr>\n",
       "    <tr>\n",
       "      <th>2</th>\n",
       "      <td>Kameron</td>\n",
       "      <td>Cum On Feel the Noize</td>\n",
       "      <td>SIGRID</td>\n",
       "      <td>Easton</td>\n",
       "      <td>Pat</td>\n",
       "      <td>Ralph</td>\n",
       "      <td>C</td>\n",
       "      <td>B</td>\n",
       "      <td>A</td>\n",
       "      <td>B</td>\n",
       "      <td>B</td>\n",
       "    </tr>\n",
       "    <tr>\n",
       "      <th>3</th>\n",
       "      <td>KASSIE</td>\n",
       "      <td>Ballroom Blitz</td>\n",
       "      <td>SIGRID</td>\n",
       "      <td>Devin</td>\n",
       "      <td>Pat</td>\n",
       "      <td>Ralph</td>\n",
       "      <td>A</td>\n",
       "      <td>B</td>\n",
       "      <td>A</td>\n",
       "      <td>B</td>\n",
       "      <td>B</td>\n",
       "    </tr>\n",
       "    <tr>\n",
       "      <th>4</th>\n",
       "      <td>Alex</td>\n",
       "      <td>Baker Street</td>\n",
       "      <td>SIGRID</td>\n",
       "      <td>Brad</td>\n",
       "      <td>Pat</td>\n",
       "      <td>Ralph</td>\n",
       "      <td>B</td>\n",
       "      <td>B</td>\n",
       "      <td>B</td>\n",
       "      <td>B</td>\n",
       "      <td>B</td>\n",
       "    </tr>\n",
       "    <tr>\n",
       "      <th>5</th>\n",
       "      <td>YEN</td>\n",
       "      <td>Maxwell's Silver Hammer</td>\n",
       "      <td>SIGRID</td>\n",
       "      <td>Fidel</td>\n",
       "      <td>Pat</td>\n",
       "      <td>Ralph</td>\n",
       "      <td>A</td>\n",
       "      <td>B</td>\n",
       "      <td>B</td>\n",
       "      <td>B</td>\n",
       "      <td>B</td>\n",
       "    </tr>\n",
       "  </tbody>\n",
       "</table>\n",
       "</div>"
      ],
      "text/plain": [
       "      Name            Favorite_Song  Mother  Father GrandMother GrandFather  \\\n",
       "0       JI          Band on the Run  SIGRID   Rowan         Pat       Ralph   \n",
       "1    ODELL                   Urgent  SIGRID  Darius         Pat       Ralph   \n",
       "2  Kameron    Cum On Feel the Noize  SIGRID  Easton         Pat       Ralph   \n",
       "3   KASSIE           Ballroom Blitz  SIGRID   Devin         Pat       Ralph   \n",
       "4     Alex             Baker Street  SIGRID    Brad         Pat       Ralph   \n",
       "5      YEN  Maxwell's Silver Hammer  SIGRID   Fidel         Pat       Ralph   \n",
       "\n",
       "  I_LOC Mother_I_LOC Father_I_LOC GrandMother_I_LOC GrandFather_I_LOC  \n",
       "0     C            B            A                 B                 B  \n",
       "1     B            B            B                 B                 B  \n",
       "2     C            B            A                 B                 B  \n",
       "3     A            B            A                 B                 B  \n",
       "4     B            B            B                 B                 B  \n",
       "5     A            B            B                 B                 B  "
      ]
     },
     "execution_count": 728,
     "metadata": {},
     "output_type": "execute_result"
    }
   ],
   "source": [
    "int_tags_df[['Name', 'Favorite_Song', 'Mother', 'Father', 'GrandMother', 'GrandFather', 'I_LOC', 'Mother_I_LOC', 'Father_I_LOC', 'GrandMother_I_LOC', 'GrandFather_I_LOC' ]].head(6)"
   ]
  },
  {
   "cell_type": "code",
   "execution_count": 729,
   "id": "2fc3b7f5-6dc4-406a-9ca8-6620c00db8d1",
   "metadata": {
    "tags": []
   },
   "outputs": [
    {
     "data": {
      "text/plain": [
       "1505"
      ]
     },
     "execution_count": 729,
     "metadata": {},
     "output_type": "execute_result"
    }
   ],
   "source": [
    "int_tags_df.shape[0]"
   ]
  },
  {
   "cell_type": "code",
   "execution_count": 730,
   "id": "ba93f64a-124d-4701-8d17-5dfdfbf1ab55",
   "metadata": {
    "tags": []
   },
   "outputs": [],
   "source": [
    "grand = int_tags_df[twrgf_df['Parent_Gen'] == 'Gen1']"
   ]
  },
  {
   "cell_type": "code",
   "execution_count": 731,
   "id": "7f93d25d-7c6e-443d-a626-6156a7215370",
   "metadata": {
    "tags": []
   },
   "outputs": [
    {
     "data": {
      "text/plain": [
       "Index(['Name', 'Favorite_Song', 'C_ID_t', 'E_ID_t', 'Mother', 'PH_ID_Chicken',\n",
       "       'PR_ID_Chicken', 'PH_Name_t', 'PH_ID_Egg', 'PR_ID_Egg', 'I_LOC', 'NW',\n",
       "       'Parent_Gen', 'Father', 'C_ID_Father', 'Generation', 'E_ID_Father',\n",
       "       'PH_Name_Father', 'PH_ID', 'PR_ID', 'NameCMM', 'GrandMother', 'C_IDCMM',\n",
       "       'E_IDCMM', 'GrandFather', 'C_ID_Maternal_Father',\n",
       "       'E_ID_Maternal_Father', 'E_IDCM', 'Mother_I_LOC', 'E_ID_FatherIL',\n",
       "       'Father_I_LOC', 'E_ID', 'GrandMother_I_LOC', 'GrandFather_I_LOC'],\n",
       "      dtype='object')"
      ]
     },
     "execution_count": 731,
     "metadata": {},
     "output_type": "execute_result"
    }
   ],
   "source": [
    "grand.columns"
   ]
  },
  {
   "cell_type": "code",
   "execution_count": 732,
   "id": "7654c5c0-7320-405b-93d3-dcd900307422",
   "metadata": {
    "tags": []
   },
   "outputs": [
    {
     "data": {
      "text/html": [
       "<div>\n",
       "<style scoped>\n",
       "    .dataframe tbody tr th:only-of-type {\n",
       "        vertical-align: middle;\n",
       "    }\n",
       "\n",
       "    .dataframe tbody tr th {\n",
       "        vertical-align: top;\n",
       "    }\n",
       "\n",
       "    .dataframe thead th {\n",
       "        text-align: right;\n",
       "    }\n",
       "</style>\n",
       "<table border=\"1\" class=\"dataframe\">\n",
       "  <thead>\n",
       "    <tr style=\"text-align: right;\">\n",
       "      <th></th>\n",
       "      <th>Name</th>\n",
       "      <th>Mother</th>\n",
       "      <th>Parent_Gen</th>\n",
       "      <th>Father</th>\n",
       "      <th>GrandMother</th>\n",
       "      <th>GrandFather</th>\n",
       "    </tr>\n",
       "  </thead>\n",
       "  <tbody>\n",
       "    <tr>\n",
       "      <th>138</th>\n",
       "      <td>Branden</td>\n",
       "      <td>MITSUKO</td>\n",
       "      <td>Gen1</td>\n",
       "      <td>Jorden</td>\n",
       "      <td>Mary</td>\n",
       "      <td>Ralph</td>\n",
       "    </tr>\n",
       "    <tr>\n",
       "      <th>139</th>\n",
       "      <td>Quintin</td>\n",
       "      <td>MICHA</td>\n",
       "      <td>Gen1</td>\n",
       "      <td>Rowan</td>\n",
       "      <td>Mary</td>\n",
       "      <td>Ralph</td>\n",
       "    </tr>\n",
       "    <tr>\n",
       "      <th>140</th>\n",
       "      <td>Abram</td>\n",
       "      <td>MICHA</td>\n",
       "      <td>Gen1</td>\n",
       "      <td>Devin</td>\n",
       "      <td>Mary</td>\n",
       "      <td>Ralph</td>\n",
       "    </tr>\n",
       "    <tr>\n",
       "      <th>141</th>\n",
       "      <td>DEVORAH</td>\n",
       "      <td>MICHA</td>\n",
       "      <td>Gen1</td>\n",
       "      <td>Blaze</td>\n",
       "      <td>Mary</td>\n",
       "      <td>Ralph</td>\n",
       "    </tr>\n",
       "    <tr>\n",
       "      <th>142</th>\n",
       "      <td>Bailey</td>\n",
       "      <td>MICHA</td>\n",
       "      <td>Gen1</td>\n",
       "      <td>Blaze</td>\n",
       "      <td>Mary</td>\n",
       "      <td>Ralph</td>\n",
       "    </tr>\n",
       "    <tr>\n",
       "      <th>143</th>\n",
       "      <td>Chase</td>\n",
       "      <td>MICHA</td>\n",
       "      <td>Gen1</td>\n",
       "      <td>Blaze</td>\n",
       "      <td>Mary</td>\n",
       "      <td>Ralph</td>\n",
       "    </tr>\n",
       "  </tbody>\n",
       "</table>\n",
       "</div>"
      ],
      "text/plain": [
       "        Name   Mother Parent_Gen  Father GrandMother GrandFather\n",
       "138  Branden  MITSUKO       Gen1  Jorden        Mary       Ralph\n",
       "139  Quintin    MICHA       Gen1   Rowan        Mary       Ralph\n",
       "140    Abram    MICHA       Gen1   Devin        Mary       Ralph\n",
       "141  DEVORAH    MICHA       Gen1   Blaze        Mary       Ralph\n",
       "142   Bailey    MICHA       Gen1   Blaze        Mary       Ralph\n",
       "143    Chase    MICHA       Gen1   Blaze        Mary       Ralph"
      ]
     },
     "execution_count": 732,
     "metadata": {},
     "output_type": "execute_result"
    }
   ],
   "source": [
    "grand[['Name',  'Mother', \n",
    "       'Parent_Gen', 'Father',\n",
    "       'GrandMother', 'GrandFather']].head(6)"
   ]
  },
  {
   "cell_type": "code",
   "execution_count": 733,
   "id": "dfe89943-9fce-43c8-a566-6c783c2f0977",
   "metadata": {
    "tags": []
   },
   "outputs": [
    {
     "data": {
      "text/plain": [
       "4"
      ]
     },
     "execution_count": 733,
     "metadata": {},
     "output_type": "execute_result"
    }
   ],
   "source": [
    "int_tags_df['GrandMother'].nunique()"
   ]
  },
  {
   "cell_type": "markdown",
   "id": "7a786404-cfc0-4d05-9e1d-83a64f139a21",
   "metadata": {},
   "source": [
    "___"
   ]
  },
  {
   "cell_type": "code",
   "execution_count": null,
   "id": "32cf1e09-ff7f-4f87-bb5b-186541eeb21d",
   "metadata": {},
   "outputs": [],
   "source": []
  },
  {
   "cell_type": "markdown",
   "id": "7e89c36e-4549-4b54-91a8-62bfc2fa5a5f",
   "metadata": {},
   "source": [
    "### Create Cousins from GrandMother - GroupBy GrandMother and Assign back to the Table for Tags"
   ]
  },
  {
   "cell_type": "code",
   "execution_count": 734,
   "id": "b22c1299-08a2-47c6-8293-cbf932c4d8a1",
   "metadata": {
    "tags": []
   },
   "outputs": [],
   "source": [
    "\n",
    "cousins_df = int_tags_df.groupby('GrandMother')"
   ]
  },
  {
   "cell_type": "code",
   "execution_count": 735,
   "id": "1371b44c-8ea0-4915-bf7e-5a7df35cb17a",
   "metadata": {
    "tags": []
   },
   "outputs": [
    {
     "data": {
      "text/html": [
       "<div>\n",
       "<style scoped>\n",
       "    .dataframe tbody tr th:only-of-type {\n",
       "        vertical-align: middle;\n",
       "    }\n",
       "\n",
       "    .dataframe tbody tr th {\n",
       "        vertical-align: top;\n",
       "    }\n",
       "\n",
       "    .dataframe thead th {\n",
       "        text-align: right;\n",
       "    }\n",
       "</style>\n",
       "<table border=\"1\" class=\"dataframe\">\n",
       "  <thead>\n",
       "    <tr style=\"text-align: right;\">\n",
       "      <th></th>\n",
       "      <th>Name</th>\n",
       "      <th>Favorite_Song</th>\n",
       "      <th>C_ID_t</th>\n",
       "      <th>E_ID_t</th>\n",
       "      <th>Mother</th>\n",
       "      <th>PH_ID_Chicken</th>\n",
       "      <th>PR_ID_Chicken</th>\n",
       "      <th>PH_Name_t</th>\n",
       "      <th>PH_ID_Egg</th>\n",
       "      <th>PR_ID_Egg</th>\n",
       "      <th>...</th>\n",
       "      <th>GrandFather</th>\n",
       "      <th>C_ID_Maternal_Father</th>\n",
       "      <th>E_ID_Maternal_Father</th>\n",
       "      <th>E_IDCM</th>\n",
       "      <th>Mother_I_LOC</th>\n",
       "      <th>E_ID_FatherIL</th>\n",
       "      <th>Father_I_LOC</th>\n",
       "      <th>E_ID</th>\n",
       "      <th>GrandMother_I_LOC</th>\n",
       "      <th>GrandFather_I_LOC</th>\n",
       "    </tr>\n",
       "    <tr>\n",
       "      <th>GrandMother</th>\n",
       "      <th></th>\n",
       "      <th></th>\n",
       "      <th></th>\n",
       "      <th></th>\n",
       "      <th></th>\n",
       "      <th></th>\n",
       "      <th></th>\n",
       "      <th></th>\n",
       "      <th></th>\n",
       "      <th></th>\n",
       "      <th></th>\n",
       "      <th></th>\n",
       "      <th></th>\n",
       "      <th></th>\n",
       "      <th></th>\n",
       "      <th></th>\n",
       "      <th></th>\n",
       "      <th></th>\n",
       "      <th></th>\n",
       "      <th></th>\n",
       "      <th></th>\n",
       "    </tr>\n",
       "  </thead>\n",
       "  <tbody>\n",
       "    <tr>\n",
       "      <th>Barb</th>\n",
       "      <td>JOSETTE</td>\n",
       "      <td>Hold Me</td>\n",
       "      <td>987982290.0</td>\n",
       "      <td>987982290.0</td>\n",
       "      <td>RAYMONDE</td>\n",
       "      <td>8100096.0</td>\n",
       "      <td>159398693.0</td>\n",
       "      <td>RAYMONDE</td>\n",
       "      <td>8100096.0</td>\n",
       "      <td>159398693.0</td>\n",
       "      <td>...</td>\n",
       "      <td>Ralph</td>\n",
       "      <td>800981516</td>\n",
       "      <td>None</td>\n",
       "      <td>8100096</td>\n",
       "      <td>B</td>\n",
       "      <td>159398693</td>\n",
       "      <td>A</td>\n",
       "      <td>8100096</td>\n",
       "      <td>B</td>\n",
       "      <td>B</td>\n",
       "    </tr>\n",
       "    <tr>\n",
       "      <th>Liz</th>\n",
       "      <td>MERRIE</td>\n",
       "      <td>It's A Long Way To The Top</td>\n",
       "      <td>119618553.0</td>\n",
       "      <td>119618553.0</td>\n",
       "      <td>ASIA</td>\n",
       "      <td>417641352.0</td>\n",
       "      <td>159398693.0</td>\n",
       "      <td>ASIA</td>\n",
       "      <td>417641352.0</td>\n",
       "      <td>159398693.0</td>\n",
       "      <td>...</td>\n",
       "      <td>Ralph</td>\n",
       "      <td>800981516</td>\n",
       "      <td>None</td>\n",
       "      <td>417641352</td>\n",
       "      <td>B</td>\n",
       "      <td>159398693</td>\n",
       "      <td>A</td>\n",
       "      <td>417641352</td>\n",
       "      <td>B</td>\n",
       "      <td>B</td>\n",
       "    </tr>\n",
       "    <tr>\n",
       "      <th>Mary</th>\n",
       "      <td>VERONIQUE</td>\n",
       "      <td>GIMME SOME LOVIN'</td>\n",
       "      <td>414391938.0</td>\n",
       "      <td>414391938.0</td>\n",
       "      <td>ELIZA</td>\n",
       "      <td>781565078.0</td>\n",
       "      <td>159398693.0</td>\n",
       "      <td>ELIZA</td>\n",
       "      <td>781565078.0</td>\n",
       "      <td>159398693.0</td>\n",
       "      <td>...</td>\n",
       "      <td>Ralph</td>\n",
       "      <td>800981516</td>\n",
       "      <td>None</td>\n",
       "      <td>781565078</td>\n",
       "      <td>C</td>\n",
       "      <td>159398693</td>\n",
       "      <td>A</td>\n",
       "      <td>781565078</td>\n",
       "      <td>C</td>\n",
       "      <td>C</td>\n",
       "    </tr>\n",
       "    <tr>\n",
       "      <th>Pat</th>\n",
       "      <td>JI</td>\n",
       "      <td>Band on the Run</td>\n",
       "      <td>575631227.0</td>\n",
       "      <td>575631227.0</td>\n",
       "      <td>SIGRID</td>\n",
       "      <td>665554047.0</td>\n",
       "      <td>159398693.0</td>\n",
       "      <td>SIGRID</td>\n",
       "      <td>665554047.0</td>\n",
       "      <td>159398693.0</td>\n",
       "      <td>...</td>\n",
       "      <td>Ralph</td>\n",
       "      <td>800981516</td>\n",
       "      <td>None</td>\n",
       "      <td>665554047</td>\n",
       "      <td>B</td>\n",
       "      <td>159398693</td>\n",
       "      <td>A</td>\n",
       "      <td>665554047</td>\n",
       "      <td>B</td>\n",
       "      <td>B</td>\n",
       "    </tr>\n",
       "  </tbody>\n",
       "</table>\n",
       "<p>4 rows × 33 columns</p>\n",
       "</div>"
      ],
      "text/plain": [
       "                  Name               Favorite_Song       C_ID_t       E_ID_t  \\\n",
       "GrandMother                                                                    \n",
       "Barb           JOSETTE                     Hold Me  987982290.0  987982290.0   \n",
       "Liz             MERRIE  It's A Long Way To The Top  119618553.0  119618553.0   \n",
       "Mary         VERONIQUE           GIMME SOME LOVIN'  414391938.0  414391938.0   \n",
       "Pat                 JI             Band on the Run  575631227.0  575631227.0   \n",
       "\n",
       "               Mother  PH_ID_Chicken  PR_ID_Chicken PH_Name_t    PH_ID_Egg  \\\n",
       "GrandMother                                                                  \n",
       "Barb         RAYMONDE      8100096.0    159398693.0  RAYMONDE    8100096.0   \n",
       "Liz              ASIA    417641352.0    159398693.0      ASIA  417641352.0   \n",
       "Mary            ELIZA    781565078.0    159398693.0     ELIZA  781565078.0   \n",
       "Pat            SIGRID    665554047.0    159398693.0    SIGRID  665554047.0   \n",
       "\n",
       "               PR_ID_Egg  ... GrandFather C_ID_Maternal_Father  \\\n",
       "GrandMother               ...                                    \n",
       "Barb         159398693.0  ...       Ralph            800981516   \n",
       "Liz          159398693.0  ...       Ralph            800981516   \n",
       "Mary         159398693.0  ...       Ralph            800981516   \n",
       "Pat          159398693.0  ...       Ralph            800981516   \n",
       "\n",
       "            E_ID_Maternal_Father     E_IDCM  Mother_I_LOC E_ID_FatherIL  \\\n",
       "GrandMother                                                               \n",
       "Barb                        None    8100096             B     159398693   \n",
       "Liz                         None  417641352             B     159398693   \n",
       "Mary                        None  781565078             C     159398693   \n",
       "Pat                         None  665554047             B     159398693   \n",
       "\n",
       "             Father_I_LOC       E_ID  GrandMother_I_LOC  GrandFather_I_LOC  \n",
       "GrandMother                                                                 \n",
       "Barb                    A    8100096                  B                  B  \n",
       "Liz                     A  417641352                  B                  B  \n",
       "Mary                    A  781565078                  C                  C  \n",
       "Pat                     A  665554047                  B                  B  \n",
       "\n",
       "[4 rows x 33 columns]"
      ]
     },
     "execution_count": 735,
     "metadata": {},
     "output_type": "execute_result"
    }
   ],
   "source": [
    "cousins_df.first()"
   ]
  },
  {
   "cell_type": "code",
   "execution_count": 736,
   "id": "57c31746-3007-4b6f-abc7-4b73a312a4f0",
   "metadata": {
    "tags": []
   },
   "outputs": [],
   "source": [
    "barb_family_list = cousins_df.get_group('Barb')['Name'].tolist()\n",
    "liz_family_list = cousins_df.get_group('Liz')['Name'].tolist()\n",
    "mary_family_list = cousins_df.get_group('Mary')['Name'].tolist()\n",
    "pat_family_list = cousins_df.get_group('Pat')['Name'].tolist()"
   ]
  },
  {
   "cell_type": "code",
   "execution_count": 737,
   "id": "8a5b380e-20aa-4730-98cf-46ceb798c990",
   "metadata": {
    "tags": []
   },
   "outputs": [
    {
     "data": {
      "text/plain": [
       "509"
      ]
     },
     "execution_count": 737,
     "metadata": {},
     "output_type": "execute_result"
    }
   ],
   "source": [
    "size=len(barb_family_list)\n",
    "size"
   ]
  },
  {
   "cell_type": "code",
   "execution_count": 738,
   "id": "8590b594-32fe-4d92-ba0e-050ba5d62958",
   "metadata": {
    "tags": []
   },
   "outputs": [],
   "source": [
    "#type(#Assign Favorite Song to First Gen Chickens\n",
    "#chicken_first[\"Favorite_Song\"] = np.random.choice(song_list, size=len(chicken_first)))\n",
    " #   df['b'] = np.where(df.a.values == 0, np.nan, df.b.values)\n",
    "barb_df = int_tags_df[int_tags_df['GrandMother'] == 'Barb']\n",
    "liz_df = int_tags_df[int_tags_df['GrandMother'] == 'Liz']\n",
    "mary_df = int_tags_df[int_tags_df['GrandMother'] == 'Mary']\n",
    "pat_df = int_tags_df[int_tags_df['GrandMother'] == 'Pat']\n",
    "\n",
    "barb_df['Cousin'] = np.random.choice(barb_family_list, size=len(barb_family_list))\n",
    "liz_df['Cousin'] = np.random.choice(liz_family_list, size=len(liz_family_list))\n",
    "mary_df['Cousin'] = np.random.choice(mary_family_list, size=len(mary_family_list))\n",
    "pat_df['Cousin'] = np.random.choice(pat_family_list, size=len(pat_family_list))\n",
    "\n",
    "#int_tags_df['Cousin'] = np.where(int_tags_df['GrandMother'] == 'Barb'), np.random.choice(barb_family_list, size=len(barb_family_list))\n",
    "\n",
    "barb_c_df = barb_df[['Name', 'C_ID_t', 'Cousin']]\n",
    "liz_c_df = liz_df[['Name', 'C_ID_t', 'Cousin']]\n",
    "mary_c_df = mary_df[['Name', 'C_ID_t', 'Cousin']]\n",
    "pat_c_df = pat_df[['Name', 'C_ID_t', 'Cousin']]\n",
    "\n",
    "#Stack the individual family cousins into a single datafrme for merging into Chicken Tags with GrandParents and Location\n",
    "cousins_selected_df = pd.concat([barb_c_df, liz_c_df, mary_c_df, pat_c_df], axis=0)"
   ]
  },
  {
   "cell_type": "code",
   "execution_count": 739,
   "id": "d5e2c96a-ad55-494b-bb02-6e2aad04358d",
   "metadata": {
    "tags": []
   },
   "outputs": [],
   "source": [
    "#Uncomment and run to verify Chicken Name and Cousin Name\n",
    "#cousins_selected_df.head(10)"
   ]
  },
  {
   "cell_type": "code",
   "execution_count": 740,
   "id": "db41ef37-b2d8-4302-9ff7-90482a5c647a",
   "metadata": {
    "tags": []
   },
   "outputs": [
    {
     "data": {
      "text/plain": [
       "Index(['Name', 'Favorite_Song', 'C_ID_t', 'E_ID_t', 'Mother', 'PH_ID_Chicken',\n",
       "       'PR_ID_Chicken', 'PH_Name_t', 'PH_ID_Egg', 'PR_ID_Egg', 'I_LOC', 'NW',\n",
       "       'Parent_Gen', 'Father', 'C_ID_Father', 'Generation', 'E_ID_Father',\n",
       "       'PH_Name_Father', 'PH_ID', 'PR_ID', 'NameCMM', 'GrandMother', 'C_IDCMM',\n",
       "       'E_IDCMM', 'GrandFather', 'C_ID_Maternal_Father',\n",
       "       'E_ID_Maternal_Father', 'E_IDCM', 'Mother_I_LOC', 'E_ID_FatherIL',\n",
       "       'Father_I_LOC', 'E_ID', 'GrandMother_I_LOC', 'GrandFather_I_LOC'],\n",
       "      dtype='object')"
      ]
     },
     "execution_count": 740,
     "metadata": {},
     "output_type": "execute_result"
    }
   ],
   "source": [
    "int_tags_df.columns"
   ]
  },
  {
   "cell_type": "code",
   "execution_count": 741,
   "id": "ade4b72e-2d33-49b0-8f11-758a7ae44656",
   "metadata": {
    "tags": []
   },
   "outputs": [
    {
     "data": {
      "text/html": [
       "<div>\n",
       "<style scoped>\n",
       "    .dataframe tbody tr th:only-of-type {\n",
       "        vertical-align: middle;\n",
       "    }\n",
       "\n",
       "    .dataframe tbody tr th {\n",
       "        vertical-align: top;\n",
       "    }\n",
       "\n",
       "    .dataframe thead th {\n",
       "        text-align: right;\n",
       "    }\n",
       "</style>\n",
       "<table border=\"1\" class=\"dataframe\">\n",
       "  <thead>\n",
       "    <tr style=\"text-align: right;\">\n",
       "      <th></th>\n",
       "      <th>Name</th>\n",
       "      <th>C_ID_t</th>\n",
       "    </tr>\n",
       "  </thead>\n",
       "  <tbody>\n",
       "    <tr>\n",
       "      <th>0</th>\n",
       "      <td>JI</td>\n",
       "      <td>575631227.0</td>\n",
       "    </tr>\n",
       "    <tr>\n",
       "      <th>1</th>\n",
       "      <td>ODELL</td>\n",
       "      <td>662275938.0</td>\n",
       "    </tr>\n",
       "    <tr>\n",
       "      <th>2</th>\n",
       "      <td>Kameron</td>\n",
       "      <td>193990178.0</td>\n",
       "    </tr>\n",
       "    <tr>\n",
       "      <th>3</th>\n",
       "      <td>KASSIE</td>\n",
       "      <td>815810120.0</td>\n",
       "    </tr>\n",
       "    <tr>\n",
       "      <th>4</th>\n",
       "      <td>Alex</td>\n",
       "      <td>867621698.0</td>\n",
       "    </tr>\n",
       "  </tbody>\n",
       "</table>\n",
       "</div>"
      ],
      "text/plain": [
       "      Name       C_ID_t\n",
       "0       JI  575631227.0\n",
       "1    ODELL  662275938.0\n",
       "2  Kameron  193990178.0\n",
       "3   KASSIE  815810120.0\n",
       "4     Alex  867621698.0"
      ]
     },
     "execution_count": 741,
     "metadata": {},
     "output_type": "execute_result"
    }
   ],
   "source": [
    "int_tags_df[['Name', 'C_ID_t']].head(5)"
   ]
  },
  {
   "cell_type": "code",
   "execution_count": 742,
   "id": "36adc79d-28aa-4ff4-a04f-fe8429726952",
   "metadata": {
    "tags": []
   },
   "outputs": [],
   "source": [
    "name_tags_full_df = pd.merge(int_tags_df, cousins_selected_df, how='outer', on='C_ID_t') "
   ]
  },
  {
   "cell_type": "code",
   "execution_count": 743,
   "id": "ab5197ce-167e-4b2f-abab-434aec52aeec",
   "metadata": {
    "tags": []
   },
   "outputs": [
    {
     "data": {
      "text/plain": [
       "Index(['Name_x', 'Favorite_Song', 'C_ID_t', 'E_ID_t', 'Mother',\n",
       "       'PH_ID_Chicken', 'PR_ID_Chicken', 'PH_Name_t', 'PH_ID_Egg', 'PR_ID_Egg',\n",
       "       'I_LOC', 'NW', 'Parent_Gen', 'Father', 'C_ID_Father', 'Generation',\n",
       "       'E_ID_Father', 'PH_Name_Father', 'PH_ID', 'PR_ID', 'NameCMM',\n",
       "       'GrandMother', 'C_IDCMM', 'E_IDCMM', 'GrandFather',\n",
       "       'C_ID_Maternal_Father', 'E_ID_Maternal_Father', 'E_IDCM',\n",
       "       'Mother_I_LOC', 'E_ID_FatherIL', 'Father_I_LOC', 'E_ID',\n",
       "       'GrandMother_I_LOC', 'GrandFather_I_LOC', 'Name_y', 'Cousin'],\n",
       "      dtype='object')"
      ]
     },
     "execution_count": 743,
     "metadata": {},
     "output_type": "execute_result"
    }
   ],
   "source": [
    "name_tags_full_df.columns"
   ]
  },
  {
   "cell_type": "code",
   "execution_count": 744,
   "id": "35b05aaf-7970-4b97-814f-e47203cc0da8",
   "metadata": {
    "tags": []
   },
   "outputs": [
    {
     "data": {
      "text/html": [
       "<div>\n",
       "<style scoped>\n",
       "    .dataframe tbody tr th:only-of-type {\n",
       "        vertical-align: middle;\n",
       "    }\n",
       "\n",
       "    .dataframe tbody tr th {\n",
       "        vertical-align: top;\n",
       "    }\n",
       "\n",
       "    .dataframe thead th {\n",
       "        text-align: right;\n",
       "    }\n",
       "</style>\n",
       "<table border=\"1\" class=\"dataframe\">\n",
       "  <thead>\n",
       "    <tr style=\"text-align: right;\">\n",
       "      <th></th>\n",
       "      <th>Name</th>\n",
       "      <th>Cousin</th>\n",
       "    </tr>\n",
       "  </thead>\n",
       "  <tbody>\n",
       "    <tr>\n",
       "      <th>0</th>\n",
       "      <td>JI</td>\n",
       "      <td>ELKE</td>\n",
       "    </tr>\n",
       "    <tr>\n",
       "      <th>1</th>\n",
       "      <td>ODELL</td>\n",
       "      <td>THANH</td>\n",
       "    </tr>\n",
       "    <tr>\n",
       "      <th>2</th>\n",
       "      <td>Kameron</td>\n",
       "      <td>EDYTHE</td>\n",
       "    </tr>\n",
       "    <tr>\n",
       "      <th>3</th>\n",
       "      <td>KASSIE</td>\n",
       "      <td>JUANA</td>\n",
       "    </tr>\n",
       "    <tr>\n",
       "      <th>4</th>\n",
       "      <td>Alex</td>\n",
       "      <td>Drake</td>\n",
       "    </tr>\n",
       "  </tbody>\n",
       "</table>\n",
       "</div>"
      ],
      "text/plain": [
       "      Name  Cousin\n",
       "0       JI    ELKE\n",
       "1    ODELL   THANH\n",
       "2  Kameron  EDYTHE\n",
       "3   KASSIE   JUANA\n",
       "4     Alex   Drake"
      ]
     },
     "execution_count": 744,
     "metadata": {},
     "output_type": "execute_result"
    }
   ],
   "source": [
    "name_tags_full_df.rename({'Name_x': 'Name'}, axis=1, inplace=True)\n",
    "name_tags_full_df[['Name', 'Cousin']].head(5)"
   ]
  },
  {
   "cell_type": "code",
   "execution_count": 745,
   "id": "93a07e6b-b93b-4331-88bc-bb85436a3c3c",
   "metadata": {
    "tags": []
   },
   "outputs": [
    {
     "data": {
      "text/html": [
       "<div>\n",
       "<style scoped>\n",
       "    .dataframe tbody tr th:only-of-type {\n",
       "        vertical-align: middle;\n",
       "    }\n",
       "\n",
       "    .dataframe tbody tr th {\n",
       "        vertical-align: top;\n",
       "    }\n",
       "\n",
       "    .dataframe thead th {\n",
       "        text-align: right;\n",
       "    }\n",
       "</style>\n",
       "<table border=\"1\" class=\"dataframe\">\n",
       "  <thead>\n",
       "    <tr style=\"text-align: right;\">\n",
       "      <th></th>\n",
       "      <th>Name</th>\n",
       "      <th>Favorite_Song</th>\n",
       "      <th>Mother</th>\n",
       "      <th>Father</th>\n",
       "      <th>GrandMother</th>\n",
       "      <th>GrandFather</th>\n",
       "      <th>I_LOC</th>\n",
       "      <th>Mother_I_LOC</th>\n",
       "      <th>Father_I_LOC</th>\n",
       "      <th>GrandMother_I_LOC</th>\n",
       "      <th>GrandFather_I_LOC</th>\n",
       "      <th>Cousin</th>\n",
       "    </tr>\n",
       "  </thead>\n",
       "  <tbody>\n",
       "    <tr>\n",
       "      <th>0</th>\n",
       "      <td>JI</td>\n",
       "      <td>Band on the Run</td>\n",
       "      <td>SIGRID</td>\n",
       "      <td>Rowan</td>\n",
       "      <td>Pat</td>\n",
       "      <td>Ralph</td>\n",
       "      <td>C</td>\n",
       "      <td>B</td>\n",
       "      <td>A</td>\n",
       "      <td>B</td>\n",
       "      <td>B</td>\n",
       "      <td>ELKE</td>\n",
       "    </tr>\n",
       "    <tr>\n",
       "      <th>1</th>\n",
       "      <td>ODELL</td>\n",
       "      <td>Urgent</td>\n",
       "      <td>SIGRID</td>\n",
       "      <td>Darius</td>\n",
       "      <td>Pat</td>\n",
       "      <td>Ralph</td>\n",
       "      <td>B</td>\n",
       "      <td>B</td>\n",
       "      <td>B</td>\n",
       "      <td>B</td>\n",
       "      <td>B</td>\n",
       "      <td>THANH</td>\n",
       "    </tr>\n",
       "    <tr>\n",
       "      <th>2</th>\n",
       "      <td>Kameron</td>\n",
       "      <td>Cum On Feel the Noize</td>\n",
       "      <td>SIGRID</td>\n",
       "      <td>Easton</td>\n",
       "      <td>Pat</td>\n",
       "      <td>Ralph</td>\n",
       "      <td>C</td>\n",
       "      <td>B</td>\n",
       "      <td>A</td>\n",
       "      <td>B</td>\n",
       "      <td>B</td>\n",
       "      <td>EDYTHE</td>\n",
       "    </tr>\n",
       "    <tr>\n",
       "      <th>3</th>\n",
       "      <td>KASSIE</td>\n",
       "      <td>Ballroom Blitz</td>\n",
       "      <td>SIGRID</td>\n",
       "      <td>Devin</td>\n",
       "      <td>Pat</td>\n",
       "      <td>Ralph</td>\n",
       "      <td>A</td>\n",
       "      <td>B</td>\n",
       "      <td>A</td>\n",
       "      <td>B</td>\n",
       "      <td>B</td>\n",
       "      <td>JUANA</td>\n",
       "    </tr>\n",
       "    <tr>\n",
       "      <th>4</th>\n",
       "      <td>Alex</td>\n",
       "      <td>Baker Street</td>\n",
       "      <td>SIGRID</td>\n",
       "      <td>Brad</td>\n",
       "      <td>Pat</td>\n",
       "      <td>Ralph</td>\n",
       "      <td>B</td>\n",
       "      <td>B</td>\n",
       "      <td>B</td>\n",
       "      <td>B</td>\n",
       "      <td>B</td>\n",
       "      <td>Drake</td>\n",
       "    </tr>\n",
       "    <tr>\n",
       "      <th>5</th>\n",
       "      <td>YEN</td>\n",
       "      <td>Maxwell's Silver Hammer</td>\n",
       "      <td>SIGRID</td>\n",
       "      <td>Fidel</td>\n",
       "      <td>Pat</td>\n",
       "      <td>Ralph</td>\n",
       "      <td>A</td>\n",
       "      <td>B</td>\n",
       "      <td>B</td>\n",
       "      <td>B</td>\n",
       "      <td>B</td>\n",
       "      <td>Demarcus</td>\n",
       "    </tr>\n",
       "  </tbody>\n",
       "</table>\n",
       "</div>"
      ],
      "text/plain": [
       "      Name            Favorite_Song  Mother  Father GrandMother GrandFather  \\\n",
       "0       JI          Band on the Run  SIGRID   Rowan         Pat       Ralph   \n",
       "1    ODELL                   Urgent  SIGRID  Darius         Pat       Ralph   \n",
       "2  Kameron    Cum On Feel the Noize  SIGRID  Easton         Pat       Ralph   \n",
       "3   KASSIE           Ballroom Blitz  SIGRID   Devin         Pat       Ralph   \n",
       "4     Alex             Baker Street  SIGRID    Brad         Pat       Ralph   \n",
       "5      YEN  Maxwell's Silver Hammer  SIGRID   Fidel         Pat       Ralph   \n",
       "\n",
       "  I_LOC Mother_I_LOC Father_I_LOC GrandMother_I_LOC GrandFather_I_LOC  \\\n",
       "0     C            B            A                 B                 B   \n",
       "1     B            B            B                 B                 B   \n",
       "2     C            B            A                 B                 B   \n",
       "3     A            B            A                 B                 B   \n",
       "4     B            B            B                 B                 B   \n",
       "5     A            B            B                 B                 B   \n",
       "\n",
       "     Cousin  \n",
       "0      ELKE  \n",
       "1     THANH  \n",
       "2    EDYTHE  \n",
       "3     JUANA  \n",
       "4     Drake  \n",
       "5  Demarcus  "
      ]
     },
     "execution_count": 745,
     "metadata": {},
     "output_type": "execute_result"
    }
   ],
   "source": [
    "name_tags_full_df[['Name', 'Favorite_Song', 'Mother', 'Father', 'GrandMother', 'GrandFather', 'I_LOC', 'Mother_I_LOC', 'Father_I_LOC', 'GrandMother_I_LOC', 'GrandFather_I_LOC', 'Cousin' ]].head(6)"
   ]
  },
  {
   "cell_type": "code",
   "execution_count": 746,
   "id": "c4a8f578-bb2f-4f94-9a7c-8cdeffef13fb",
   "metadata": {
    "tags": []
   },
   "outputs": [
    {
     "data": {
      "text/plain": [
       "1505"
      ]
     },
     "execution_count": 746,
     "metadata": {},
     "output_type": "execute_result"
    }
   ],
   "source": [
    "name_tags_full_df.shape[0]"
   ]
  },
  {
   "cell_type": "code",
   "execution_count": 747,
   "id": "67016450-8c07-4fd3-a5f7-9bb46c4500f6",
   "metadata": {
    "tags": []
   },
   "outputs": [
    {
     "data": {
      "text/plain": [
       "Index(['Name', 'Favorite_Song', 'C_ID_t', 'E_ID_t', 'Mother', 'PH_ID_Chicken',\n",
       "       'PR_ID_Chicken', 'PH_Name_t', 'PH_ID_Egg', 'PR_ID_Egg', 'I_LOC', 'NW',\n",
       "       'Parent_Gen', 'Father', 'C_ID_Father', 'Generation', 'E_ID_Father',\n",
       "       'PH_Name_Father', 'PH_ID', 'PR_ID', 'NameCMM', 'GrandMother', 'C_IDCMM',\n",
       "       'E_IDCMM', 'GrandFather', 'C_ID_Maternal_Father',\n",
       "       'E_ID_Maternal_Father', 'E_IDCM', 'Mother_I_LOC', 'E_ID_FatherIL',\n",
       "       'Father_I_LOC', 'E_ID', 'GrandMother_I_LOC', 'GrandFather_I_LOC',\n",
       "       'Name_y', 'Cousin'],\n",
       "      dtype='object')"
      ]
     },
     "execution_count": 747,
     "metadata": {},
     "output_type": "execute_result"
    }
   ],
   "source": [
    "name_tags_full_df.columns"
   ]
  },
  {
   "cell_type": "code",
   "execution_count": 748,
   "id": "39a2c947-3247-4480-a007-eaedf1fed5d2",
   "metadata": {
    "tags": []
   },
   "outputs": [],
   "source": [
    "duplicateIDs_nt_df = name_tags_full_df[name_tags_full_df.duplicated(['C_ID_t'], keep=False)]"
   ]
  },
  {
   "cell_type": "code",
   "execution_count": 749,
   "id": "9cc4ed32-ab90-4869-a656-771a34765249",
   "metadata": {
    "tags": []
   },
   "outputs": [],
   "source": [
    "duplicateIDs_nt_df.to_csv('Coop/duplicated_nt_ids.csv')"
   ]
  },
  {
   "cell_type": "code",
   "execution_count": 750,
   "id": "aea3b8c6-bb99-457b-b4cb-788fe09b1ba6",
   "metadata": {
    "tags": []
   },
   "outputs": [
    {
     "data": {
      "text/html": [
       "<div>\n",
       "<style scoped>\n",
       "    .dataframe tbody tr th:only-of-type {\n",
       "        vertical-align: middle;\n",
       "    }\n",
       "\n",
       "    .dataframe tbody tr th {\n",
       "        vertical-align: top;\n",
       "    }\n",
       "\n",
       "    .dataframe thead th {\n",
       "        text-align: right;\n",
       "    }\n",
       "</style>\n",
       "<table border=\"1\" class=\"dataframe\">\n",
       "  <thead>\n",
       "    <tr style=\"text-align: right;\">\n",
       "      <th></th>\n",
       "      <th>Name</th>\n",
       "      <th>Favorite_Song</th>\n",
       "      <th>C_ID_t</th>\n",
       "      <th>E_ID_t</th>\n",
       "      <th>Mother</th>\n",
       "      <th>PH_ID_Chicken</th>\n",
       "      <th>PR_ID_Chicken</th>\n",
       "      <th>PH_Name_t</th>\n",
       "      <th>PH_ID_Egg</th>\n",
       "      <th>PR_ID_Egg</th>\n",
       "      <th>...</th>\n",
       "      <th>E_ID_Maternal_Father</th>\n",
       "      <th>E_IDCM</th>\n",
       "      <th>Mother_I_LOC</th>\n",
       "      <th>E_ID_FatherIL</th>\n",
       "      <th>Father_I_LOC</th>\n",
       "      <th>E_ID</th>\n",
       "      <th>GrandMother_I_LOC</th>\n",
       "      <th>GrandFather_I_LOC</th>\n",
       "      <th>Name_y</th>\n",
       "      <th>Cousin</th>\n",
       "    </tr>\n",
       "  </thead>\n",
       "  <tbody>\n",
       "    <tr>\n",
       "      <th>0</th>\n",
       "      <td>JI</td>\n",
       "      <td>Band on the Run</td>\n",
       "      <td>575631227.0</td>\n",
       "      <td>575631227.0</td>\n",
       "      <td>SIGRID</td>\n",
       "      <td>665554047.0</td>\n",
       "      <td>159398693.0</td>\n",
       "      <td>SIGRID</td>\n",
       "      <td>665554047.0</td>\n",
       "      <td>159398693.0</td>\n",
       "      <td>...</td>\n",
       "      <td>NaN</td>\n",
       "      <td>665554047</td>\n",
       "      <td>B</td>\n",
       "      <td>159398693</td>\n",
       "      <td>A</td>\n",
       "      <td>665554047</td>\n",
       "      <td>B</td>\n",
       "      <td>B</td>\n",
       "      <td>JI</td>\n",
       "      <td>ELKE</td>\n",
       "    </tr>\n",
       "    <tr>\n",
       "      <th>1</th>\n",
       "      <td>ODELL</td>\n",
       "      <td>Urgent</td>\n",
       "      <td>662275938.0</td>\n",
       "      <td>662275938.0</td>\n",
       "      <td>SIGRID</td>\n",
       "      <td>665554047.0</td>\n",
       "      <td>472726931.0</td>\n",
       "      <td>SIGRID</td>\n",
       "      <td>665554047.0</td>\n",
       "      <td>472726931.0</td>\n",
       "      <td>...</td>\n",
       "      <td>NaN</td>\n",
       "      <td>665554047</td>\n",
       "      <td>B</td>\n",
       "      <td>472726931</td>\n",
       "      <td>B</td>\n",
       "      <td>665554047</td>\n",
       "      <td>B</td>\n",
       "      <td>B</td>\n",
       "      <td>ODELL</td>\n",
       "      <td>THANH</td>\n",
       "    </tr>\n",
       "    <tr>\n",
       "      <th>2</th>\n",
       "      <td>Kameron</td>\n",
       "      <td>Cum On Feel the Noize</td>\n",
       "      <td>193990178.0</td>\n",
       "      <td>193990178.0</td>\n",
       "      <td>SIGRID</td>\n",
       "      <td>665554047.0</td>\n",
       "      <td>704616095.0</td>\n",
       "      <td>SIGRID</td>\n",
       "      <td>665554047.0</td>\n",
       "      <td>704616095.0</td>\n",
       "      <td>...</td>\n",
       "      <td>NaN</td>\n",
       "      <td>665554047</td>\n",
       "      <td>B</td>\n",
       "      <td>704616095</td>\n",
       "      <td>A</td>\n",
       "      <td>665554047</td>\n",
       "      <td>B</td>\n",
       "      <td>B</td>\n",
       "      <td>Kameron</td>\n",
       "      <td>EDYTHE</td>\n",
       "    </tr>\n",
       "    <tr>\n",
       "      <th>3</th>\n",
       "      <td>KASSIE</td>\n",
       "      <td>Ballroom Blitz</td>\n",
       "      <td>815810120.0</td>\n",
       "      <td>815810120.0</td>\n",
       "      <td>SIGRID</td>\n",
       "      <td>665554047.0</td>\n",
       "      <td>115030635.0</td>\n",
       "      <td>SIGRID</td>\n",
       "      <td>665554047.0</td>\n",
       "      <td>115030635.0</td>\n",
       "      <td>...</td>\n",
       "      <td>NaN</td>\n",
       "      <td>665554047</td>\n",
       "      <td>B</td>\n",
       "      <td>115030635</td>\n",
       "      <td>A</td>\n",
       "      <td>665554047</td>\n",
       "      <td>B</td>\n",
       "      <td>B</td>\n",
       "      <td>KASSIE</td>\n",
       "      <td>JUANA</td>\n",
       "    </tr>\n",
       "    <tr>\n",
       "      <th>4</th>\n",
       "      <td>Alex</td>\n",
       "      <td>Baker Street</td>\n",
       "      <td>867621698.0</td>\n",
       "      <td>867621698.0</td>\n",
       "      <td>SIGRID</td>\n",
       "      <td>665554047.0</td>\n",
       "      <td>883399077.0</td>\n",
       "      <td>SIGRID</td>\n",
       "      <td>665554047.0</td>\n",
       "      <td>883399077.0</td>\n",
       "      <td>...</td>\n",
       "      <td>NaN</td>\n",
       "      <td>665554047</td>\n",
       "      <td>B</td>\n",
       "      <td>883399077</td>\n",
       "      <td>B</td>\n",
       "      <td>665554047</td>\n",
       "      <td>B</td>\n",
       "      <td>B</td>\n",
       "      <td>Alex</td>\n",
       "      <td>Drake</td>\n",
       "    </tr>\n",
       "    <tr>\n",
       "      <th>...</th>\n",
       "      <td>...</td>\n",
       "      <td>...</td>\n",
       "      <td>...</td>\n",
       "      <td>...</td>\n",
       "      <td>...</td>\n",
       "      <td>...</td>\n",
       "      <td>...</td>\n",
       "      <td>...</td>\n",
       "      <td>...</td>\n",
       "      <td>...</td>\n",
       "      <td>...</td>\n",
       "      <td>...</td>\n",
       "      <td>...</td>\n",
       "      <td>...</td>\n",
       "      <td>...</td>\n",
       "      <td>...</td>\n",
       "      <td>...</td>\n",
       "      <td>...</td>\n",
       "      <td>...</td>\n",
       "      <td>...</td>\n",
       "      <td>...</td>\n",
       "    </tr>\n",
       "    <tr>\n",
       "      <th>1499</th>\n",
       "      <td>LUCI</td>\n",
       "      <td>God Save The Queen</td>\n",
       "      <td>404052067.0</td>\n",
       "      <td>404052067.0</td>\n",
       "      <td>ONITA</td>\n",
       "      <td>467219506.0</td>\n",
       "      <td>762873661.0</td>\n",
       "      <td>ONITA</td>\n",
       "      <td>467219506.0</td>\n",
       "      <td>762873661.0</td>\n",
       "      <td>...</td>\n",
       "      <td>NaN</td>\n",
       "      <td>467219506</td>\n",
       "      <td>A</td>\n",
       "      <td>762873661</td>\n",
       "      <td>C</td>\n",
       "      <td>467219506</td>\n",
       "      <td>A</td>\n",
       "      <td>A</td>\n",
       "      <td>LUCI</td>\n",
       "      <td>Sheldon</td>\n",
       "    </tr>\n",
       "    <tr>\n",
       "      <th>1500</th>\n",
       "      <td>Justus</td>\n",
       "      <td>Love Me Two Times</td>\n",
       "      <td>954704847.0</td>\n",
       "      <td>954704847.0</td>\n",
       "      <td>ONITA</td>\n",
       "      <td>467219506.0</td>\n",
       "      <td>762873661.0</td>\n",
       "      <td>ONITA</td>\n",
       "      <td>467219506.0</td>\n",
       "      <td>762873661.0</td>\n",
       "      <td>...</td>\n",
       "      <td>NaN</td>\n",
       "      <td>467219506</td>\n",
       "      <td>A</td>\n",
       "      <td>762873661</td>\n",
       "      <td>C</td>\n",
       "      <td>467219506</td>\n",
       "      <td>A</td>\n",
       "      <td>A</td>\n",
       "      <td>Justus</td>\n",
       "      <td>ALLEEN</td>\n",
       "    </tr>\n",
       "    <tr>\n",
       "      <th>1501</th>\n",
       "      <td>SAMANTHA</td>\n",
       "      <td>Love Hurts</td>\n",
       "      <td>510953794.0</td>\n",
       "      <td>510953794.0</td>\n",
       "      <td>ONITA</td>\n",
       "      <td>467219506.0</td>\n",
       "      <td>540665287.0</td>\n",
       "      <td>ONITA</td>\n",
       "      <td>467219506.0</td>\n",
       "      <td>540665287.0</td>\n",
       "      <td>...</td>\n",
       "      <td>NaN</td>\n",
       "      <td>467219506</td>\n",
       "      <td>A</td>\n",
       "      <td>540665287</td>\n",
       "      <td>C</td>\n",
       "      <td>467219506</td>\n",
       "      <td>A</td>\n",
       "      <td>A</td>\n",
       "      <td>SAMANTHA</td>\n",
       "      <td>Miles</td>\n",
       "    </tr>\n",
       "    <tr>\n",
       "      <th>1502</th>\n",
       "      <td>Don</td>\n",
       "      <td>Proud Mary</td>\n",
       "      <td>388076486.0</td>\n",
       "      <td>388076486.0</td>\n",
       "      <td>ONITA</td>\n",
       "      <td>467219506.0</td>\n",
       "      <td>229118903.0</td>\n",
       "      <td>ONITA</td>\n",
       "      <td>467219506.0</td>\n",
       "      <td>229118903.0</td>\n",
       "      <td>...</td>\n",
       "      <td>NaN</td>\n",
       "      <td>467219506</td>\n",
       "      <td>A</td>\n",
       "      <td>229118903</td>\n",
       "      <td>B</td>\n",
       "      <td>467219506</td>\n",
       "      <td>A</td>\n",
       "      <td>A</td>\n",
       "      <td>Don</td>\n",
       "      <td>CLAUDE</td>\n",
       "    </tr>\n",
       "    <tr>\n",
       "      <th>1503</th>\n",
       "      <td>MALLIE</td>\n",
       "      <td>Day Tripper</td>\n",
       "      <td>543095142.0</td>\n",
       "      <td>543095142.0</td>\n",
       "      <td>ONITA</td>\n",
       "      <td>467219506.0</td>\n",
       "      <td>915956610.0</td>\n",
       "      <td>ONITA</td>\n",
       "      <td>467219506.0</td>\n",
       "      <td>915956610.0</td>\n",
       "      <td>...</td>\n",
       "      <td>NaN</td>\n",
       "      <td>467219506</td>\n",
       "      <td>A</td>\n",
       "      <td>915956610</td>\n",
       "      <td>B</td>\n",
       "      <td>467219506</td>\n",
       "      <td>A</td>\n",
       "      <td>A</td>\n",
       "      <td>MALLIE</td>\n",
       "      <td>JESSI</td>\n",
       "    </tr>\n",
       "  </tbody>\n",
       "</table>\n",
       "<p>1217 rows × 36 columns</p>\n",
       "</div>"
      ],
      "text/plain": [
       "          Name          Favorite_Song       C_ID_t       E_ID_t  Mother  \\\n",
       "0           JI        Band on the Run  575631227.0  575631227.0  SIGRID   \n",
       "1        ODELL                 Urgent  662275938.0  662275938.0  SIGRID   \n",
       "2      Kameron  Cum On Feel the Noize  193990178.0  193990178.0  SIGRID   \n",
       "3       KASSIE         Ballroom Blitz  815810120.0  815810120.0  SIGRID   \n",
       "4         Alex           Baker Street  867621698.0  867621698.0  SIGRID   \n",
       "...        ...                    ...          ...          ...     ...   \n",
       "1499      LUCI     God Save The Queen  404052067.0  404052067.0   ONITA   \n",
       "1500    Justus      Love Me Two Times  954704847.0  954704847.0   ONITA   \n",
       "1501  SAMANTHA             Love Hurts  510953794.0  510953794.0   ONITA   \n",
       "1502       Don             Proud Mary  388076486.0  388076486.0   ONITA   \n",
       "1503    MALLIE            Day Tripper  543095142.0  543095142.0   ONITA   \n",
       "\n",
       "     PH_ID_Chicken PR_ID_Chicken PH_Name_t    PH_ID_Egg    PR_ID_Egg  ...  \\\n",
       "0      665554047.0   159398693.0    SIGRID  665554047.0  159398693.0  ...   \n",
       "1      665554047.0   472726931.0    SIGRID  665554047.0  472726931.0  ...   \n",
       "2      665554047.0   704616095.0    SIGRID  665554047.0  704616095.0  ...   \n",
       "3      665554047.0   115030635.0    SIGRID  665554047.0  115030635.0  ...   \n",
       "4      665554047.0   883399077.0    SIGRID  665554047.0  883399077.0  ...   \n",
       "...            ...           ...       ...          ...          ...  ...   \n",
       "1499   467219506.0   762873661.0     ONITA  467219506.0  762873661.0  ...   \n",
       "1500   467219506.0   762873661.0     ONITA  467219506.0  762873661.0  ...   \n",
       "1501   467219506.0   540665287.0     ONITA  467219506.0  540665287.0  ...   \n",
       "1502   467219506.0   229118903.0     ONITA  467219506.0  229118903.0  ...   \n",
       "1503   467219506.0   915956610.0     ONITA  467219506.0  915956610.0  ...   \n",
       "\n",
       "     E_ID_Maternal_Father     E_IDCM Mother_I_LOC E_ID_FatherIL Father_I_LOC  \\\n",
       "0                     NaN  665554047            B     159398693            A   \n",
       "1                     NaN  665554047            B     472726931            B   \n",
       "2                     NaN  665554047            B     704616095            A   \n",
       "3                     NaN  665554047            B     115030635            A   \n",
       "4                     NaN  665554047            B     883399077            B   \n",
       "...                   ...        ...          ...           ...          ...   \n",
       "1499                  NaN  467219506            A     762873661            C   \n",
       "1500                  NaN  467219506            A     762873661            C   \n",
       "1501                  NaN  467219506            A     540665287            C   \n",
       "1502                  NaN  467219506            A     229118903            B   \n",
       "1503                  NaN  467219506            A     915956610            B   \n",
       "\n",
       "           E_ID GrandMother_I_LOC GrandFather_I_LOC    Name_y   Cousin  \n",
       "0     665554047                 B                 B        JI     ELKE  \n",
       "1     665554047                 B                 B     ODELL    THANH  \n",
       "2     665554047                 B                 B   Kameron   EDYTHE  \n",
       "3     665554047                 B                 B    KASSIE    JUANA  \n",
       "4     665554047                 B                 B      Alex    Drake  \n",
       "...         ...               ...               ...       ...      ...  \n",
       "1499  467219506                 A                 A      LUCI  Sheldon  \n",
       "1500  467219506                 A                 A    Justus   ALLEEN  \n",
       "1501  467219506                 A                 A  SAMANTHA    Miles  \n",
       "1502  467219506                 A                 A       Don   CLAUDE  \n",
       "1503  467219506                 A                 A    MALLIE    JESSI  \n",
       "\n",
       "[1217 rows x 36 columns]"
      ]
     },
     "execution_count": 750,
     "metadata": {},
     "output_type": "execute_result"
    }
   ],
   "source": [
    "### Name Tag clean up to remove any possible duplicates and trim to only 1000 records as that is the number\n",
    "### defined in the exercise: 1000\n",
    "#df.drop_duplicates(subset='A', keep=\"last\")\n",
    "name_tags_full_df.drop_duplicates(subset='Name', keep='first')"
   ]
  },
  {
   "cell_type": "code",
   "execution_count": 751,
   "id": "9788d889-03d1-437d-96d5-5dd299bedd55",
   "metadata": {
    "tags": []
   },
   "outputs": [],
   "source": [
    "name_tags_full_df.to_csv('Coop/name_tags_compmlete_df.csv')"
   ]
  },
  {
   "cell_type": "code",
   "execution_count": 752,
   "id": "dbfde66c-fe78-4fdf-a665-8cc4c2936c06",
   "metadata": {
    "tags": []
   },
   "outputs": [],
   "source": [
    "name_tags_df = name_tags_full_df[['Name', 'Favorite_Song', 'Mother', 'Father', 'GrandMother', 'GrandFather', 'I_LOC', 'Mother_I_LOC', 'Father_I_LOC', 'GrandMother_I_LOC', 'GrandFather_I_LOC', 'Cousin' ]]"
   ]
  },
  {
   "cell_type": "code",
   "execution_count": 753,
   "id": "193136a4-f03c-4c65-a766-add146302f71",
   "metadata": {
    "tags": []
   },
   "outputs": [
    {
     "data": {
      "text/html": [
       "<div>\n",
       "<style scoped>\n",
       "    .dataframe tbody tr th:only-of-type {\n",
       "        vertical-align: middle;\n",
       "    }\n",
       "\n",
       "    .dataframe tbody tr th {\n",
       "        vertical-align: top;\n",
       "    }\n",
       "\n",
       "    .dataframe thead th {\n",
       "        text-align: right;\n",
       "    }\n",
       "</style>\n",
       "<table border=\"1\" class=\"dataframe\">\n",
       "  <thead>\n",
       "    <tr style=\"text-align: right;\">\n",
       "      <th></th>\n",
       "      <th>Name</th>\n",
       "      <th>Favorite_Song</th>\n",
       "      <th>Mother</th>\n",
       "      <th>Father</th>\n",
       "      <th>GrandMother</th>\n",
       "      <th>GrandFather</th>\n",
       "      <th>I_LOC</th>\n",
       "      <th>Mother_I_LOC</th>\n",
       "      <th>Father_I_LOC</th>\n",
       "      <th>GrandMother_I_LOC</th>\n",
       "      <th>GrandFather_I_LOC</th>\n",
       "      <th>Cousin</th>\n",
       "    </tr>\n",
       "  </thead>\n",
       "  <tbody>\n",
       "    <tr>\n",
       "      <th>0</th>\n",
       "      <td>JI</td>\n",
       "      <td>Band on the Run</td>\n",
       "      <td>SIGRID</td>\n",
       "      <td>Rowan</td>\n",
       "      <td>Pat</td>\n",
       "      <td>Ralph</td>\n",
       "      <td>C</td>\n",
       "      <td>B</td>\n",
       "      <td>A</td>\n",
       "      <td>B</td>\n",
       "      <td>B</td>\n",
       "      <td>ELKE</td>\n",
       "    </tr>\n",
       "    <tr>\n",
       "      <th>1</th>\n",
       "      <td>ODELL</td>\n",
       "      <td>Urgent</td>\n",
       "      <td>SIGRID</td>\n",
       "      <td>Darius</td>\n",
       "      <td>Pat</td>\n",
       "      <td>Ralph</td>\n",
       "      <td>B</td>\n",
       "      <td>B</td>\n",
       "      <td>B</td>\n",
       "      <td>B</td>\n",
       "      <td>B</td>\n",
       "      <td>THANH</td>\n",
       "    </tr>\n",
       "    <tr>\n",
       "      <th>2</th>\n",
       "      <td>Kameron</td>\n",
       "      <td>Cum On Feel the Noize</td>\n",
       "      <td>SIGRID</td>\n",
       "      <td>Easton</td>\n",
       "      <td>Pat</td>\n",
       "      <td>Ralph</td>\n",
       "      <td>C</td>\n",
       "      <td>B</td>\n",
       "      <td>A</td>\n",
       "      <td>B</td>\n",
       "      <td>B</td>\n",
       "      <td>EDYTHE</td>\n",
       "    </tr>\n",
       "    <tr>\n",
       "      <th>3</th>\n",
       "      <td>KASSIE</td>\n",
       "      <td>Ballroom Blitz</td>\n",
       "      <td>SIGRID</td>\n",
       "      <td>Devin</td>\n",
       "      <td>Pat</td>\n",
       "      <td>Ralph</td>\n",
       "      <td>A</td>\n",
       "      <td>B</td>\n",
       "      <td>A</td>\n",
       "      <td>B</td>\n",
       "      <td>B</td>\n",
       "      <td>JUANA</td>\n",
       "    </tr>\n",
       "    <tr>\n",
       "      <th>4</th>\n",
       "      <td>Alex</td>\n",
       "      <td>Baker Street</td>\n",
       "      <td>SIGRID</td>\n",
       "      <td>Brad</td>\n",
       "      <td>Pat</td>\n",
       "      <td>Ralph</td>\n",
       "      <td>B</td>\n",
       "      <td>B</td>\n",
       "      <td>B</td>\n",
       "      <td>B</td>\n",
       "      <td>B</td>\n",
       "      <td>Drake</td>\n",
       "    </tr>\n",
       "    <tr>\n",
       "      <th>...</th>\n",
       "      <td>...</td>\n",
       "      <td>...</td>\n",
       "      <td>...</td>\n",
       "      <td>...</td>\n",
       "      <td>...</td>\n",
       "      <td>...</td>\n",
       "      <td>...</td>\n",
       "      <td>...</td>\n",
       "      <td>...</td>\n",
       "      <td>...</td>\n",
       "      <td>...</td>\n",
       "      <td>...</td>\n",
       "    </tr>\n",
       "    <tr>\n",
       "      <th>1500</th>\n",
       "      <td>Justus</td>\n",
       "      <td>Love Me Two Times</td>\n",
       "      <td>ONITA</td>\n",
       "      <td>Ronaldo</td>\n",
       "      <td>Barb</td>\n",
       "      <td>Ralph</td>\n",
       "      <td>A</td>\n",
       "      <td>A</td>\n",
       "      <td>C</td>\n",
       "      <td>A</td>\n",
       "      <td>A</td>\n",
       "      <td>ALLEEN</td>\n",
       "    </tr>\n",
       "    <tr>\n",
       "      <th>1501</th>\n",
       "      <td>SAMANTHA</td>\n",
       "      <td>Love Hurts</td>\n",
       "      <td>ONITA</td>\n",
       "      <td>Daquan</td>\n",
       "      <td>Barb</td>\n",
       "      <td>Ralph</td>\n",
       "      <td>B</td>\n",
       "      <td>A</td>\n",
       "      <td>C</td>\n",
       "      <td>A</td>\n",
       "      <td>A</td>\n",
       "      <td>Miles</td>\n",
       "    </tr>\n",
       "    <tr>\n",
       "      <th>1502</th>\n",
       "      <td>Don</td>\n",
       "      <td>Proud Mary</td>\n",
       "      <td>ONITA</td>\n",
       "      <td>Gustavo</td>\n",
       "      <td>Barb</td>\n",
       "      <td>Ralph</td>\n",
       "      <td>A</td>\n",
       "      <td>A</td>\n",
       "      <td>B</td>\n",
       "      <td>A</td>\n",
       "      <td>A</td>\n",
       "      <td>CLAUDE</td>\n",
       "    </tr>\n",
       "    <tr>\n",
       "      <th>1503</th>\n",
       "      <td>MALLIE</td>\n",
       "      <td>Day Tripper</td>\n",
       "      <td>ONITA</td>\n",
       "      <td>Jorden</td>\n",
       "      <td>Barb</td>\n",
       "      <td>Ralph</td>\n",
       "      <td>B</td>\n",
       "      <td>A</td>\n",
       "      <td>B</td>\n",
       "      <td>A</td>\n",
       "      <td>A</td>\n",
       "      <td>JESSI</td>\n",
       "    </tr>\n",
       "    <tr>\n",
       "      <th>1504</th>\n",
       "      <td>Glen</td>\n",
       "      <td>Jackie Wilson Said</td>\n",
       "      <td>ONITA</td>\n",
       "      <td>Rohan</td>\n",
       "      <td>Barb</td>\n",
       "      <td>Ralph</td>\n",
       "      <td>C</td>\n",
       "      <td>A</td>\n",
       "      <td>C</td>\n",
       "      <td>A</td>\n",
       "      <td>A</td>\n",
       "      <td>LASHAWN</td>\n",
       "    </tr>\n",
       "  </tbody>\n",
       "</table>\n",
       "<p>1505 rows × 12 columns</p>\n",
       "</div>"
      ],
      "text/plain": [
       "          Name          Favorite_Song  Mother   Father GrandMother  \\\n",
       "0           JI        Band on the Run  SIGRID    Rowan         Pat   \n",
       "1        ODELL                 Urgent  SIGRID   Darius         Pat   \n",
       "2      Kameron  Cum On Feel the Noize  SIGRID   Easton         Pat   \n",
       "3       KASSIE         Ballroom Blitz  SIGRID    Devin         Pat   \n",
       "4         Alex           Baker Street  SIGRID     Brad         Pat   \n",
       "...        ...                    ...     ...      ...         ...   \n",
       "1500    Justus      Love Me Two Times   ONITA  Ronaldo        Barb   \n",
       "1501  SAMANTHA             Love Hurts   ONITA   Daquan        Barb   \n",
       "1502       Don             Proud Mary   ONITA  Gustavo        Barb   \n",
       "1503    MALLIE            Day Tripper   ONITA   Jorden        Barb   \n",
       "1504      Glen     Jackie Wilson Said   ONITA    Rohan        Barb   \n",
       "\n",
       "     GrandFather I_LOC Mother_I_LOC Father_I_LOC GrandMother_I_LOC  \\\n",
       "0          Ralph     C            B            A                 B   \n",
       "1          Ralph     B            B            B                 B   \n",
       "2          Ralph     C            B            A                 B   \n",
       "3          Ralph     A            B            A                 B   \n",
       "4          Ralph     B            B            B                 B   \n",
       "...          ...   ...          ...          ...               ...   \n",
       "1500       Ralph     A            A            C                 A   \n",
       "1501       Ralph     B            A            C                 A   \n",
       "1502       Ralph     A            A            B                 A   \n",
       "1503       Ralph     B            A            B                 A   \n",
       "1504       Ralph     C            A            C                 A   \n",
       "\n",
       "     GrandFather_I_LOC   Cousin  \n",
       "0                    B     ELKE  \n",
       "1                    B    THANH  \n",
       "2                    B   EDYTHE  \n",
       "3                    B    JUANA  \n",
       "4                    B    Drake  \n",
       "...                ...      ...  \n",
       "1500                 A   ALLEEN  \n",
       "1501                 A    Miles  \n",
       "1502                 A   CLAUDE  \n",
       "1503                 A    JESSI  \n",
       "1504                 A  LASHAWN  \n",
       "\n",
       "[1505 rows x 12 columns]"
      ]
     },
     "execution_count": 753,
     "metadata": {},
     "output_type": "execute_result"
    }
   ],
   "source": [
    "name_tags_df"
   ]
  },
  {
   "cell_type": "code",
   "execution_count": 756,
   "id": "3cdd2a13-10f1-47bc-81af-ff0bdbb49722",
   "metadata": {
    "tags": []
   },
   "outputs": [
    {
     "data": {
      "text/plain": [
       "1505"
      ]
     },
     "execution_count": 756,
     "metadata": {},
     "output_type": "execute_result"
    }
   ],
   "source": [
    "name_tags_full_df.shape[0]"
   ]
  },
  {
   "cell_type": "code",
   "execution_count": 782,
   "id": "c84b2bc9-5a2e-45ac-91c9-6dcde99c340b",
   "metadata": {
    "tags": []
   },
   "outputs": [],
   "source": [
    "#Per the exercise instruction we will just generate the firt 1000 Tags for the Table.\n",
    "name_tags_1000_df = name_tags_full_df.head(1000)"
   ]
  },
  {
   "cell_type": "code",
   "execution_count": 784,
   "id": "ae2ef092-c183-4e9a-8784-251a13a7bac3",
   "metadata": {
    "tags": []
   },
   "outputs": [
    {
     "data": {
      "text/plain": [
       "(1000, 36)"
      ]
     },
     "execution_count": 784,
     "metadata": {},
     "output_type": "execute_result"
    }
   ],
   "source": [
    "#Verify Name Tag Table Shape\n",
    "name_tags_1000_df.shape"
   ]
  },
  {
   "cell_type": "code",
   "execution_count": 785,
   "id": "ab6e22a5-3f2c-4d89-a618-f3e401c9444c",
   "metadata": {
    "tags": []
   },
   "outputs": [],
   "source": [
    "name_tags_df.to_csv('Coop/name_tags_final_df.csv')\n",
    "name_tags_1000_df.to_csv('Coop/name_tags_1000_final_df.csv')"
   ]
  },
  {
   "cell_type": "code",
   "execution_count": 786,
   "id": "54776b78-b4d4-4795-92aa-9e1ac0e52df0",
   "metadata": {
    "tags": []
   },
   "outputs": [
    {
     "data": {
      "text/plain": [
       "3"
      ]
     },
     "execution_count": 786,
     "metadata": {},
     "output_type": "execute_result"
    }
   ],
   "source": [
    "chickens_total_df['Generation'].nunique()"
   ]
  },
  {
   "cell_type": "code",
   "execution_count": 759,
   "id": "28315bc4-2f9d-4eac-98f6-a92fa1e3c4f5",
   "metadata": {
    "tags": []
   },
   "outputs": [
    {
     "data": {
      "text/plain": [
       "Index(['Name', 'Sex', 'Color', 'C_ID', 'Generation', 'Favorite_Song', 'E_ID',\n",
       "       'PH_Name', 'PH_ID', 'PR_ID'],\n",
       "      dtype='object')"
      ]
     },
     "execution_count": 759,
     "metadata": {},
     "output_type": "execute_result"
    }
   ],
   "source": [
    "chickens_total_df.columns"
   ]
  },
  {
   "cell_type": "code",
   "execution_count": 788,
   "id": "4d26c9a7-42a6-4caa-95df-150e463f30a2",
   "metadata": {
    "tags": []
   },
   "outputs": [
    {
     "name": "stdout",
     "output_type": "stream",
     "text": [
      "Checking for any duplicate Chickens in the Table =  0\n"
     ]
    },
    {
     "data": {
      "text/html": [
       "<div>\n",
       "<style scoped>\n",
       "    .dataframe tbody tr th:only-of-type {\n",
       "        vertical-align: middle;\n",
       "    }\n",
       "\n",
       "    .dataframe tbody tr th {\n",
       "        vertical-align: top;\n",
       "    }\n",
       "\n",
       "    .dataframe thead th {\n",
       "        text-align: right;\n",
       "    }\n",
       "</style>\n",
       "<table border=\"1\" class=\"dataframe\">\n",
       "  <thead>\n",
       "    <tr style=\"text-align: right;\">\n",
       "      <th></th>\n",
       "      <th>Name</th>\n",
       "      <th>Sex</th>\n",
       "      <th>Color</th>\n",
       "      <th>C_ID</th>\n",
       "      <th>Generation</th>\n",
       "      <th>Favorite_Song</th>\n",
       "      <th>E_ID</th>\n",
       "      <th>PH_Name</th>\n",
       "      <th>PH_ID</th>\n",
       "      <th>PR_ID</th>\n",
       "      <th>Hatch_Date</th>\n",
       "    </tr>\n",
       "  </thead>\n",
       "  <tbody>\n",
       "  </tbody>\n",
       "</table>\n",
       "</div>"
      ],
      "text/plain": [
       "Empty DataFrame\n",
       "Columns: [Name, Sex, Color, C_ID, Generation, Favorite_Song, E_ID, PH_Name, PH_ID, PR_ID, Hatch_Date]\n",
       "Index: []"
      ]
     },
     "execution_count": 788,
     "metadata": {},
     "output_type": "execute_result"
    }
   ],
   "source": [
    "print(\"Checking for any duplicate Chickens in the Table = \", len(chickens_total_df[chickens_total_df.duplicated(['C_ID'], keep=False)]))\n",
    "chickens_total_df[chickens_total_df.duplicated(['C_ID'], keep=False)]"
   ]
  },
  {
   "cell_type": "markdown",
   "id": "4ff54d0a-0546-4eb0-844b-bd1e93dcece5",
   "metadata": {},
   "source": [
    "___"
   ]
  },
  {
   "cell_type": "markdown",
   "id": "5bbc9815-17d8-49f1-9337-453217ca6a7b",
   "metadata": {},
   "source": [
    "### Bonus Assignment - Show Hatch Dates and make sure the data makes sense"
   ]
  },
  {
   "cell_type": "code",
   "execution_count": 799,
   "id": "8d0f3468-c90c-4aa1-99bc-49403a005c2c",
   "metadata": {
    "tags": []
   },
   "outputs": [],
   "source": [
    "## Bonus Assign Egg Date and Hatch Dates to Generation - use to plot\n",
    "#dailylog_df\n",
    "#Assume Gen 1 has about 150 days for intial flock starts producing eggs and the eggs hatch \n",
    "#eggloggen1_df\n",
    "gen_one_dates_list = dailylog_df[150:]['Dates'].tolist()\n",
    "gen_two_dates_list = eggloggen1_df[150:]['Dates'].tolist()"
   ]
  },
  {
   "cell_type": "code",
   "execution_count": 802,
   "id": "145fbc63-83dc-4112-aee1-494dd74bc3e7",
   "metadata": {
    "tags": []
   },
   "outputs": [],
   "source": [
    "#eggloggen1_df[150:]['Dates']"
   ]
  },
  {
   "cell_type": "code",
   "execution_count": 803,
   "id": "d2d1c426-573a-4011-8a5a-c7df40d745e1",
   "metadata": {
    "tags": []
   },
   "outputs": [],
   "source": [
    "gen_one_lenght = chickens_total_df[chickens_total_df.Generation == 'Gen1'].shape[0]\n",
    "gen_two_lenght = chickens_total_df[chickens_total_df.Generation == 'Gen2'].shape[0]"
   ]
  },
  {
   "cell_type": "code",
   "execution_count": 804,
   "id": "f7f7fddc-fb9a-4a6c-a483-4b930f2e9d73",
   "metadata": {
    "tags": []
   },
   "outputs": [
    {
     "data": {
      "text/html": [
       "<div>\n",
       "<style scoped>\n",
       "    .dataframe tbody tr th:only-of-type {\n",
       "        vertical-align: middle;\n",
       "    }\n",
       "\n",
       "    .dataframe tbody tr th {\n",
       "        vertical-align: top;\n",
       "    }\n",
       "\n",
       "    .dataframe thead th {\n",
       "        text-align: right;\n",
       "    }\n",
       "</style>\n",
       "<table border=\"1\" class=\"dataframe\">\n",
       "  <thead>\n",
       "    <tr style=\"text-align: right;\">\n",
       "      <th></th>\n",
       "      <th>Name</th>\n",
       "      <th>Sex</th>\n",
       "      <th>Color</th>\n",
       "      <th>C_ID</th>\n",
       "      <th>Generation</th>\n",
       "      <th>Favorite_Song</th>\n",
       "      <th>E_ID</th>\n",
       "      <th>PH_Name</th>\n",
       "      <th>PH_ID</th>\n",
       "      <th>PR_ID</th>\n",
       "      <th>Hatch_Date</th>\n",
       "    </tr>\n",
       "  </thead>\n",
       "  <tbody>\n",
       "    <tr>\n",
       "      <th>0</th>\n",
       "      <td>Mary</td>\n",
       "      <td>Hen</td>\n",
       "      <td>Black&amp;White</td>\n",
       "      <td>225766667</td>\n",
       "      <td>Initial_Flock</td>\n",
       "      <td>Paradise By The Dashboard Light</td>\n",
       "      <td>NaN</td>\n",
       "      <td>NaN</td>\n",
       "      <td>NaN</td>\n",
       "      <td>NaN</td>\n",
       "      <td>NaN</td>\n",
       "    </tr>\n",
       "    <tr>\n",
       "      <th>1</th>\n",
       "      <td>Pat</td>\n",
       "      <td>Hen</td>\n",
       "      <td>Black&amp;White</td>\n",
       "      <td>631311759</td>\n",
       "      <td>Initial_Flock</td>\n",
       "      <td>With a Little Luck</td>\n",
       "      <td>NaN</td>\n",
       "      <td>NaN</td>\n",
       "      <td>NaN</td>\n",
       "      <td>NaN</td>\n",
       "      <td>NaN</td>\n",
       "    </tr>\n",
       "    <tr>\n",
       "      <th>2</th>\n",
       "      <td>Barb</td>\n",
       "      <td>Hen</td>\n",
       "      <td>Black&amp;White</td>\n",
       "      <td>397591248</td>\n",
       "      <td>Initial_Flock</td>\n",
       "      <td>Walk On The Wild Side</td>\n",
       "      <td>NaN</td>\n",
       "      <td>NaN</td>\n",
       "      <td>NaN</td>\n",
       "      <td>NaN</td>\n",
       "      <td>NaN</td>\n",
       "    </tr>\n",
       "    <tr>\n",
       "      <th>3</th>\n",
       "      <td>Liz</td>\n",
       "      <td>Hen</td>\n",
       "      <td>Black&amp;White</td>\n",
       "      <td>630559425</td>\n",
       "      <td>Initial_Flock</td>\n",
       "      <td>Wild Horses</td>\n",
       "      <td>NaN</td>\n",
       "      <td>NaN</td>\n",
       "      <td>NaN</td>\n",
       "      <td>NaN</td>\n",
       "      <td>NaN</td>\n",
       "    </tr>\n",
       "    <tr>\n",
       "      <th>4</th>\n",
       "      <td>Ralph</td>\n",
       "      <td>Rooster</td>\n",
       "      <td>Black&amp;White</td>\n",
       "      <td>800981516</td>\n",
       "      <td>Initial_Flock</td>\n",
       "      <td>Pride of Man</td>\n",
       "      <td>NaN</td>\n",
       "      <td>NaN</td>\n",
       "      <td>NaN</td>\n",
       "      <td>NaN</td>\n",
       "      <td>NaN</td>\n",
       "    </tr>\n",
       "    <tr>\n",
       "      <th>1931</th>\n",
       "      <td>LORRINE</td>\n",
       "      <td>Hen</td>\n",
       "      <td>Black&amp;White</td>\n",
       "      <td>169163902</td>\n",
       "      <td>Gen1</td>\n",
       "      <td>Jeremy</td>\n",
       "      <td>169163902</td>\n",
       "      <td>Liz</td>\n",
       "      <td>630559425</td>\n",
       "      <td>800981516</td>\n",
       "      <td>2021-11-28 00:00:00</td>\n",
       "    </tr>\n",
       "    <tr>\n",
       "      <th>1615</th>\n",
       "      <td>DOROTHA</td>\n",
       "      <td>Hen</td>\n",
       "      <td>Black&amp;White</td>\n",
       "      <td>429368417</td>\n",
       "      <td>Gen1</td>\n",
       "      <td>Ticket to Ride</td>\n",
       "      <td>429368417</td>\n",
       "      <td>Barb</td>\n",
       "      <td>397591248</td>\n",
       "      <td>800981516</td>\n",
       "      <td>2021-07-13 00:00:00</td>\n",
       "    </tr>\n",
       "  </tbody>\n",
       "</table>\n",
       "</div>"
      ],
      "text/plain": [
       "         Name      Sex        Color       C_ID     Generation  \\\n",
       "0        Mary      Hen  Black&White  225766667  Initial_Flock   \n",
       "1         Pat      Hen  Black&White  631311759  Initial_Flock   \n",
       "2        Barb      Hen  Black&White  397591248  Initial_Flock   \n",
       "3         Liz      Hen  Black&White  630559425  Initial_Flock   \n",
       "4       Ralph  Rooster  Black&White  800981516  Initial_Flock   \n",
       "1931  LORRINE      Hen  Black&White  169163902           Gen1   \n",
       "1615  DOROTHA      Hen  Black&White  429368417           Gen1   \n",
       "\n",
       "                        Favorite_Song       E_ID PH_Name      PH_ID  \\\n",
       "0     Paradise By The Dashboard Light        NaN     NaN        NaN   \n",
       "1                  With a Little Luck        NaN     NaN        NaN   \n",
       "2               Walk On The Wild Side        NaN     NaN        NaN   \n",
       "3                         Wild Horses        NaN     NaN        NaN   \n",
       "4                        Pride of Man        NaN     NaN        NaN   \n",
       "1931                           Jeremy  169163902     Liz  630559425   \n",
       "1615                   Ticket to Ride  429368417    Barb  397591248   \n",
       "\n",
       "          PR_ID           Hatch_Date  \n",
       "0           NaN                  NaN  \n",
       "1           NaN                  NaN  \n",
       "2           NaN                  NaN  \n",
       "3           NaN                  NaN  \n",
       "4           NaN                  NaN  \n",
       "1931  800981516  2021-11-28 00:00:00  \n",
       "1615  800981516  2021-07-13 00:00:00  "
      ]
     },
     "execution_count": 804,
     "metadata": {},
     "output_type": "execute_result"
    }
   ],
   "source": [
    "#Dataframes:\n",
    "#chickens_total_df.head(5)\n",
    "gen_one_length = chickens_total_df.Generation == 'Gen1'\n",
    "#Assign Nan values to Chickens with Generation of Initial_Flock for hatch_date\n",
    "chickens_total_df.loc[chickens_total_df.Generation == 'Initial_Flock', 'Hatch_Date'] = np.nan\n",
    "chickens_total_df.loc[chickens_total_df.Generation == 'Gen1', 'Hatch_Date'] = np.random.choice(gen_one_dates_list, size=gen_one_lenght)\n",
    "chickens_total_df.loc[chickens_total_df.Generation == 'Gen2', 'Hatch_Date'] = np.random.choice(gen_two_dates_list, size=gen_two_lenght)\n",
    "\n",
    "#eggs_total_df\n",
    "chickens_total_df.head(7)"
   ]
  },
  {
   "cell_type": "code",
   "execution_count": 823,
   "id": "f08b64a4-a3f5-4939-9029-611103104d1d",
   "metadata": {
    "tags": []
   },
   "outputs": [
    {
     "data": {
      "text/plain": [
       "Index(['Name', 'Sex', 'Color', 'C_ID', 'Generation', 'Favorite_Song', 'E_ID',\n",
       "       'PH_Name', 'PH_ID', 'PR_ID', 'Hatch_Date'],\n",
       "      dtype='object')"
      ]
     },
     "execution_count": 823,
     "metadata": {},
     "output_type": "execute_result"
    }
   ],
   "source": [
    "chickens_total_df.columns"
   ]
  },
  {
   "cell_type": "code",
   "execution_count": 829,
   "id": "b19a733f-6d26-40ad-a8b3-65602842f139",
   "metadata": {
    "tags": []
   },
   "outputs": [
    {
     "data": {
      "text/html": [
       "<div>\n",
       "<style scoped>\n",
       "    .dataframe tbody tr th:only-of-type {\n",
       "        vertical-align: middle;\n",
       "    }\n",
       "\n",
       "    .dataframe tbody tr th {\n",
       "        vertical-align: top;\n",
       "    }\n",
       "\n",
       "    .dataframe thead th {\n",
       "        text-align: right;\n",
       "    }\n",
       "</style>\n",
       "<table border=\"1\" class=\"dataframe\">\n",
       "  <thead>\n",
       "    <tr style=\"text-align: right;\">\n",
       "      <th></th>\n",
       "      <th>Name</th>\n",
       "      <th>Favorite_Song</th>\n",
       "      <th>C_ID_t</th>\n",
       "      <th>E_ID_t</th>\n",
       "      <th>Mother</th>\n",
       "      <th>PH_ID_Chicken</th>\n",
       "      <th>PR_ID_Chicken</th>\n",
       "      <th>PH_Name_t</th>\n",
       "      <th>PH_ID_Egg</th>\n",
       "      <th>PR_ID_Egg</th>\n",
       "      <th>...</th>\n",
       "      <th>C_ID_Maternal_Father</th>\n",
       "      <th>E_ID_Maternal_Father</th>\n",
       "      <th>E_IDCM</th>\n",
       "      <th>Mother_I_LOC</th>\n",
       "      <th>E_ID_FatherIL</th>\n",
       "      <th>Father_I_LOC</th>\n",
       "      <th>E_ID</th>\n",
       "      <th>GrandMother_I_LOC</th>\n",
       "      <th>GrandFather_I_LOC</th>\n",
       "      <th>Cousin</th>\n",
       "    </tr>\n",
       "  </thead>\n",
       "  <tbody>\n",
       "    <tr>\n",
       "      <th>330</th>\n",
       "      <td>MERRIE</td>\n",
       "      <td>It's A Long Way To The Top</td>\n",
       "      <td>119618553.0</td>\n",
       "      <td>119618553.0</td>\n",
       "      <td>ASIA</td>\n",
       "      <td>417641352.0</td>\n",
       "      <td>159398693.0</td>\n",
       "      <td>ASIA</td>\n",
       "      <td>417641352.0</td>\n",
       "      <td>159398693.0</td>\n",
       "      <td>...</td>\n",
       "      <td>800981516</td>\n",
       "      <td>NaN</td>\n",
       "      <td>417641352</td>\n",
       "      <td>B</td>\n",
       "      <td>159398693</td>\n",
       "      <td>A</td>\n",
       "      <td>417641352</td>\n",
       "      <td>B</td>\n",
       "      <td>B</td>\n",
       "      <td>BREANA</td>\n",
       "    </tr>\n",
       "    <tr>\n",
       "      <th>331</th>\n",
       "      <td>Marlon</td>\n",
       "      <td>Monterey</td>\n",
       "      <td>255869639.0</td>\n",
       "      <td>255869639.0</td>\n",
       "      <td>ASIA</td>\n",
       "      <td>417641352.0</td>\n",
       "      <td>308487563.0</td>\n",
       "      <td>ASIA</td>\n",
       "      <td>417641352.0</td>\n",
       "      <td>308487563.0</td>\n",
       "      <td>...</td>\n",
       "      <td>800981516</td>\n",
       "      <td>NaN</td>\n",
       "      <td>417641352</td>\n",
       "      <td>B</td>\n",
       "      <td>308487563</td>\n",
       "      <td>B</td>\n",
       "      <td>417641352</td>\n",
       "      <td>B</td>\n",
       "      <td>B</td>\n",
       "      <td>NEREIDA</td>\n",
       "    </tr>\n",
       "    <tr>\n",
       "      <th>332</th>\n",
       "      <td>Adam</td>\n",
       "      <td>Freeway Jam</td>\n",
       "      <td>194294045.0</td>\n",
       "      <td>194294045.0</td>\n",
       "      <td>ASIA</td>\n",
       "      <td>417641352.0</td>\n",
       "      <td>547010066.0</td>\n",
       "      <td>ASIA</td>\n",
       "      <td>417641352.0</td>\n",
       "      <td>547010066.0</td>\n",
       "      <td>...</td>\n",
       "      <td>800981516</td>\n",
       "      <td>NaN</td>\n",
       "      <td>417641352</td>\n",
       "      <td>B</td>\n",
       "      <td>547010066</td>\n",
       "      <td>A</td>\n",
       "      <td>417641352</td>\n",
       "      <td>B</td>\n",
       "      <td>B</td>\n",
       "      <td>Easton</td>\n",
       "    </tr>\n",
       "    <tr>\n",
       "      <th>333</th>\n",
       "      <td>SHANAE</td>\n",
       "      <td>Love In An Elevator</td>\n",
       "      <td>353650490.0</td>\n",
       "      <td>353650490.0</td>\n",
       "      <td>ASIA</td>\n",
       "      <td>417641352.0</td>\n",
       "      <td>410735727.0</td>\n",
       "      <td>ASIA</td>\n",
       "      <td>417641352.0</td>\n",
       "      <td>410735727.0</td>\n",
       "      <td>...</td>\n",
       "      <td>800981516</td>\n",
       "      <td>NaN</td>\n",
       "      <td>417641352</td>\n",
       "      <td>B</td>\n",
       "      <td>410735727</td>\n",
       "      <td>C</td>\n",
       "      <td>417641352</td>\n",
       "      <td>B</td>\n",
       "      <td>B</td>\n",
       "      <td>Elian</td>\n",
       "    </tr>\n",
       "    <tr>\n",
       "      <th>334</th>\n",
       "      <td>Jacob</td>\n",
       "      <td>Who Are You</td>\n",
       "      <td>631368279.0</td>\n",
       "      <td>631368279.0</td>\n",
       "      <td>ASIA</td>\n",
       "      <td>417641352.0</td>\n",
       "      <td>410735727.0</td>\n",
       "      <td>ASIA</td>\n",
       "      <td>417641352.0</td>\n",
       "      <td>410735727.0</td>\n",
       "      <td>...</td>\n",
       "      <td>800981516</td>\n",
       "      <td>NaN</td>\n",
       "      <td>417641352</td>\n",
       "      <td>B</td>\n",
       "      <td>410735727</td>\n",
       "      <td>C</td>\n",
       "      <td>417641352</td>\n",
       "      <td>B</td>\n",
       "      <td>B</td>\n",
       "      <td>Rowan</td>\n",
       "    </tr>\n",
       "    <tr>\n",
       "      <th>...</th>\n",
       "      <td>...</td>\n",
       "      <td>...</td>\n",
       "      <td>...</td>\n",
       "      <td>...</td>\n",
       "      <td>...</td>\n",
       "      <td>...</td>\n",
       "      <td>...</td>\n",
       "      <td>...</td>\n",
       "      <td>...</td>\n",
       "      <td>...</td>\n",
       "      <td>...</td>\n",
       "      <td>...</td>\n",
       "      <td>...</td>\n",
       "      <td>...</td>\n",
       "      <td>...</td>\n",
       "      <td>...</td>\n",
       "      <td>...</td>\n",
       "      <td>...</td>\n",
       "      <td>...</td>\n",
       "      <td>...</td>\n",
       "      <td>...</td>\n",
       "    </tr>\n",
       "    <tr>\n",
       "      <th>1189</th>\n",
       "      <td>BIRGIT</td>\n",
       "      <td>Sweet Leaf</td>\n",
       "      <td>40569976.0</td>\n",
       "      <td>40569976.0</td>\n",
       "      <td>CAREN</td>\n",
       "      <td>606523844.0</td>\n",
       "      <td>742024162.0</td>\n",
       "      <td>CAREN</td>\n",
       "      <td>606523844.0</td>\n",
       "      <td>742024162.0</td>\n",
       "      <td>...</td>\n",
       "      <td>800981516</td>\n",
       "      <td>NaN</td>\n",
       "      <td>606523844</td>\n",
       "      <td>C</td>\n",
       "      <td>742024162</td>\n",
       "      <td>B</td>\n",
       "      <td>606523844</td>\n",
       "      <td>C</td>\n",
       "      <td>C</td>\n",
       "      <td>BREANA</td>\n",
       "    </tr>\n",
       "    <tr>\n",
       "      <th>1190</th>\n",
       "      <td>JACQUELYNE</td>\n",
       "      <td>Mysterious Ways</td>\n",
       "      <td>39312694.0</td>\n",
       "      <td>39312694.0</td>\n",
       "      <td>CAREN</td>\n",
       "      <td>606523844.0</td>\n",
       "      <td>742024162.0</td>\n",
       "      <td>CAREN</td>\n",
       "      <td>606523844.0</td>\n",
       "      <td>742024162.0</td>\n",
       "      <td>...</td>\n",
       "      <td>800981516</td>\n",
       "      <td>NaN</td>\n",
       "      <td>606523844</td>\n",
       "      <td>C</td>\n",
       "      <td>742024162</td>\n",
       "      <td>B</td>\n",
       "      <td>606523844</td>\n",
       "      <td>C</td>\n",
       "      <td>C</td>\n",
       "      <td>Elvis</td>\n",
       "    </tr>\n",
       "    <tr>\n",
       "      <th>1191</th>\n",
       "      <td>Antoine</td>\n",
       "      <td>Here Comes My Girl</td>\n",
       "      <td>30500594.0</td>\n",
       "      <td>30500594.0</td>\n",
       "      <td>CAREN</td>\n",
       "      <td>606523844.0</td>\n",
       "      <td>742024162.0</td>\n",
       "      <td>CAREN</td>\n",
       "      <td>606523844.0</td>\n",
       "      <td>742024162.0</td>\n",
       "      <td>...</td>\n",
       "      <td>800981516</td>\n",
       "      <td>NaN</td>\n",
       "      <td>606523844</td>\n",
       "      <td>C</td>\n",
       "      <td>742024162</td>\n",
       "      <td>B</td>\n",
       "      <td>606523844</td>\n",
       "      <td>C</td>\n",
       "      <td>C</td>\n",
       "      <td>Tanner</td>\n",
       "    </tr>\n",
       "    <tr>\n",
       "      <th>1192</th>\n",
       "      <td>Nehemiah</td>\n",
       "      <td>Gloria</td>\n",
       "      <td>741185015.0</td>\n",
       "      <td>741185015.0</td>\n",
       "      <td>CAREN</td>\n",
       "      <td>606523844.0</td>\n",
       "      <td>742024162.0</td>\n",
       "      <td>CAREN</td>\n",
       "      <td>606523844.0</td>\n",
       "      <td>742024162.0</td>\n",
       "      <td>...</td>\n",
       "      <td>800981516</td>\n",
       "      <td>NaN</td>\n",
       "      <td>606523844</td>\n",
       "      <td>C</td>\n",
       "      <td>742024162</td>\n",
       "      <td>B</td>\n",
       "      <td>606523844</td>\n",
       "      <td>C</td>\n",
       "      <td>C</td>\n",
       "      <td>MARDELL</td>\n",
       "    </tr>\n",
       "    <tr>\n",
       "      <th>1193</th>\n",
       "      <td>BREANA</td>\n",
       "      <td>Lightning Crashes</td>\n",
       "      <td>446630097.0</td>\n",
       "      <td>446630097.0</td>\n",
       "      <td>CAREN</td>\n",
       "      <td>606523844.0</td>\n",
       "      <td>673417016.0</td>\n",
       "      <td>CAREN</td>\n",
       "      <td>606523844.0</td>\n",
       "      <td>673417016.0</td>\n",
       "      <td>...</td>\n",
       "      <td>800981516</td>\n",
       "      <td>NaN</td>\n",
       "      <td>606523844</td>\n",
       "      <td>C</td>\n",
       "      <td>673417016</td>\n",
       "      <td>A</td>\n",
       "      <td>606523844</td>\n",
       "      <td>C</td>\n",
       "      <td>C</td>\n",
       "      <td>TAINA</td>\n",
       "    </tr>\n",
       "  </tbody>\n",
       "</table>\n",
       "<p>139 rows × 35 columns</p>\n",
       "</div>"
      ],
      "text/plain": [
       "            Name               Favorite_Song       C_ID_t       E_ID_t Mother  \\\n",
       "330       MERRIE  It's A Long Way To The Top  119618553.0  119618553.0   ASIA   \n",
       "331       Marlon                    Monterey  255869639.0  255869639.0   ASIA   \n",
       "332         Adam                 Freeway Jam  194294045.0  194294045.0   ASIA   \n",
       "333       SHANAE         Love In An Elevator  353650490.0  353650490.0   ASIA   \n",
       "334        Jacob                 Who Are You  631368279.0  631368279.0   ASIA   \n",
       "...          ...                         ...          ...          ...    ...   \n",
       "1189      BIRGIT                  Sweet Leaf   40569976.0   40569976.0  CAREN   \n",
       "1190  JACQUELYNE             Mysterious Ways   39312694.0   39312694.0  CAREN   \n",
       "1191     Antoine          Here Comes My Girl   30500594.0   30500594.0  CAREN   \n",
       "1192    Nehemiah                      Gloria  741185015.0  741185015.0  CAREN   \n",
       "1193      BREANA           Lightning Crashes  446630097.0  446630097.0  CAREN   \n",
       "\n",
       "     PH_ID_Chicken PR_ID_Chicken PH_Name_t    PH_ID_Egg    PR_ID_Egg  ...  \\\n",
       "330    417641352.0   159398693.0      ASIA  417641352.0  159398693.0  ...   \n",
       "331    417641352.0   308487563.0      ASIA  417641352.0  308487563.0  ...   \n",
       "332    417641352.0   547010066.0      ASIA  417641352.0  547010066.0  ...   \n",
       "333    417641352.0   410735727.0      ASIA  417641352.0  410735727.0  ...   \n",
       "334    417641352.0   410735727.0      ASIA  417641352.0  410735727.0  ...   \n",
       "...            ...           ...       ...          ...          ...  ...   \n",
       "1189   606523844.0   742024162.0     CAREN  606523844.0  742024162.0  ...   \n",
       "1190   606523844.0   742024162.0     CAREN  606523844.0  742024162.0  ...   \n",
       "1191   606523844.0   742024162.0     CAREN  606523844.0  742024162.0  ...   \n",
       "1192   606523844.0   742024162.0     CAREN  606523844.0  742024162.0  ...   \n",
       "1193   606523844.0   673417016.0     CAREN  606523844.0  673417016.0  ...   \n",
       "\n",
       "     C_ID_Maternal_Father E_ID_Maternal_Father     E_IDCM Mother_I_LOC  \\\n",
       "330             800981516                  NaN  417641352            B   \n",
       "331             800981516                  NaN  417641352            B   \n",
       "332             800981516                  NaN  417641352            B   \n",
       "333             800981516                  NaN  417641352            B   \n",
       "334             800981516                  NaN  417641352            B   \n",
       "...                   ...                  ...        ...          ...   \n",
       "1189            800981516                  NaN  606523844            C   \n",
       "1190            800981516                  NaN  606523844            C   \n",
       "1191            800981516                  NaN  606523844            C   \n",
       "1192            800981516                  NaN  606523844            C   \n",
       "1193            800981516                  NaN  606523844            C   \n",
       "\n",
       "     E_ID_FatherIL Father_I_LOC       E_ID GrandMother_I_LOC  \\\n",
       "330      159398693            A  417641352                 B   \n",
       "331      308487563            B  417641352                 B   \n",
       "332      547010066            A  417641352                 B   \n",
       "333      410735727            C  417641352                 B   \n",
       "334      410735727            C  417641352                 B   \n",
       "...            ...          ...        ...               ...   \n",
       "1189     742024162            B  606523844                 C   \n",
       "1190     742024162            B  606523844                 C   \n",
       "1191     742024162            B  606523844                 C   \n",
       "1192     742024162            B  606523844                 C   \n",
       "1193     673417016            A  606523844                 C   \n",
       "\n",
       "     GrandFather_I_LOC   Cousin  \n",
       "330                  B   BREANA  \n",
       "331                  B  NEREIDA  \n",
       "332                  B   Easton  \n",
       "333                  B    Elian  \n",
       "334                  B    Rowan  \n",
       "...                ...      ...  \n",
       "1189                 C   BREANA  \n",
       "1190                 C    Elvis  \n",
       "1191                 C   Tanner  \n",
       "1192                 C  MARDELL  \n",
       "1193                 C    TAINA  \n",
       "\n",
       "[139 rows x 35 columns]"
      ]
     },
     "execution_count": 829,
     "metadata": {},
     "output_type": "execute_result"
    }
   ],
   "source": [
    "liz_df"
   ]
  },
  {
   "cell_type": "code",
   "execution_count": 805,
   "id": "ae6a696c-8e84-4e3c-aec7-c4e734a387ce",
   "metadata": {
    "tags": []
   },
   "outputs": [
    {
     "data": {
      "text/plain": [
       "37435"
      ]
     },
     "execution_count": 805,
     "metadata": {},
     "output_type": "execute_result"
    }
   ],
   "source": [
    "eggs_total_df.shape[0]"
   ]
  },
  {
   "cell_type": "code",
   "execution_count": 806,
   "id": "542a2f9d-bd0e-4c77-943f-b7cbcec281d5",
   "metadata": {
    "tags": []
   },
   "outputs": [],
   "source": [
    "#Remove Eggs that Hatched into Chickens using a left outer join\n",
    "egg_only_df = pd.merge(eggs_total_df, chickens_total_df, how='outer', on='E_ID', indicator=True).query('_merge==\"left_only\"')"
   ]
  },
  {
   "cell_type": "code",
   "execution_count": 807,
   "id": "cb874719-7331-46c8-b303-23ac437f966b",
   "metadata": {
    "tags": []
   },
   "outputs": [
    {
     "data": {
      "text/plain": [
       "35662"
      ]
     },
     "execution_count": 807,
     "metadata": {},
     "output_type": "execute_result"
    }
   ],
   "source": [
    "egg_only_df.shape[0]"
   ]
  },
  {
   "cell_type": "code",
   "execution_count": 808,
   "id": "894d3ef5-9241-4eee-b71e-7b685e833d33",
   "metadata": {
    "tags": []
   },
   "outputs": [],
   "source": [
    "#egg_only_df.columns"
   ]
  },
  {
   "cell_type": "code",
   "execution_count": 809,
   "id": "9509e78e-b6c7-4222-a552-2d3c8723f1c9",
   "metadata": {
    "tags": []
   },
   "outputs": [
    {
     "data": {
      "text/html": [
       "<div>\n",
       "<style scoped>\n",
       "    .dataframe tbody tr th:only-of-type {\n",
       "        vertical-align: middle;\n",
       "    }\n",
       "\n",
       "    .dataframe tbody tr th {\n",
       "        vertical-align: top;\n",
       "    }\n",
       "\n",
       "    .dataframe thead th {\n",
       "        text-align: right;\n",
       "    }\n",
       "</style>\n",
       "<table border=\"1\" class=\"dataframe\">\n",
       "  <thead>\n",
       "    <tr style=\"text-align: right;\">\n",
       "      <th></th>\n",
       "      <th>E_ID</th>\n",
       "      <th>PH_Name_x</th>\n",
       "      <th>PH_ID_x</th>\n",
       "      <th>PR_ID_x</th>\n",
       "      <th>IH_LOC</th>\n",
       "      <th>NW</th>\n",
       "      <th>Parent_Gen</th>\n",
       "    </tr>\n",
       "  </thead>\n",
       "  <tbody>\n",
       "    <tr>\n",
       "      <th>0</th>\n",
       "      <td>592323119.0</td>\n",
       "      <td>Mary</td>\n",
       "      <td>225766667</td>\n",
       "      <td>800981516</td>\n",
       "      <td>C</td>\n",
       "      <td>False</td>\n",
       "      <td>Initial_Flock</td>\n",
       "    </tr>\n",
       "    <tr>\n",
       "      <th>2</th>\n",
       "      <td>729054692.0</td>\n",
       "      <td>Mary</td>\n",
       "      <td>225766667</td>\n",
       "      <td>800981516</td>\n",
       "      <td>B</td>\n",
       "      <td>True</td>\n",
       "      <td>Initial_Flock</td>\n",
       "    </tr>\n",
       "    <tr>\n",
       "      <th>3</th>\n",
       "      <td>630362478.0</td>\n",
       "      <td>Mary</td>\n",
       "      <td>225766667</td>\n",
       "      <td>800981516</td>\n",
       "      <td>A</td>\n",
       "      <td>False</td>\n",
       "      <td>Initial_Flock</td>\n",
       "    </tr>\n",
       "    <tr>\n",
       "      <th>4</th>\n",
       "      <td>796885249.0</td>\n",
       "      <td>Mary</td>\n",
       "      <td>225766667</td>\n",
       "      <td>800981516</td>\n",
       "      <td>A</td>\n",
       "      <td>False</td>\n",
       "      <td>Initial_Flock</td>\n",
       "    </tr>\n",
       "    <tr>\n",
       "      <th>6</th>\n",
       "      <td>413653244.0</td>\n",
       "      <td>Mary</td>\n",
       "      <td>225766667</td>\n",
       "      <td>800981516</td>\n",
       "      <td>B</td>\n",
       "      <td>True</td>\n",
       "      <td>Initial_Flock</td>\n",
       "    </tr>\n",
       "  </tbody>\n",
       "</table>\n",
       "</div>"
      ],
      "text/plain": [
       "          E_ID PH_Name_x    PH_ID_x    PR_ID_x IH_LOC     NW     Parent_Gen\n",
       "0  592323119.0      Mary  225766667  800981516      C  False  Initial_Flock\n",
       "2  729054692.0      Mary  225766667  800981516      B   True  Initial_Flock\n",
       "3  630362478.0      Mary  225766667  800981516      A  False  Initial_Flock\n",
       "4  796885249.0      Mary  225766667  800981516      A  False  Initial_Flock\n",
       "6  413653244.0      Mary  225766667  800981516      B   True  Initial_Flock"
      ]
     },
     "execution_count": 809,
     "metadata": {},
     "output_type": "execute_result"
    }
   ],
   "source": [
    "# Add Egg Dates to Eggs.\n",
    "#df.drop(['column_nameA', 'column_nameB'], axis=1, inplace=True)\n",
    "egg_only_df.drop(['Name', 'Sex', 'Color', 'C_ID', 'Generation', 'Favorite_Song', 'PH_Name_y', 'PH_ID_y', 'PR_ID_y', 'Hatch_Date', '_merge'], axis=1, inplace=True)\n",
    "\n",
    "egg_only_df.head(5)"
   ]
  },
  {
   "cell_type": "code",
   "execution_count": 810,
   "id": "dbb6a6b5-f874-4f58-8bf7-4d7b002ef837",
   "metadata": {
    "tags": []
   },
   "outputs": [
    {
     "data": {
      "text/html": [
       "<div>\n",
       "<style scoped>\n",
       "    .dataframe tbody tr th:only-of-type {\n",
       "        vertical-align: middle;\n",
       "    }\n",
       "\n",
       "    .dataframe tbody tr th {\n",
       "        vertical-align: top;\n",
       "    }\n",
       "\n",
       "    .dataframe thead th {\n",
       "        text-align: right;\n",
       "    }\n",
       "</style>\n",
       "<table border=\"1\" class=\"dataframe\">\n",
       "  <thead>\n",
       "    <tr style=\"text-align: right;\">\n",
       "      <th></th>\n",
       "      <th>E_ID</th>\n",
       "      <th>PH_Name_x</th>\n",
       "      <th>PH_ID_x</th>\n",
       "      <th>PR_ID_x</th>\n",
       "      <th>IH_LOC</th>\n",
       "      <th>NW</th>\n",
       "      <th>Parent_Gen</th>\n",
       "      <th>Egg_Date</th>\n",
       "    </tr>\n",
       "  </thead>\n",
       "  <tbody>\n",
       "    <tr>\n",
       "      <th>0</th>\n",
       "      <td>592323119.0</td>\n",
       "      <td>Mary</td>\n",
       "      <td>225766667</td>\n",
       "      <td>800981516</td>\n",
       "      <td>C</td>\n",
       "      <td>False</td>\n",
       "      <td>Initial_Flock</td>\n",
       "      <td>2020-12-16</td>\n",
       "    </tr>\n",
       "    <tr>\n",
       "      <th>2</th>\n",
       "      <td>729054692.0</td>\n",
       "      <td>Mary</td>\n",
       "      <td>225766667</td>\n",
       "      <td>800981516</td>\n",
       "      <td>B</td>\n",
       "      <td>True</td>\n",
       "      <td>Initial_Flock</td>\n",
       "      <td>2022-11-19</td>\n",
       "    </tr>\n",
       "    <tr>\n",
       "      <th>3</th>\n",
       "      <td>630362478.0</td>\n",
       "      <td>Mary</td>\n",
       "      <td>225766667</td>\n",
       "      <td>800981516</td>\n",
       "      <td>A</td>\n",
       "      <td>False</td>\n",
       "      <td>Initial_Flock</td>\n",
       "      <td>2021-01-09</td>\n",
       "    </tr>\n",
       "    <tr>\n",
       "      <th>4</th>\n",
       "      <td>796885249.0</td>\n",
       "      <td>Mary</td>\n",
       "      <td>225766667</td>\n",
       "      <td>800981516</td>\n",
       "      <td>A</td>\n",
       "      <td>False</td>\n",
       "      <td>Initial_Flock</td>\n",
       "      <td>2022-01-14</td>\n",
       "    </tr>\n",
       "    <tr>\n",
       "      <th>6</th>\n",
       "      <td>413653244.0</td>\n",
       "      <td>Mary</td>\n",
       "      <td>225766667</td>\n",
       "      <td>800981516</td>\n",
       "      <td>B</td>\n",
       "      <td>True</td>\n",
       "      <td>Initial_Flock</td>\n",
       "      <td>2022-08-22</td>\n",
       "    </tr>\n",
       "  </tbody>\n",
       "</table>\n",
       "</div>"
      ],
      "text/plain": [
       "          E_ID PH_Name_x    PH_ID_x    PR_ID_x IH_LOC     NW     Parent_Gen  \\\n",
       "0  592323119.0      Mary  225766667  800981516      C  False  Initial_Flock   \n",
       "2  729054692.0      Mary  225766667  800981516      B   True  Initial_Flock   \n",
       "3  630362478.0      Mary  225766667  800981516      A  False  Initial_Flock   \n",
       "4  796885249.0      Mary  225766667  800981516      A  False  Initial_Flock   \n",
       "6  413653244.0      Mary  225766667  800981516      B   True  Initial_Flock   \n",
       "\n",
       "    Egg_Date  \n",
       "0 2020-12-16  \n",
       "2 2022-11-19  \n",
       "3 2021-01-09  \n",
       "4 2022-01-14  \n",
       "6 2022-08-22  "
      ]
     },
     "execution_count": 810,
     "metadata": {},
     "output_type": "execute_result"
    }
   ],
   "source": [
    "egg_lenght = egg_only_df.shape[0]\n",
    "egg_only_df['Egg_Date'] = np.random.choice(gen_one_dates_list, size=egg_lenght)\n",
    "egg_only_df.head(5)"
   ]
  },
  {
   "cell_type": "markdown",
   "id": "ad64b821-a17f-46b7-b6b5-7589fecbc6b4",
   "metadata": {},
   "source": [
    "___"
   ]
  },
  {
   "cell_type": "markdown",
   "id": "3c8ea5f1-c6bc-4fd6-abea-355ac6d15a50",
   "metadata": {},
   "source": [
    "## Bonus Convert Dataframes to DuckDB database for integration with Metabse"
   ]
  },
  {
   "cell_type": "code",
   "execution_count": 831,
   "id": "665b1f50-fa19-40a9-90b2-d734c2b0cedc",
   "metadata": {
    "tags": []
   },
   "outputs": [],
   "source": [
    "#Connect jupysql to DuckDB using a SQLAlchemy-style connection string. Either connect to an in memory DuckDB, or a file backed db.\n",
    "\n",
    "%sql duckdb:///Coop/coop_fram_db.duckdb"
   ]
  },
  {
   "cell_type": "code",
   "execution_count": 832,
   "id": "2d50b1a2-d6bf-453d-8e22-01f15d5b3da5",
   "metadata": {
    "tags": []
   },
   "outputs": [
    {
     "data": {
      "text/html": [
       "<div>\n",
       "<style scoped>\n",
       "    .dataframe tbody tr th:only-of-type {\n",
       "        vertical-align: middle;\n",
       "    }\n",
       "\n",
       "    .dataframe tbody tr th {\n",
       "        vertical-align: top;\n",
       "    }\n",
       "\n",
       "    .dataframe thead th {\n",
       "        text-align: right;\n",
       "    }\n",
       "</style>\n",
       "<table border=\"1\" class=\"dataframe\">\n",
       "  <thead>\n",
       "    <tr style=\"text-align: right;\">\n",
       "      <th></th>\n",
       "      <th>Count</th>\n",
       "    </tr>\n",
       "  </thead>\n",
       "  <tbody>\n",
       "    <tr>\n",
       "      <th>0</th>\n",
       "      <td>1505</td>\n",
       "    </tr>\n",
       "  </tbody>\n",
       "</table>\n",
       "</div>"
      ],
      "text/plain": [
       "   Count\n",
       "0   1505"
      ]
     },
     "execution_count": 832,
     "metadata": {},
     "output_type": "execute_result"
    }
   ],
   "source": [
    "### Convert all the necessary Dataframes to DuckDB database for integration with Metabse\n",
    "# create the table \"my_table\" from the DataFrame \"my_df\"\n",
    "%sql CREATE TABLE chicken_name_tags as select * from name_tags_df ;"
   ]
  },
  {
   "cell_type": "code",
   "execution_count": 833,
   "id": "c64cbb2c-640f-43ae-8f6b-598f4f97f26b",
   "metadata": {
    "tags": []
   },
   "outputs": [
    {
     "data": {
      "text/html": [
       "<div>\n",
       "<style scoped>\n",
       "    .dataframe tbody tr th:only-of-type {\n",
       "        vertical-align: middle;\n",
       "    }\n",
       "\n",
       "    .dataframe tbody tr th {\n",
       "        vertical-align: top;\n",
       "    }\n",
       "\n",
       "    .dataframe thead th {\n",
       "        text-align: right;\n",
       "    }\n",
       "</style>\n",
       "<table border=\"1\" class=\"dataframe\">\n",
       "  <thead>\n",
       "    <tr style=\"text-align: right;\">\n",
       "      <th></th>\n",
       "      <th>Count</th>\n",
       "    </tr>\n",
       "  </thead>\n",
       "  <tbody>\n",
       "    <tr>\n",
       "      <th>0</th>\n",
       "      <td>1505</td>\n",
       "    </tr>\n",
       "  </tbody>\n",
       "</table>\n",
       "</div>"
      ],
      "text/plain": [
       "   Count\n",
       "0   1505"
      ]
     },
     "execution_count": 833,
     "metadata": {},
     "output_type": "execute_result"
    }
   ],
   "source": [
    "# insert into the table \"chicken_name_tags\" from the DataFrame \"name_tags_df\"\n",
    "%sql INSERT INTO chicken_name_tags SELECT * FROM name_tags_df;"
   ]
  },
  {
   "cell_type": "code",
   "execution_count": 834,
   "id": "9a545697-1e28-4ef8-b6c5-8eb0ac6d2021",
   "metadata": {
    "tags": []
   },
   "outputs": [
    {
     "data": {
      "text/html": [
       "<div>\n",
       "<style scoped>\n",
       "    .dataframe tbody tr th:only-of-type {\n",
       "        vertical-align: middle;\n",
       "    }\n",
       "\n",
       "    .dataframe tbody tr th {\n",
       "        vertical-align: top;\n",
       "    }\n",
       "\n",
       "    .dataframe thead th {\n",
       "        text-align: right;\n",
       "    }\n",
       "</style>\n",
       "<table border=\"1\" class=\"dataframe\">\n",
       "  <thead>\n",
       "    <tr style=\"text-align: right;\">\n",
       "      <th></th>\n",
       "      <th>Name</th>\n",
       "      <th>Favorite_Song</th>\n",
       "      <th>Mother</th>\n",
       "      <th>Father</th>\n",
       "      <th>GrandMother</th>\n",
       "      <th>GrandFather</th>\n",
       "      <th>I_LOC</th>\n",
       "      <th>Mother_I_LOC</th>\n",
       "      <th>Father_I_LOC</th>\n",
       "      <th>GrandMother_I_LOC</th>\n",
       "      <th>GrandFather_I_LOC</th>\n",
       "      <th>Cousin</th>\n",
       "    </tr>\n",
       "  </thead>\n",
       "  <tbody>\n",
       "    <tr>\n",
       "      <th>0</th>\n",
       "      <td>JI</td>\n",
       "      <td>Band on the Run</td>\n",
       "      <td>SIGRID</td>\n",
       "      <td>Rowan</td>\n",
       "      <td>Pat</td>\n",
       "      <td>Ralph</td>\n",
       "      <td>C</td>\n",
       "      <td>B</td>\n",
       "      <td>A</td>\n",
       "      <td>B</td>\n",
       "      <td>B</td>\n",
       "      <td>ELKE</td>\n",
       "    </tr>\n",
       "    <tr>\n",
       "      <th>1</th>\n",
       "      <td>ODELL</td>\n",
       "      <td>Urgent</td>\n",
       "      <td>SIGRID</td>\n",
       "      <td>Darius</td>\n",
       "      <td>Pat</td>\n",
       "      <td>Ralph</td>\n",
       "      <td>B</td>\n",
       "      <td>B</td>\n",
       "      <td>B</td>\n",
       "      <td>B</td>\n",
       "      <td>B</td>\n",
       "      <td>THANH</td>\n",
       "    </tr>\n",
       "    <tr>\n",
       "      <th>2</th>\n",
       "      <td>Kameron</td>\n",
       "      <td>Cum On Feel the Noize</td>\n",
       "      <td>SIGRID</td>\n",
       "      <td>Easton</td>\n",
       "      <td>Pat</td>\n",
       "      <td>Ralph</td>\n",
       "      <td>C</td>\n",
       "      <td>B</td>\n",
       "      <td>A</td>\n",
       "      <td>B</td>\n",
       "      <td>B</td>\n",
       "      <td>EDYTHE</td>\n",
       "    </tr>\n",
       "    <tr>\n",
       "      <th>3</th>\n",
       "      <td>KASSIE</td>\n",
       "      <td>Ballroom Blitz</td>\n",
       "      <td>SIGRID</td>\n",
       "      <td>Devin</td>\n",
       "      <td>Pat</td>\n",
       "      <td>Ralph</td>\n",
       "      <td>A</td>\n",
       "      <td>B</td>\n",
       "      <td>A</td>\n",
       "      <td>B</td>\n",
       "      <td>B</td>\n",
       "      <td>JUANA</td>\n",
       "    </tr>\n",
       "    <tr>\n",
       "      <th>4</th>\n",
       "      <td>Alex</td>\n",
       "      <td>Baker Street</td>\n",
       "      <td>SIGRID</td>\n",
       "      <td>Brad</td>\n",
       "      <td>Pat</td>\n",
       "      <td>Ralph</td>\n",
       "      <td>B</td>\n",
       "      <td>B</td>\n",
       "      <td>B</td>\n",
       "      <td>B</td>\n",
       "      <td>B</td>\n",
       "      <td>Drake</td>\n",
       "    </tr>\n",
       "    <tr>\n",
       "      <th>...</th>\n",
       "      <td>...</td>\n",
       "      <td>...</td>\n",
       "      <td>...</td>\n",
       "      <td>...</td>\n",
       "      <td>...</td>\n",
       "      <td>...</td>\n",
       "      <td>...</td>\n",
       "      <td>...</td>\n",
       "      <td>...</td>\n",
       "      <td>...</td>\n",
       "      <td>...</td>\n",
       "      <td>...</td>\n",
       "    </tr>\n",
       "    <tr>\n",
       "      <th>3005</th>\n",
       "      <td>Justus</td>\n",
       "      <td>Love Me Two Times</td>\n",
       "      <td>ONITA</td>\n",
       "      <td>Ronaldo</td>\n",
       "      <td>Barb</td>\n",
       "      <td>Ralph</td>\n",
       "      <td>A</td>\n",
       "      <td>A</td>\n",
       "      <td>C</td>\n",
       "      <td>A</td>\n",
       "      <td>A</td>\n",
       "      <td>ALLEEN</td>\n",
       "    </tr>\n",
       "    <tr>\n",
       "      <th>3006</th>\n",
       "      <td>SAMANTHA</td>\n",
       "      <td>Love Hurts</td>\n",
       "      <td>ONITA</td>\n",
       "      <td>Daquan</td>\n",
       "      <td>Barb</td>\n",
       "      <td>Ralph</td>\n",
       "      <td>B</td>\n",
       "      <td>A</td>\n",
       "      <td>C</td>\n",
       "      <td>A</td>\n",
       "      <td>A</td>\n",
       "      <td>Miles</td>\n",
       "    </tr>\n",
       "    <tr>\n",
       "      <th>3007</th>\n",
       "      <td>Don</td>\n",
       "      <td>Proud Mary</td>\n",
       "      <td>ONITA</td>\n",
       "      <td>Gustavo</td>\n",
       "      <td>Barb</td>\n",
       "      <td>Ralph</td>\n",
       "      <td>A</td>\n",
       "      <td>A</td>\n",
       "      <td>B</td>\n",
       "      <td>A</td>\n",
       "      <td>A</td>\n",
       "      <td>CLAUDE</td>\n",
       "    </tr>\n",
       "    <tr>\n",
       "      <th>3008</th>\n",
       "      <td>MALLIE</td>\n",
       "      <td>Day Tripper</td>\n",
       "      <td>ONITA</td>\n",
       "      <td>Jorden</td>\n",
       "      <td>Barb</td>\n",
       "      <td>Ralph</td>\n",
       "      <td>B</td>\n",
       "      <td>A</td>\n",
       "      <td>B</td>\n",
       "      <td>A</td>\n",
       "      <td>A</td>\n",
       "      <td>JESSI</td>\n",
       "    </tr>\n",
       "    <tr>\n",
       "      <th>3009</th>\n",
       "      <td>Glen</td>\n",
       "      <td>Jackie Wilson Said</td>\n",
       "      <td>ONITA</td>\n",
       "      <td>Rohan</td>\n",
       "      <td>Barb</td>\n",
       "      <td>Ralph</td>\n",
       "      <td>C</td>\n",
       "      <td>A</td>\n",
       "      <td>C</td>\n",
       "      <td>A</td>\n",
       "      <td>A</td>\n",
       "      <td>LASHAWN</td>\n",
       "    </tr>\n",
       "  </tbody>\n",
       "</table>\n",
       "<p>3010 rows × 12 columns</p>\n",
       "</div>"
      ],
      "text/plain": [
       "          Name          Favorite_Song  Mother   Father GrandMother  \\\n",
       "0           JI        Band on the Run  SIGRID    Rowan         Pat   \n",
       "1        ODELL                 Urgent  SIGRID   Darius         Pat   \n",
       "2      Kameron  Cum On Feel the Noize  SIGRID   Easton         Pat   \n",
       "3       KASSIE         Ballroom Blitz  SIGRID    Devin         Pat   \n",
       "4         Alex           Baker Street  SIGRID     Brad         Pat   \n",
       "...        ...                    ...     ...      ...         ...   \n",
       "3005    Justus      Love Me Two Times   ONITA  Ronaldo        Barb   \n",
       "3006  SAMANTHA             Love Hurts   ONITA   Daquan        Barb   \n",
       "3007       Don             Proud Mary   ONITA  Gustavo        Barb   \n",
       "3008    MALLIE            Day Tripper   ONITA   Jorden        Barb   \n",
       "3009      Glen     Jackie Wilson Said   ONITA    Rohan        Barb   \n",
       "\n",
       "     GrandFather I_LOC Mother_I_LOC Father_I_LOC GrandMother_I_LOC  \\\n",
       "0          Ralph     C            B            A                 B   \n",
       "1          Ralph     B            B            B                 B   \n",
       "2          Ralph     C            B            A                 B   \n",
       "3          Ralph     A            B            A                 B   \n",
       "4          Ralph     B            B            B                 B   \n",
       "...          ...   ...          ...          ...               ...   \n",
       "3005       Ralph     A            A            C                 A   \n",
       "3006       Ralph     B            A            C                 A   \n",
       "3007       Ralph     A            A            B                 A   \n",
       "3008       Ralph     B            A            B                 A   \n",
       "3009       Ralph     C            A            C                 A   \n",
       "\n",
       "     GrandFather_I_LOC   Cousin  \n",
       "0                    B     ELKE  \n",
       "1                    B    THANH  \n",
       "2                    B   EDYTHE  \n",
       "3                    B    JUANA  \n",
       "4                    B    Drake  \n",
       "...                ...      ...  \n",
       "3005                 A   ALLEEN  \n",
       "3006                 A    Miles  \n",
       "3007                 A   CLAUDE  \n",
       "3008                 A    JESSI  \n",
       "3009                 A  LASHAWN  \n",
       "\n",
       "[3010 rows x 12 columns]"
      ]
     },
     "execution_count": 834,
     "metadata": {},
     "output_type": "execute_result"
    }
   ],
   "source": [
    "#Execute a Select query to see all the table data in the chicken_name_tags table\n",
    "%sql select * from chicken_name_tags;"
   ]
  },
  {
   "cell_type": "code",
   "execution_count": 835,
   "id": "ee7afbea-70dd-4078-ade0-6403bd96e53c",
   "metadata": {
    "tags": []
   },
   "outputs": [
    {
     "data": {
      "text/html": [
       "<div>\n",
       "<style scoped>\n",
       "    .dataframe tbody tr th:only-of-type {\n",
       "        vertical-align: middle;\n",
       "    }\n",
       "\n",
       "    .dataframe tbody tr th {\n",
       "        vertical-align: top;\n",
       "    }\n",
       "\n",
       "    .dataframe thead th {\n",
       "        text-align: right;\n",
       "    }\n",
       "</style>\n",
       "<table border=\"1\" class=\"dataframe\">\n",
       "  <thead>\n",
       "    <tr style=\"text-align: right;\">\n",
       "      <th></th>\n",
       "      <th>name</th>\n",
       "    </tr>\n",
       "  </thead>\n",
       "  <tbody>\n",
       "    <tr>\n",
       "      <th>0</th>\n",
       "      <td>chicken_name_tags</td>\n",
       "    </tr>\n",
       "  </tbody>\n",
       "</table>\n",
       "</div>"
      ],
      "text/plain": [
       "                name\n",
       "0  chicken_name_tags"
      ]
     },
     "execution_count": 835,
     "metadata": {},
     "output_type": "execute_result"
    }
   ],
   "source": [
    "#Show Tables in the DucDB Database\n",
    "%sql show tables;"
   ]
  },
  {
   "cell_type": "code",
   "execution_count": 836,
   "id": "2dce82c3-43a7-4e37-9dd9-cc92ac41679f",
   "metadata": {
    "tags": []
   },
   "outputs": [],
   "source": [
    "#Investigate and import the additional Dataframes in to DuckDB Tables."
   ]
  },
  {
   "cell_type": "code",
   "execution_count": 837,
   "id": "113583ce-ef50-40db-b8f9-c942ca36c705",
   "metadata": {
    "tags": []
   },
   "outputs": [],
   "source": [
    "#List of Dataframes to ingest into DuckDB Tables\n",
    "#Songs table dataframe - \n",
    "dataframes = ['songs_df', 'egg_only_df', 'chickens_total_df','int_tags_df', 'barb_df', 'liz_df', 'mary_df', 'pat_df', 'name_tags_full_df']\n",
    "#name_tags_df - Already Ingested"
   ]
  },
  {
   "cell_type": "code",
   "execution_count": 838,
   "id": "a14c5a29-1e95-4f21-8e62-a48e96f474f6",
   "metadata": {
    "tags": []
   },
   "outputs": [
    {
     "data": {
      "text/plain": [
       "['songs_df',\n",
       " 'egg_only_df',\n",
       " 'chickens_total_df',\n",
       " 'int_tags_df',\n",
       " 'barb_df',\n",
       " 'liz_df',\n",
       " 'mary_df',\n",
       " 'pat_df',\n",
       " 'name_tags_full_df']"
      ]
     },
     "execution_count": 838,
     "metadata": {},
     "output_type": "execute_result"
    }
   ],
   "source": [
    "dataframes"
   ]
  },
  {
   "cell_type": "code",
   "execution_count": 839,
   "id": "c810ea1d-c1db-42a4-a7cb-4ec33349d244",
   "metadata": {
    "tags": []
   },
   "outputs": [
    {
     "name": "stdout",
     "output_type": "stream",
     "text": [
      "creating table: songs_df\n",
      "creating table: egg_only_df\n",
      "creating table: chickens_total_df\n",
      "creating table: int_tags_df\n",
      "creating table: barb_df\n",
      "creating table: liz_df\n",
      "creating table: mary_df\n",
      "creating table: pat_df\n",
      "creating table: name_tags_full_df\n"
     ]
    }
   ],
   "source": [
    "#Loop and Create Table, import and convert to Parquet in Duckdb.duckdb\n",
    "\n",
    "for dataframe in dataframes:\n",
    "    print(\"creating table:\", dataframe)\n",
    "    %sql CREATE TABLE {dataframe} as select * from {dataframe} ;\n",
    "    %sql INSERT INTO {dataframe} SELECT * FROM {dataframe};\n",
    "    \n",
    "    #%sql COPY {table} TO '{table}.parquet' (FORMAT PARQUET);"
   ]
  },
  {
   "cell_type": "code",
   "execution_count": 840,
   "id": "4ed78e20-2d07-4065-8d61-38a4891662c8",
   "metadata": {
    "tags": []
   },
   "outputs": [
    {
     "data": {
      "text/html": [
       "<div>\n",
       "<style scoped>\n",
       "    .dataframe tbody tr th:only-of-type {\n",
       "        vertical-align: middle;\n",
       "    }\n",
       "\n",
       "    .dataframe tbody tr th {\n",
       "        vertical-align: top;\n",
       "    }\n",
       "\n",
       "    .dataframe thead th {\n",
       "        text-align: right;\n",
       "    }\n",
       "</style>\n",
       "<table border=\"1\" class=\"dataframe\">\n",
       "  <thead>\n",
       "    <tr style=\"text-align: right;\">\n",
       "      <th></th>\n",
       "      <th>Name</th>\n",
       "      <th>Favorite_Song</th>\n",
       "      <th>Mother</th>\n",
       "      <th>Father</th>\n",
       "      <th>GrandMother</th>\n",
       "      <th>GrandFather</th>\n",
       "      <th>I_LOC</th>\n",
       "      <th>Mother_I_LOC</th>\n",
       "      <th>Father_I_LOC</th>\n",
       "      <th>GrandMother_I_LOC</th>\n",
       "      <th>GrandFather_I_LOC</th>\n",
       "      <th>Cousin</th>\n",
       "    </tr>\n",
       "  </thead>\n",
       "  <tbody>\n",
       "    <tr>\n",
       "      <th>0</th>\n",
       "      <td>JI</td>\n",
       "      <td>Band on the Run</td>\n",
       "      <td>SIGRID</td>\n",
       "      <td>Rowan</td>\n",
       "      <td>Pat</td>\n",
       "      <td>Ralph</td>\n",
       "      <td>C</td>\n",
       "      <td>B</td>\n",
       "      <td>A</td>\n",
       "      <td>B</td>\n",
       "      <td>B</td>\n",
       "      <td>ELKE</td>\n",
       "    </tr>\n",
       "    <tr>\n",
       "      <th>1</th>\n",
       "      <td>ODELL</td>\n",
       "      <td>Urgent</td>\n",
       "      <td>SIGRID</td>\n",
       "      <td>Darius</td>\n",
       "      <td>Pat</td>\n",
       "      <td>Ralph</td>\n",
       "      <td>B</td>\n",
       "      <td>B</td>\n",
       "      <td>B</td>\n",
       "      <td>B</td>\n",
       "      <td>B</td>\n",
       "      <td>THANH</td>\n",
       "    </tr>\n",
       "    <tr>\n",
       "      <th>2</th>\n",
       "      <td>Kameron</td>\n",
       "      <td>Cum On Feel the Noize</td>\n",
       "      <td>SIGRID</td>\n",
       "      <td>Easton</td>\n",
       "      <td>Pat</td>\n",
       "      <td>Ralph</td>\n",
       "      <td>C</td>\n",
       "      <td>B</td>\n",
       "      <td>A</td>\n",
       "      <td>B</td>\n",
       "      <td>B</td>\n",
       "      <td>EDYTHE</td>\n",
       "    </tr>\n",
       "    <tr>\n",
       "      <th>3</th>\n",
       "      <td>KASSIE</td>\n",
       "      <td>Ballroom Blitz</td>\n",
       "      <td>SIGRID</td>\n",
       "      <td>Devin</td>\n",
       "      <td>Pat</td>\n",
       "      <td>Ralph</td>\n",
       "      <td>A</td>\n",
       "      <td>B</td>\n",
       "      <td>A</td>\n",
       "      <td>B</td>\n",
       "      <td>B</td>\n",
       "      <td>JUANA</td>\n",
       "    </tr>\n",
       "    <tr>\n",
       "      <th>4</th>\n",
       "      <td>Alex</td>\n",
       "      <td>Baker Street</td>\n",
       "      <td>SIGRID</td>\n",
       "      <td>Brad</td>\n",
       "      <td>Pat</td>\n",
       "      <td>Ralph</td>\n",
       "      <td>B</td>\n",
       "      <td>B</td>\n",
       "      <td>B</td>\n",
       "      <td>B</td>\n",
       "      <td>B</td>\n",
       "      <td>Drake</td>\n",
       "    </tr>\n",
       "    <tr>\n",
       "      <th>...</th>\n",
       "      <td>...</td>\n",
       "      <td>...</td>\n",
       "      <td>...</td>\n",
       "      <td>...</td>\n",
       "      <td>...</td>\n",
       "      <td>...</td>\n",
       "      <td>...</td>\n",
       "      <td>...</td>\n",
       "      <td>...</td>\n",
       "      <td>...</td>\n",
       "      <td>...</td>\n",
       "      <td>...</td>\n",
       "    </tr>\n",
       "    <tr>\n",
       "      <th>3005</th>\n",
       "      <td>Justus</td>\n",
       "      <td>Love Me Two Times</td>\n",
       "      <td>ONITA</td>\n",
       "      <td>Ronaldo</td>\n",
       "      <td>Barb</td>\n",
       "      <td>Ralph</td>\n",
       "      <td>A</td>\n",
       "      <td>A</td>\n",
       "      <td>C</td>\n",
       "      <td>A</td>\n",
       "      <td>A</td>\n",
       "      <td>ALLEEN</td>\n",
       "    </tr>\n",
       "    <tr>\n",
       "      <th>3006</th>\n",
       "      <td>SAMANTHA</td>\n",
       "      <td>Love Hurts</td>\n",
       "      <td>ONITA</td>\n",
       "      <td>Daquan</td>\n",
       "      <td>Barb</td>\n",
       "      <td>Ralph</td>\n",
       "      <td>B</td>\n",
       "      <td>A</td>\n",
       "      <td>C</td>\n",
       "      <td>A</td>\n",
       "      <td>A</td>\n",
       "      <td>Miles</td>\n",
       "    </tr>\n",
       "    <tr>\n",
       "      <th>3007</th>\n",
       "      <td>Don</td>\n",
       "      <td>Proud Mary</td>\n",
       "      <td>ONITA</td>\n",
       "      <td>Gustavo</td>\n",
       "      <td>Barb</td>\n",
       "      <td>Ralph</td>\n",
       "      <td>A</td>\n",
       "      <td>A</td>\n",
       "      <td>B</td>\n",
       "      <td>A</td>\n",
       "      <td>A</td>\n",
       "      <td>CLAUDE</td>\n",
       "    </tr>\n",
       "    <tr>\n",
       "      <th>3008</th>\n",
       "      <td>MALLIE</td>\n",
       "      <td>Day Tripper</td>\n",
       "      <td>ONITA</td>\n",
       "      <td>Jorden</td>\n",
       "      <td>Barb</td>\n",
       "      <td>Ralph</td>\n",
       "      <td>B</td>\n",
       "      <td>A</td>\n",
       "      <td>B</td>\n",
       "      <td>A</td>\n",
       "      <td>A</td>\n",
       "      <td>JESSI</td>\n",
       "    </tr>\n",
       "    <tr>\n",
       "      <th>3009</th>\n",
       "      <td>Glen</td>\n",
       "      <td>Jackie Wilson Said</td>\n",
       "      <td>ONITA</td>\n",
       "      <td>Rohan</td>\n",
       "      <td>Barb</td>\n",
       "      <td>Ralph</td>\n",
       "      <td>C</td>\n",
       "      <td>A</td>\n",
       "      <td>C</td>\n",
       "      <td>A</td>\n",
       "      <td>A</td>\n",
       "      <td>LASHAWN</td>\n",
       "    </tr>\n",
       "  </tbody>\n",
       "</table>\n",
       "<p>3010 rows × 12 columns</p>\n",
       "</div>"
      ],
      "text/plain": [
       "          Name          Favorite_Song  Mother   Father GrandMother  \\\n",
       "0           JI        Band on the Run  SIGRID    Rowan         Pat   \n",
       "1        ODELL                 Urgent  SIGRID   Darius         Pat   \n",
       "2      Kameron  Cum On Feel the Noize  SIGRID   Easton         Pat   \n",
       "3       KASSIE         Ballroom Blitz  SIGRID    Devin         Pat   \n",
       "4         Alex           Baker Street  SIGRID     Brad         Pat   \n",
       "...        ...                    ...     ...      ...         ...   \n",
       "3005    Justus      Love Me Two Times   ONITA  Ronaldo        Barb   \n",
       "3006  SAMANTHA             Love Hurts   ONITA   Daquan        Barb   \n",
       "3007       Don             Proud Mary   ONITA  Gustavo        Barb   \n",
       "3008    MALLIE            Day Tripper   ONITA   Jorden        Barb   \n",
       "3009      Glen     Jackie Wilson Said   ONITA    Rohan        Barb   \n",
       "\n",
       "     GrandFather I_LOC Mother_I_LOC Father_I_LOC GrandMother_I_LOC  \\\n",
       "0          Ralph     C            B            A                 B   \n",
       "1          Ralph     B            B            B                 B   \n",
       "2          Ralph     C            B            A                 B   \n",
       "3          Ralph     A            B            A                 B   \n",
       "4          Ralph     B            B            B                 B   \n",
       "...          ...   ...          ...          ...               ...   \n",
       "3005       Ralph     A            A            C                 A   \n",
       "3006       Ralph     B            A            C                 A   \n",
       "3007       Ralph     A            A            B                 A   \n",
       "3008       Ralph     B            A            B                 A   \n",
       "3009       Ralph     C            A            C                 A   \n",
       "\n",
       "     GrandFather_I_LOC   Cousin  \n",
       "0                    B     ELKE  \n",
       "1                    B    THANH  \n",
       "2                    B   EDYTHE  \n",
       "3                    B    JUANA  \n",
       "4                    B    Drake  \n",
       "...                ...      ...  \n",
       "3005                 A   ALLEEN  \n",
       "3006                 A    Miles  \n",
       "3007                 A   CLAUDE  \n",
       "3008                 A    JESSI  \n",
       "3009                 A  LASHAWN  \n",
       "\n",
       "[3010 rows x 12 columns]"
      ]
     },
     "execution_count": 840,
     "metadata": {},
     "output_type": "execute_result"
    }
   ],
   "source": [
    "%sql select * from chicken_name_tags;"
   ]
  },
  {
   "cell_type": "code",
   "execution_count": 841,
   "id": "9614b52d-6003-4db1-bd4a-eee8e1dbe4e8",
   "metadata": {},
   "outputs": [
    {
     "data": {
      "text/html": [
       "<div>\n",
       "<style scoped>\n",
       "    .dataframe tbody tr th:only-of-type {\n",
       "        vertical-align: middle;\n",
       "    }\n",
       "\n",
       "    .dataframe tbody tr th {\n",
       "        vertical-align: top;\n",
       "    }\n",
       "\n",
       "    .dataframe thead th {\n",
       "        text-align: right;\n",
       "    }\n",
       "</style>\n",
       "<table border=\"1\" class=\"dataframe\">\n",
       "  <thead>\n",
       "    <tr style=\"text-align: right;\">\n",
       "      <th></th>\n",
       "    </tr>\n",
       "  </thead>\n",
       "  <tbody>\n",
       "  </tbody>\n",
       "</table>\n",
       "</div>"
      ],
      "text/plain": [
       "Empty DataFrame\n",
       "Columns: []\n",
       "Index: []"
      ]
     },
     "execution_count": 841,
     "metadata": {},
     "output_type": "execute_result"
    }
   ],
   "source": [
    "#After testing - discovered Metabase doesn't currently support the latest version of DuckDB so we export the database as a set\n",
    "#of Parquet files which allow us to use in the Metabase DuckDB connection as files.d\n",
    "%sql EXPORT DATABASE 'Coop' (FORMAT PARQUET);"
   ]
  },
  {
   "cell_type": "code",
   "execution_count": null,
   "id": "37b87569-4680-4fa2-b040-2cdf23bf8049",
   "metadata": {},
   "outputs": [],
   "source": []
  }
 ],
 "metadata": {
  "kernelspec": {
   "display_name": "Python 3 (ipykernel)",
   "language": "python",
   "name": "python3"
  },
  "language_info": {
   "codemirror_mode": {
    "name": "ipython",
    "version": 3
   },
   "file_extension": ".py",
   "mimetype": "text/x-python",
   "name": "python",
   "nbconvert_exporter": "python",
   "pygments_lexer": "ipython3",
   "version": "3.11.0"
  }
 },
 "nbformat": 4,
 "nbformat_minor": 5
}
